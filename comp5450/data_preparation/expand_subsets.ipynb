{
 "cells": [
  {
   "cell_type": "code",
   "execution_count": 1,
   "metadata": {},
   "outputs": [],
   "source": [
    "from csv import DictReader\n",
    "\n",
    "with open('subset_train.csv', 'r') as csv_file:\n",
    "    reader = DictReader(csv_file)\n",
    "    rows_train = [r for r in reader]\n",
    "csv_file.close()\n",
    "\n",
    "with open('subset_valid.csv', 'r') as csv_file:\n",
    "    reader = DictReader(csv_file)\n",
    "    rows_valid = [r for r in reader]\n",
    "csv_file.close()\n",
    "\n",
    "with open('subset_test.csv', 'r') as csv_file:\n",
    "    reader = DictReader(csv_file)\n",
    "    rows_test = [r for r in reader]\n",
    "csv_file.close()"
   ]
  },
  {
   "cell_type": "code",
   "execution_count": 2,
   "metadata": {},
   "outputs": [],
   "source": [
    "train_no_failure, train_failure = [], []\n",
    "for row in rows_train:\n",
    "    if row['Machine failure'] == '0':\n",
    "        train_no_failure.append(row)\n",
    "    else:\n",
    "        train_failure.append(row)\n",
    "\n",
    "valid_no_failure, valid_failure = [], []\n",
    "for row in rows_valid:\n",
    "    if row['Machine failure'] == '0':\n",
    "        valid_no_failure.append(row)\n",
    "    else:\n",
    "        valid_failure.append(row)\n",
    "\n",
    "test_no_failure, test_failure = [], []\n",
    "for row in rows_test:\n",
    "    if row['Machine failure'] == '0':\n",
    "        test_no_failure.append(row)\n",
    "    else:\n",
    "        test_failure.append(row)"
   ]
  },
  {
   "cell_type": "code",
   "execution_count": 9,
   "metadata": {},
   "outputs": [],
   "source": [
    "train_fail_mult = int(len(train_no_failure) / len(train_failure))\n",
    "valid_fail_mult = int(len(valid_no_failure) / len(valid_failure))\n",
    "test_fail_mult = int(len(test_no_failure) / len(test_failure))\n",
    "\n",
    "train_new = train_no_failure[:]\n",
    "for _ in range(train_fail_mult + 1):\n",
    "    train_new.extend(train_failure)\n",
    "\n",
    "valid_new = valid_no_failure[:]\n",
    "for _ in range(valid_fail_mult + 1):\n",
    "    valid_new.extend(valid_failure)\n",
    "\n",
    "test_new = test_no_failure[:]\n",
    "for _ in range(test_fail_mult + 1):\n",
    "    test_new.extend(test_failure)"
   ]
  },
  {
   "cell_type": "code",
   "execution_count": null,
   "metadata": {},
   "outputs": [],
   "source": [
    "from csv import DictWriter\n",
    "\n",
    "headers = list(train_new[0].keys())\n",
    "\n",
    "with open('subset_train_expanded.csv', 'w', encoding='utf8') as csv_file:\n",
    "    writer = DictWriter(csv_file, headers, delimiter=',', lineterminator='\\n')\n",
    "    writer.writeheader()\n",
    "    writer.writerows(train_new)\n",
    "csv_file.close()\n",
    "\n",
    "with open('subset_valid_expanded.csv', 'w', encoding='utf8') as csv_file:\n",
    "    writer = DictWriter(csv_file, headers, delimiter=',', lineterminator='\\n')\n",
    "    writer.writeheader()\n",
    "    writer.writerows(valid_new)\n",
    "csv_file.close()\n",
    "\n",
    "with open('subset_test_expanded.csv', 'w', encoding='utf8') as csv_file:\n",
    "    writer = DictWriter(csv_file, headers, delimiter=',', lineterminator='\\n')\n",
    "    writer.writeheader()\n",
    "    writer.writerows(test_new)\n",
    "csv_file.close()"
   ]
  }
 ],
 "metadata": {
  "interpreter": {
   "hash": "ead3c86577feeba8b116590dddffe48caf8bde476dc8c2f01d399f7c56fe3aec"
  },
  "kernelspec": {
   "display_name": "Python 3.8.8 64-bit ('ecnet_pytorch': conda)",
   "language": "python",
   "name": "python3"
  },
  "language_info": {
   "codemirror_mode": {
    "name": "ipython",
    "version": 3
   },
   "file_extension": ".py",
   "mimetype": "text/x-python",
   "name": "python",
   "nbconvert_exporter": "python",
   "pygments_lexer": "ipython3",
   "version": "3.8.8"
  },
  "orig_nbformat": 4
 },
 "nbformat": 4,
 "nbformat_minor": 2
}
