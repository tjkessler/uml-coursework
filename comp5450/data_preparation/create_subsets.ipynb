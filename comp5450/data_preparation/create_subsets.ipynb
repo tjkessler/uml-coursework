{
 "cells": [
  {
   "cell_type": "code",
   "execution_count": 1,
   "metadata": {},
   "outputs": [],
   "source": [
    "from csv import DictReader\n",
    "\n",
    "with open('ai4i2020.csv', 'r') as csv_file:\n",
    "    reader = DictReader(csv_file)\n",
    "    samples = [r for r in reader]\n",
    "csv_file.close()"
   ]
  },
  {
   "cell_type": "code",
   "execution_count": 2,
   "metadata": {},
   "outputs": [
    {
     "name": "stdout",
     "output_type": "stream",
     "text": [
      "10000 9661 339\n"
     ]
    }
   ],
   "source": [
    "samples_no_failure = []\n",
    "samples_failure = []\n",
    "\n",
    "for s in samples:\n",
    "    if s['Machine failure'] == '1':\n",
    "        samples_failure.append(s)\n",
    "    else:\n",
    "        samples_no_failure.append(s)\n",
    "\n",
    "print(len(samples), len(samples_no_failure), len(samples_failure))"
   ]
  },
  {
   "cell_type": "code",
   "execution_count": 3,
   "metadata": {},
   "outputs": [
    {
     "name": "stdout",
     "output_type": "stream",
     "text": [
      "6999 2000 1001\n"
     ]
    }
   ],
   "source": [
    "# 70% training, 20% validation, 10% testing\n",
    "from sklearn.model_selection import train_test_split\n",
    "\n",
    "no_failure_train, _temp = train_test_split(samples_no_failure, test_size=0.3, random_state=42)\n",
    "no_failure_valid, no_failure_test = train_test_split(_temp, test_size=0.33333, random_state=42)\n",
    "\n",
    "failure_train, _temp = train_test_split(samples_failure, test_size=0.3, random_state=42)\n",
    "failure_valid, failure_test = train_test_split(_temp, test_size=0.33333, random_state=42)\n",
    "\n",
    "subset_train = no_failure_train + failure_train\n",
    "subset_valid = no_failure_valid + failure_valid\n",
    "subset_test = no_failure_test + failure_test\n",
    "\n",
    "print(len(subset_train), len(subset_valid), len(subset_test))"
   ]
  },
  {
   "cell_type": "code",
   "execution_count": 4,
   "metadata": {},
   "outputs": [],
   "source": [
    "from csv import DictWriter\n",
    "\n",
    "headers = list(subset_train[0].keys())\n",
    "\n",
    "with open('subset_train.csv', 'w', encoding='utf8') as csv_file:\n",
    "    writer = DictWriter(csv_file, headers, delimiter=',', lineterminator='\\n')\n",
    "    writer.writeheader()\n",
    "    writer.writerows(subset_train)\n",
    "csv_file.close()\n",
    "\n",
    "with open('subset_valid.csv', 'w', encoding='utf8') as csv_file:\n",
    "    writer = DictWriter(csv_file, headers, delimiter=',', lineterminator='\\n')\n",
    "    writer.writeheader()\n",
    "    writer.writerows(subset_valid)\n",
    "csv_file.close()\n",
    "\n",
    "with open('subset_test.csv', 'w', encoding='utf8') as csv_file:\n",
    "    writer = DictWriter(csv_file, headers, delimiter=',', lineterminator='\\n')\n",
    "    writer.writeheader()\n",
    "    writer.writerows(subset_test)\n",
    "csv_file.close()"
   ]
  }
 ],
 "metadata": {
  "interpreter": {
   "hash": "0264298507758979c7bbd775c17493ab28237b3d3884403c9e80ef491775e572"
  },
  "kernelspec": {
   "display_name": "Python 3.8.8 64-bit ('torch_geometric': conda)",
   "name": "python3"
  },
  "language_info": {
   "codemirror_mode": {
    "name": "ipython",
    "version": 3
   },
   "file_extension": ".py",
   "mimetype": "text/x-python",
   "name": "python",
   "nbconvert_exporter": "python",
   "pygments_lexer": "ipython3",
   "version": "3.8.8"
  },
  "orig_nbformat": 4
 },
 "nbformat": 4,
 "nbformat_minor": 2
}
