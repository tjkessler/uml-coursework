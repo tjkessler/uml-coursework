{
 "cells": [
  {
   "cell_type": "code",
   "execution_count": 339,
   "id": "5a5c5899",
   "metadata": {},
   "outputs": [],
   "source": [
    "import pandas as pd\n",
    "import numpy as np\n",
    "import matplotlib.pyplot as plt\n",
    "from sklearn.metrics import confusion_matrix , classification_report, ConfusionMatrixDisplay, \\\n",
    "multilabel_confusion_matrix\n"
   ]
  },
  {
   "cell_type": "code",
   "execution_count": 94,
   "id": "d7870720",
   "metadata": {},
   "outputs": [
    {
     "data": {
      "text/html": [
       "<div>\n",
       "<style scoped>\n",
       "    .dataframe tbody tr th:only-of-type {\n",
       "        vertical-align: middle;\n",
       "    }\n",
       "\n",
       "    .dataframe tbody tr th {\n",
       "        vertical-align: top;\n",
       "    }\n",
       "\n",
       "    .dataframe thead th {\n",
       "        text-align: right;\n",
       "    }\n",
       "</style>\n",
       "<table border=\"1\" class=\"dataframe\">\n",
       "  <thead>\n",
       "    <tr style=\"text-align: right;\">\n",
       "      <th></th>\n",
       "      <th>Product ID</th>\n",
       "      <th>Type</th>\n",
       "      <th>Air temperature [K]</th>\n",
       "      <th>Process temperature [K]</th>\n",
       "      <th>Rotational speed [rpm]</th>\n",
       "      <th>Torque [Nm]</th>\n",
       "      <th>Tool wear [min]</th>\n",
       "      <th>Machine failure</th>\n",
       "      <th>TWF</th>\n",
       "      <th>HDF</th>\n",
       "      <th>PWF</th>\n",
       "      <th>OSF</th>\n",
       "      <th>RNF</th>\n",
       "    </tr>\n",
       "    <tr>\n",
       "      <th>UDI</th>\n",
       "      <th></th>\n",
       "      <th></th>\n",
       "      <th></th>\n",
       "      <th></th>\n",
       "      <th></th>\n",
       "      <th></th>\n",
       "      <th></th>\n",
       "      <th></th>\n",
       "      <th></th>\n",
       "      <th></th>\n",
       "      <th></th>\n",
       "      <th></th>\n",
       "      <th></th>\n",
       "    </tr>\n",
       "  </thead>\n",
       "  <tbody>\n",
       "    <tr>\n",
       "      <th>1276</th>\n",
       "      <td>M16135</td>\n",
       "      <td>M</td>\n",
       "      <td>298.1</td>\n",
       "      <td>309.4</td>\n",
       "      <td>1362</td>\n",
       "      <td>47.6</td>\n",
       "      <td>70</td>\n",
       "      <td>0</td>\n",
       "      <td>0</td>\n",
       "      <td>0</td>\n",
       "      <td>0</td>\n",
       "      <td>0</td>\n",
       "      <td>0</td>\n",
       "    </tr>\n",
       "    <tr>\n",
       "      <th>9931</th>\n",
       "      <td>L57110</td>\n",
       "      <td>L</td>\n",
       "      <td>298.3</td>\n",
       "      <td>308.3</td>\n",
       "      <td>1452</td>\n",
       "      <td>45.5</td>\n",
       "      <td>63</td>\n",
       "      <td>0</td>\n",
       "      <td>0</td>\n",
       "      <td>0</td>\n",
       "      <td>0</td>\n",
       "      <td>0</td>\n",
       "      <td>0</td>\n",
       "    </tr>\n",
       "    <tr>\n",
       "      <th>5403</th>\n",
       "      <td>L52582</td>\n",
       "      <td>L</td>\n",
       "      <td>302.7</td>\n",
       "      <td>312.3</td>\n",
       "      <td>1421</td>\n",
       "      <td>48.5</td>\n",
       "      <td>0</td>\n",
       "      <td>0</td>\n",
       "      <td>0</td>\n",
       "      <td>0</td>\n",
       "      <td>0</td>\n",
       "      <td>0</td>\n",
       "      <td>0</td>\n",
       "    </tr>\n",
       "    <tr>\n",
       "      <th>9437</th>\n",
       "      <td>L56616</td>\n",
       "      <td>L</td>\n",
       "      <td>298.0</td>\n",
       "      <td>308.6</td>\n",
       "      <td>1481</td>\n",
       "      <td>42.5</td>\n",
       "      <td>54</td>\n",
       "      <td>0</td>\n",
       "      <td>0</td>\n",
       "      <td>0</td>\n",
       "      <td>0</td>\n",
       "      <td>0</td>\n",
       "      <td>0</td>\n",
       "    </tr>\n",
       "    <tr>\n",
       "      <th>564</th>\n",
       "      <td>L47743</td>\n",
       "      <td>L</td>\n",
       "      <td>297.7</td>\n",
       "      <td>309.6</td>\n",
       "      <td>1529</td>\n",
       "      <td>35.2</td>\n",
       "      <td>153</td>\n",
       "      <td>0</td>\n",
       "      <td>0</td>\n",
       "      <td>0</td>\n",
       "      <td>0</td>\n",
       "      <td>0</td>\n",
       "      <td>0</td>\n",
       "    </tr>\n",
       "  </tbody>\n",
       "</table>\n",
       "</div>"
      ],
      "text/plain": [
       "     Product ID Type  Air temperature [K]  Process temperature [K]  \\\n",
       "UDI                                                                  \n",
       "1276     M16135    M                298.1                    309.4   \n",
       "9931     L57110    L                298.3                    308.3   \n",
       "5403     L52582    L                302.7                    312.3   \n",
       "9437     L56616    L                298.0                    308.6   \n",
       "564      L47743    L                297.7                    309.6   \n",
       "\n",
       "      Rotational speed [rpm]  Torque [Nm]  Tool wear [min]  Machine failure  \\\n",
       "UDI                                                                           \n",
       "1276                    1362         47.6               70                0   \n",
       "9931                    1452         45.5               63                0   \n",
       "5403                    1421         48.5                0                0   \n",
       "9437                    1481         42.5               54                0   \n",
       "564                     1529         35.2              153                0   \n",
       "\n",
       "      TWF  HDF  PWF  OSF  RNF  \n",
       "UDI                            \n",
       "1276    0    0    0    0    0  \n",
       "9931    0    0    0    0    0  \n",
       "5403    0    0    0    0    0  \n",
       "9437    0    0    0    0    0  \n",
       "564     0    0    0    0    0  "
      ]
     },
     "execution_count": 94,
     "metadata": {},
     "output_type": "execute_result"
    }
   ],
   "source": [
    "#Read csv data\n",
    "data_train = pd.read_csv('../data_preparation/subset_train_expanded.csv', index_col=0)\n",
    "data_train.head()"
   ]
  },
  {
   "cell_type": "code",
   "execution_count": 95,
   "id": "95f2f149",
   "metadata": {},
   "outputs": [],
   "source": [
    "#define function for classifying type based on Load\n",
    "def type_new(row):\n",
    "    if row['Type'] == 'L':\n",
    "        val = '1'\n",
    "    elif row['Type'] == 'M':\n",
    "        val = '2'\n",
    "    else:\n",
    "        val = '3'\n",
    "    return val"
   ]
  },
  {
   "cell_type": "code",
   "execution_count": 96,
   "id": "8c7bfc9e",
   "metadata": {},
   "outputs": [
    {
     "data": {
      "text/html": [
       "<div>\n",
       "<style scoped>\n",
       "    .dataframe tbody tr th:only-of-type {\n",
       "        vertical-align: middle;\n",
       "    }\n",
       "\n",
       "    .dataframe tbody tr th {\n",
       "        vertical-align: top;\n",
       "    }\n",
       "\n",
       "    .dataframe thead th {\n",
       "        text-align: right;\n",
       "    }\n",
       "</style>\n",
       "<table border=\"1\" class=\"dataframe\">\n",
       "  <thead>\n",
       "    <tr style=\"text-align: right;\">\n",
       "      <th></th>\n",
       "      <th>Product ID</th>\n",
       "      <th>Type</th>\n",
       "      <th>Air temperature [K]</th>\n",
       "      <th>Process temperature [K]</th>\n",
       "      <th>Rotational speed [rpm]</th>\n",
       "      <th>Torque [Nm]</th>\n",
       "      <th>Tool wear [min]</th>\n",
       "      <th>Machine failure</th>\n",
       "      <th>TWF</th>\n",
       "      <th>HDF</th>\n",
       "      <th>PWF</th>\n",
       "      <th>OSF</th>\n",
       "      <th>RNF</th>\n",
       "      <th>Type_Num</th>\n",
       "    </tr>\n",
       "    <tr>\n",
       "      <th>UDI</th>\n",
       "      <th></th>\n",
       "      <th></th>\n",
       "      <th></th>\n",
       "      <th></th>\n",
       "      <th></th>\n",
       "      <th></th>\n",
       "      <th></th>\n",
       "      <th></th>\n",
       "      <th></th>\n",
       "      <th></th>\n",
       "      <th></th>\n",
       "      <th></th>\n",
       "      <th></th>\n",
       "      <th></th>\n",
       "    </tr>\n",
       "  </thead>\n",
       "  <tbody>\n",
       "    <tr>\n",
       "      <th>1276</th>\n",
       "      <td>M16135</td>\n",
       "      <td>M</td>\n",
       "      <td>298.1</td>\n",
       "      <td>309.4</td>\n",
       "      <td>1362</td>\n",
       "      <td>47.6</td>\n",
       "      <td>70</td>\n",
       "      <td>0</td>\n",
       "      <td>0</td>\n",
       "      <td>0</td>\n",
       "      <td>0</td>\n",
       "      <td>0</td>\n",
       "      <td>0</td>\n",
       "      <td>2</td>\n",
       "    </tr>\n",
       "    <tr>\n",
       "      <th>9931</th>\n",
       "      <td>L57110</td>\n",
       "      <td>L</td>\n",
       "      <td>298.3</td>\n",
       "      <td>308.3</td>\n",
       "      <td>1452</td>\n",
       "      <td>45.5</td>\n",
       "      <td>63</td>\n",
       "      <td>0</td>\n",
       "      <td>0</td>\n",
       "      <td>0</td>\n",
       "      <td>0</td>\n",
       "      <td>0</td>\n",
       "      <td>0</td>\n",
       "      <td>1</td>\n",
       "    </tr>\n",
       "    <tr>\n",
       "      <th>5403</th>\n",
       "      <td>L52582</td>\n",
       "      <td>L</td>\n",
       "      <td>302.7</td>\n",
       "      <td>312.3</td>\n",
       "      <td>1421</td>\n",
       "      <td>48.5</td>\n",
       "      <td>0</td>\n",
       "      <td>0</td>\n",
       "      <td>0</td>\n",
       "      <td>0</td>\n",
       "      <td>0</td>\n",
       "      <td>0</td>\n",
       "      <td>0</td>\n",
       "      <td>1</td>\n",
       "    </tr>\n",
       "    <tr>\n",
       "      <th>9437</th>\n",
       "      <td>L56616</td>\n",
       "      <td>L</td>\n",
       "      <td>298.0</td>\n",
       "      <td>308.6</td>\n",
       "      <td>1481</td>\n",
       "      <td>42.5</td>\n",
       "      <td>54</td>\n",
       "      <td>0</td>\n",
       "      <td>0</td>\n",
       "      <td>0</td>\n",
       "      <td>0</td>\n",
       "      <td>0</td>\n",
       "      <td>0</td>\n",
       "      <td>1</td>\n",
       "    </tr>\n",
       "    <tr>\n",
       "      <th>564</th>\n",
       "      <td>L47743</td>\n",
       "      <td>L</td>\n",
       "      <td>297.7</td>\n",
       "      <td>309.6</td>\n",
       "      <td>1529</td>\n",
       "      <td>35.2</td>\n",
       "      <td>153</td>\n",
       "      <td>0</td>\n",
       "      <td>0</td>\n",
       "      <td>0</td>\n",
       "      <td>0</td>\n",
       "      <td>0</td>\n",
       "      <td>0</td>\n",
       "      <td>1</td>\n",
       "    </tr>\n",
       "  </tbody>\n",
       "</table>\n",
       "</div>"
      ],
      "text/plain": [
       "     Product ID Type  Air temperature [K]  Process temperature [K]  \\\n",
       "UDI                                                                  \n",
       "1276     M16135    M                298.1                    309.4   \n",
       "9931     L57110    L                298.3                    308.3   \n",
       "5403     L52582    L                302.7                    312.3   \n",
       "9437     L56616    L                298.0                    308.6   \n",
       "564      L47743    L                297.7                    309.6   \n",
       "\n",
       "      Rotational speed [rpm]  Torque [Nm]  Tool wear [min]  Machine failure  \\\n",
       "UDI                                                                           \n",
       "1276                    1362         47.6               70                0   \n",
       "9931                    1452         45.5               63                0   \n",
       "5403                    1421         48.5                0                0   \n",
       "9437                    1481         42.5               54                0   \n",
       "564                     1529         35.2              153                0   \n",
       "\n",
       "      TWF  HDF  PWF  OSF  RNF Type_Num  \n",
       "UDI                                     \n",
       "1276    0    0    0    0    0        2  \n",
       "9931    0    0    0    0    0        1  \n",
       "5403    0    0    0    0    0        1  \n",
       "9437    0    0    0    0    0        1  \n",
       "564     0    0    0    0    0        1  "
      ]
     },
     "execution_count": 96,
     "metadata": {},
     "output_type": "execute_result"
    }
   ],
   "source": [
    "#create new column \n",
    "data_train['Type_Num'] = data_train.apply(type_new, axis=1)\n",
    "data_train.head()"
   ]
  },
  {
   "cell_type": "code",
   "execution_count": 97,
   "id": "2b7d8fe0",
   "metadata": {},
   "outputs": [
    {
     "data": {
      "text/html": [
       "<div>\n",
       "<style scoped>\n",
       "    .dataframe tbody tr th:only-of-type {\n",
       "        vertical-align: middle;\n",
       "    }\n",
       "\n",
       "    .dataframe tbody tr th {\n",
       "        vertical-align: top;\n",
       "    }\n",
       "\n",
       "    .dataframe thead th {\n",
       "        text-align: right;\n",
       "    }\n",
       "</style>\n",
       "<table border=\"1\" class=\"dataframe\">\n",
       "  <thead>\n",
       "    <tr style=\"text-align: right;\">\n",
       "      <th></th>\n",
       "      <th>Product ID</th>\n",
       "      <th>Type</th>\n",
       "      <th>Air temperature [K]</th>\n",
       "      <th>Process temperature [K]</th>\n",
       "      <th>Rotational speed [rpm]</th>\n",
       "      <th>Torque [Nm]</th>\n",
       "      <th>Tool wear [min]</th>\n",
       "      <th>Machine failure</th>\n",
       "      <th>TWF</th>\n",
       "      <th>HDF</th>\n",
       "      <th>PWF</th>\n",
       "      <th>OSF</th>\n",
       "      <th>RNF</th>\n",
       "      <th>Type_Num</th>\n",
       "    </tr>\n",
       "    <tr>\n",
       "      <th>UDI</th>\n",
       "      <th></th>\n",
       "      <th></th>\n",
       "      <th></th>\n",
       "      <th></th>\n",
       "      <th></th>\n",
       "      <th></th>\n",
       "      <th></th>\n",
       "      <th></th>\n",
       "      <th></th>\n",
       "      <th></th>\n",
       "      <th></th>\n",
       "      <th></th>\n",
       "      <th></th>\n",
       "      <th></th>\n",
       "    </tr>\n",
       "  </thead>\n",
       "  <tbody>\n",
       "    <tr>\n",
       "      <th>7600</th>\n",
       "      <td>L54779</td>\n",
       "      <td>L</td>\n",
       "      <td>300.5</td>\n",
       "      <td>311.0</td>\n",
       "      <td>1759</td>\n",
       "      <td>28.3</td>\n",
       "      <td>13</td>\n",
       "      <td>0</td>\n",
       "      <td>0</td>\n",
       "      <td>0</td>\n",
       "      <td>0</td>\n",
       "      <td>0</td>\n",
       "      <td>0</td>\n",
       "      <td>1</td>\n",
       "    </tr>\n",
       "    <tr>\n",
       "      <th>3665</th>\n",
       "      <td>M18524</td>\n",
       "      <td>M</td>\n",
       "      <td>302.3</td>\n",
       "      <td>311.7</td>\n",
       "      <td>1685</td>\n",
       "      <td>30.8</td>\n",
       "      <td>130</td>\n",
       "      <td>0</td>\n",
       "      <td>0</td>\n",
       "      <td>0</td>\n",
       "      <td>0</td>\n",
       "      <td>0</td>\n",
       "      <td>0</td>\n",
       "      <td>2</td>\n",
       "    </tr>\n",
       "    <tr>\n",
       "      <th>6718</th>\n",
       "      <td>M21577</td>\n",
       "      <td>M</td>\n",
       "      <td>301.4</td>\n",
       "      <td>310.6</td>\n",
       "      <td>1464</td>\n",
       "      <td>48.6</td>\n",
       "      <td>96</td>\n",
       "      <td>0</td>\n",
       "      <td>0</td>\n",
       "      <td>0</td>\n",
       "      <td>0</td>\n",
       "      <td>0</td>\n",
       "      <td>0</td>\n",
       "      <td>2</td>\n",
       "    </tr>\n",
       "    <tr>\n",
       "      <th>1077</th>\n",
       "      <td>L48256</td>\n",
       "      <td>L</td>\n",
       "      <td>296.9</td>\n",
       "      <td>307.7</td>\n",
       "      <td>1653</td>\n",
       "      <td>35.9</td>\n",
       "      <td>177</td>\n",
       "      <td>0</td>\n",
       "      <td>0</td>\n",
       "      <td>0</td>\n",
       "      <td>0</td>\n",
       "      <td>0</td>\n",
       "      <td>0</td>\n",
       "      <td>1</td>\n",
       "    </tr>\n",
       "    <tr>\n",
       "      <th>3130</th>\n",
       "      <td>L50309</td>\n",
       "      <td>L</td>\n",
       "      <td>300.1</td>\n",
       "      <td>309.6</td>\n",
       "      <td>1642</td>\n",
       "      <td>34.5</td>\n",
       "      <td>53</td>\n",
       "      <td>0</td>\n",
       "      <td>0</td>\n",
       "      <td>0</td>\n",
       "      <td>0</td>\n",
       "      <td>0</td>\n",
       "      <td>0</td>\n",
       "      <td>1</td>\n",
       "    </tr>\n",
       "  </tbody>\n",
       "</table>\n",
       "</div>"
      ],
      "text/plain": [
       "     Product ID Type  Air temperature [K]  Process temperature [K]  \\\n",
       "UDI                                                                  \n",
       "7600     L54779    L                300.5                    311.0   \n",
       "3665     M18524    M                302.3                    311.7   \n",
       "6718     M21577    M                301.4                    310.6   \n",
       "1077     L48256    L                296.9                    307.7   \n",
       "3130     L50309    L                300.1                    309.6   \n",
       "\n",
       "      Rotational speed [rpm]  Torque [Nm]  Tool wear [min]  Machine failure  \\\n",
       "UDI                                                                           \n",
       "7600                    1759         28.3               13                0   \n",
       "3665                    1685         30.8              130                0   \n",
       "6718                    1464         48.6               96                0   \n",
       "1077                    1653         35.9              177                0   \n",
       "3130                    1642         34.5               53                0   \n",
       "\n",
       "      TWF  HDF  PWF  OSF  RNF Type_Num  \n",
       "UDI                                     \n",
       "7600    0    0    0    0    0        1  \n",
       "3665    0    0    0    0    0        2  \n",
       "6718    0    0    0    0    0        2  \n",
       "1077    0    0    0    0    0        1  \n",
       "3130    0    0    0    0    0        1  "
      ]
     },
     "execution_count": 97,
     "metadata": {},
     "output_type": "execute_result"
    }
   ],
   "source": [
    "data_test = pd.read_csv('../data_preparation/subset_test_expanded.csv', index_col=0)\n",
    "data_test['Type_Num'] = data_test.apply(type_new, axis=1)\n",
    "data_test.head()"
   ]
  },
  {
   "cell_type": "code",
   "execution_count": 98,
   "id": "8397feb4",
   "metadata": {},
   "outputs": [
    {
     "data": {
      "text/html": [
       "<div>\n",
       "<style scoped>\n",
       "    .dataframe tbody tr th:only-of-type {\n",
       "        vertical-align: middle;\n",
       "    }\n",
       "\n",
       "    .dataframe tbody tr th {\n",
       "        vertical-align: top;\n",
       "    }\n",
       "\n",
       "    .dataframe thead th {\n",
       "        text-align: right;\n",
       "    }\n",
       "</style>\n",
       "<table border=\"1\" class=\"dataframe\">\n",
       "  <thead>\n",
       "    <tr style=\"text-align: right;\">\n",
       "      <th></th>\n",
       "      <th>Product ID</th>\n",
       "      <th>Type</th>\n",
       "      <th>Air temperature [K]</th>\n",
       "      <th>Process temperature [K]</th>\n",
       "      <th>Rotational speed [rpm]</th>\n",
       "      <th>Torque [Nm]</th>\n",
       "      <th>Tool wear [min]</th>\n",
       "      <th>Machine failure</th>\n",
       "      <th>TWF</th>\n",
       "      <th>HDF</th>\n",
       "      <th>PWF</th>\n",
       "      <th>OSF</th>\n",
       "      <th>RNF</th>\n",
       "      <th>Type_Num</th>\n",
       "    </tr>\n",
       "    <tr>\n",
       "      <th>UDI</th>\n",
       "      <th></th>\n",
       "      <th></th>\n",
       "      <th></th>\n",
       "      <th></th>\n",
       "      <th></th>\n",
       "      <th></th>\n",
       "      <th></th>\n",
       "      <th></th>\n",
       "      <th></th>\n",
       "      <th></th>\n",
       "      <th></th>\n",
       "      <th></th>\n",
       "      <th></th>\n",
       "      <th></th>\n",
       "    </tr>\n",
       "  </thead>\n",
       "  <tbody>\n",
       "    <tr>\n",
       "      <th>1071</th>\n",
       "      <td>M15930</td>\n",
       "      <td>M</td>\n",
       "      <td>296.9</td>\n",
       "      <td>307.8</td>\n",
       "      <td>1477</td>\n",
       "      <td>37.2</td>\n",
       "      <td>160</td>\n",
       "      <td>0</td>\n",
       "      <td>0</td>\n",
       "      <td>0</td>\n",
       "      <td>0</td>\n",
       "      <td>0</td>\n",
       "      <td>0</td>\n",
       "      <td>2</td>\n",
       "    </tr>\n",
       "    <tr>\n",
       "      <th>1877</th>\n",
       "      <td>L49056</td>\n",
       "      <td>L</td>\n",
       "      <td>298.3</td>\n",
       "      <td>308.0</td>\n",
       "      <td>1242</td>\n",
       "      <td>62.0</td>\n",
       "      <td>98</td>\n",
       "      <td>0</td>\n",
       "      <td>0</td>\n",
       "      <td>0</td>\n",
       "      <td>0</td>\n",
       "      <td>0</td>\n",
       "      <td>0</td>\n",
       "      <td>1</td>\n",
       "    </tr>\n",
       "    <tr>\n",
       "      <th>2328</th>\n",
       "      <td>M17187</td>\n",
       "      <td>M</td>\n",
       "      <td>299.3</td>\n",
       "      <td>308.7</td>\n",
       "      <td>1420</td>\n",
       "      <td>50.3</td>\n",
       "      <td>208</td>\n",
       "      <td>0</td>\n",
       "      <td>0</td>\n",
       "      <td>0</td>\n",
       "      <td>0</td>\n",
       "      <td>0</td>\n",
       "      <td>0</td>\n",
       "      <td>2</td>\n",
       "    </tr>\n",
       "    <tr>\n",
       "      <th>6863</th>\n",
       "      <td>M21722</td>\n",
       "      <td>M</td>\n",
       "      <td>301.1</td>\n",
       "      <td>311.2</td>\n",
       "      <td>1384</td>\n",
       "      <td>49.4</td>\n",
       "      <td>48</td>\n",
       "      <td>0</td>\n",
       "      <td>0</td>\n",
       "      <td>0</td>\n",
       "      <td>0</td>\n",
       "      <td>0</td>\n",
       "      <td>0</td>\n",
       "      <td>2</td>\n",
       "    </tr>\n",
       "    <tr>\n",
       "      <th>945</th>\n",
       "      <td>M15804</td>\n",
       "      <td>M</td>\n",
       "      <td>295.7</td>\n",
       "      <td>306.3</td>\n",
       "      <td>1712</td>\n",
       "      <td>28.5</td>\n",
       "      <td>43</td>\n",
       "      <td>0</td>\n",
       "      <td>0</td>\n",
       "      <td>0</td>\n",
       "      <td>0</td>\n",
       "      <td>0</td>\n",
       "      <td>0</td>\n",
       "      <td>2</td>\n",
       "    </tr>\n",
       "  </tbody>\n",
       "</table>\n",
       "</div>"
      ],
      "text/plain": [
       "     Product ID Type  Air temperature [K]  Process temperature [K]  \\\n",
       "UDI                                                                  \n",
       "1071     M15930    M                296.9                    307.8   \n",
       "1877     L49056    L                298.3                    308.0   \n",
       "2328     M17187    M                299.3                    308.7   \n",
       "6863     M21722    M                301.1                    311.2   \n",
       "945      M15804    M                295.7                    306.3   \n",
       "\n",
       "      Rotational speed [rpm]  Torque [Nm]  Tool wear [min]  Machine failure  \\\n",
       "UDI                                                                           \n",
       "1071                    1477         37.2              160                0   \n",
       "1877                    1242         62.0               98                0   \n",
       "2328                    1420         50.3              208                0   \n",
       "6863                    1384         49.4               48                0   \n",
       "945                     1712         28.5               43                0   \n",
       "\n",
       "      TWF  HDF  PWF  OSF  RNF Type_Num  \n",
       "UDI                                     \n",
       "1071    0    0    0    0    0        2  \n",
       "1877    0    0    0    0    0        1  \n",
       "2328    0    0    0    0    0        2  \n",
       "6863    0    0    0    0    0        2  \n",
       "945     0    0    0    0    0        2  "
      ]
     },
     "execution_count": 98,
     "metadata": {},
     "output_type": "execute_result"
    }
   ],
   "source": [
    "data_valid = pd.read_csv('../data_preparation/subset_valid_expanded.csv', index_col=0)\n",
    "data_valid['Type_Num'] = data_valid.apply(type_new, axis=1)\n",
    "data_valid.head()"
   ]
  },
  {
   "cell_type": "code",
   "execution_count": 250,
   "id": "079a6de3",
   "metadata": {},
   "outputs": [],
   "source": [
    "label = ['Air temperature [K]', 'Process temperature [K]', 'Rotational speed [rpm]', \\\n",
    "         'Torque [Nm]', 'Tool wear [min]', 'Type_Num']\n",
    "target = ['Machine failure', 'TWF', 'HDF', 'PWF', 'OSF', 'RNF']"
   ]
  },
  {
   "cell_type": "code",
   "execution_count": 357,
   "id": "f4708aab",
   "metadata": {},
   "outputs": [
    {
     "data": {
      "text/plain": [
       "0.9741107444077741"
      ]
     },
     "execution_count": 357,
     "metadata": {},
     "output_type": "execute_result"
    }
   ],
   "source": [
    "from sklearn.neighbors import KNeighborsClassifier\n",
    "X_train = data_train[label]\n",
    "y_train = data_train[target]\n",
    "\n",
    "X_test = data_test[label]\n",
    "y_test = data_test[target]\n",
    "\n",
    "X_valid = data_valid[label]\n",
    "y_valid = data_valid[target]\n",
    "\n",
    "neigh = KNeighborsClassifier(n_neighbors=7)\n",
    "neigh.fit(X_train, y_train)\n",
    "neigh.score(X_train, y_train)"
   ]
  },
  {
   "cell_type": "code",
   "execution_count": 358,
   "id": "cc387d8e",
   "metadata": {},
   "outputs": [
    {
     "name": "stdout",
     "output_type": "stream",
     "text": [
      "Training score :  0.9741107444077741\n",
      "Testing score :  0.6948284690220174\n",
      "Validation score :  0.6439549180327869\n"
     ]
    }
   ],
   "source": [
    "print('Training score : ', neigh.score(X_train, y_train))\n",
    "print('Testing score : ', neigh.score(X_test, y_test))\n",
    "print('Validation score : ', neigh.score(X_valid, y_valid))"
   ]
  },
  {
   "cell_type": "code",
   "execution_count": 360,
   "id": "d382d199",
   "metadata": {},
   "outputs": [
    {
     "data": {
      "image/png": "[encoded data removed]",
      "text/plain": [
       "<Figure size 432x288 with 1 Axes>"
      ]
     },
     "metadata": {
      "needs_background": "light"
     },
     "output_type": "display_data"
    }
   ],
   "source": [
    "train_scores = []\n",
    "test_scores = []\n",
    "valid_scores = []\n",
    "target = ['Machine failure', 'TWF', 'HDF','PWF', 'OSF', 'RNF']\n",
    "\n",
    "for key in target:\n",
    "    neigh = KNeighborsClassifier(n_neighbors=7).fit(X_train, y_train[key])\n",
    "    train_score = [neigh.score(X_train, y_train[key])]\n",
    "    test_score = [neigh.score(X_test, y_test[key]) ]\n",
    "    valid_score = [neigh.score(X_valid, y_valid[key])]\n",
    "    train_scores.append(train_score)\n",
    "    test_scores.append(test_score)\n",
    "    valid_scores.append(test_score)\n",
    "\n",
    "fig, ax = plt.subplots()\n",
    "ax.set_xlabel(\"Machine failure modes\")\n",
    "ax.set_ylabel(\"accuracy\")\n",
    "ax.set_title(\"Accuracy vs Failure mode for K Neighbors Classifier\")\n",
    "ax.plot(target, train_scores, marker=\"o\", label='train', drawstyle=\"steps-mid\")\n",
    "ax.plot(target, test_scores, marker=\"x\", label=\"test\", drawstyle=\"steps-mid\")\n",
    "ax.plot(target, valid_scores, marker=\".\", label=\"valid\", drawstyle=\"steps-mid\")\n",
    "ax.legend()\n",
    "plt.show()"
   ]
  },
  {
   "cell_type": "code",
   "execution_count": null,
   "id": "d004aadc",
   "metadata": {},
   "outputs": [],
   "source": [
    "#Compute the (weighted) graph of k-Neighbors for points in X.\n",
    "A = neigh.kneighbors_graph(X_train)\n",
    "A.toarray()"
   ]
  },
  {
   "cell_type": "code",
   "execution_count": null,
   "id": "7048c4ff",
   "metadata": {},
   "outputs": [],
   "source": [
    "cm_val = confusion_matrix(data_test[target], neigh.predict(data_test[label]))\n",
    "disp = ConfusionMatrixDisplay(confusion_matrix=cm_val)\n",
    "disp.plot()"
   ]
  },
  {
   "cell_type": "markdown",
   "id": "ff28dc70",
   "metadata": {},
   "source": [
    "## Decision tree"
   ]
  },
  {
   "cell_type": "code",
   "execution_count": 254,
   "id": "3f5f2ba0",
   "metadata": {},
   "outputs": [],
   "source": [
    "from sklearn import tree\n",
    "\n",
    "X_train = data_train[label]\n",
    "y_train = data_train[target]\n",
    "\n",
    "X_test = data_test[label]\n",
    "y_test = data_test[target]\n",
    "\n",
    "X_valid = data_valid[label]\n",
    "y_valid = data_valid[target]\n",
    "\n",
    "clf = tree.DecisionTreeClassifier(max_depth=None)\n",
    "clf = clf.fit(X_train, y_train)\n",
    "y_train_pred = clf.predict(data_train[label])\n",
    "\n",
    "y_test_pred = clf.predict(data_test[label])\n",
    "\n",
    "y_valid_pred = clf.predict(data_valid[label])"
   ]
  },
  {
   "cell_type": "code",
   "execution_count": 256,
   "id": "fc7e0f0a",
   "metadata": {},
   "outputs": [
    {
     "data": {
      "text/plain": [
       "<BarContainer object of 6 artists>"
      ]
     },
     "execution_count": 256,
     "metadata": {},
     "output_type": "execute_result"
    },
    {
     "data": {
      "image/png": "[encoded data removed]",
      "text/plain": [
       "<Figure size 1080x288 with 1 Axes>"
      ]
     },
     "metadata": {
      "needs_background": "light"
     },
     "output_type": "display_data"
    }
   ],
   "source": [
    "imp = np.vstack((label, clf.feature_importances_))\n",
    "fig = plt.figure(figsize =(15, 4))\n",
    "plt.bar(label, clf.feature_importances_)"
   ]
  },
  {
   "cell_type": "code",
   "execution_count": 255,
   "id": "cba06dbd",
   "metadata": {},
   "outputs": [
    {
     "name": "stdout",
     "output_type": "stream",
     "text": [
      "Training score :  1.0\n",
      "Testing score :  0.7864823348694316\n",
      "Validation score :  0.7638319672131147\n"
     ]
    }
   ],
   "source": [
    "print('Training score : ', clf.score(X_train, y_train))\n",
    "print('Testing score : ', clf.score(X_test, y_test))\n",
    "print('Validation score : ', clf.score(X_valid, y_valid))"
   ]
  },
  {
   "cell_type": "code",
   "execution_count": 352,
   "id": "998c8986",
   "metadata": {},
   "outputs": [
    {
     "data": {
      "image/png": "[encoded data removed]",
      "text/plain": [
       "<Figure size 432x288 with 1 Axes>"
      ]
     },
     "metadata": {
      "needs_background": "light"
     },
     "output_type": "display_data"
    }
   ],
   "source": [
    "train_scores = []\n",
    "test_scores = []\n",
    "valid_scores = []\n",
    "target = ['Machine failure', 'TWF', 'HDF','PWF', 'OSF', 'RNF']\n",
    "\n",
    "for key in target:\n",
    "    clf_p = tree.DecisionTreeClassifier().fit(X_train, y_train[key])\n",
    "    train_score = [clf_p.score(X_train, y_train[key])]\n",
    "    test_score = [clf_p.score(X_test, y_test[key]) ]\n",
    "    valid_score = [clf_p.score(X_valid, y_valid[key])]\n",
    "    train_scores.append(train_score)\n",
    "    test_scores.append(test_score)\n",
    "    valid_scores.append(test_score)\n",
    "\n",
    "fig, ax = plt.subplots()\n",
    "ax.set_xlabel(\"Machine failure modes\")\n",
    "ax.set_ylabel(\"accuracy\")\n",
    "ax.set_title(\"Accuracy vs Failure mode for Decision Tree Classifier\")\n",
    "ax.plot(target, train_scores, marker=\"o\", label='train', drawstyle=\"steps-mid\")\n",
    "ax.plot(target, test_scores, marker=\"x\", label=\"test\", drawstyle=\"steps-mid\")\n",
    "ax.plot(target, valid_scores, marker=\".\", label=\"valid\", drawstyle=\"steps-mid\")\n",
    "ax.legend()\n",
    "plt.show()"
   ]
  },
  {
   "cell_type": "markdown",
   "id": "65bdb78a",
   "metadata": {},
   "source": [
    "### Model is overfit at training , thus we are getting low accuracy at prediction. So we need to prune the decision tree"
   ]
  },
  {
   "cell_type": "code",
   "execution_count": 257,
   "id": "df801100",
   "metadata": {},
   "outputs": [
    {
     "name": "stdout",
     "output_type": "stream",
     "text": [
      "              precision    recall  f1-score   support\n",
      "\n",
      "           0       1.00      1.00      1.00      6873\n",
      "           1       1.00      1.00      1.00       812\n",
      "           2       1.00      1.00      1.00      2407\n",
      "           3       1.00      1.00      1.00      2088\n",
      "           4       1.00      1.00      1.00      1885\n",
      "           5       1.00      1.00      1.00        44\n",
      "\n",
      "   micro avg       1.00      1.00      1.00     14109\n",
      "   macro avg       1.00      1.00      1.00     14109\n",
      "weighted avg       1.00      1.00      1.00     14109\n",
      " samples avg       0.51      0.51      0.51     14109\n",
      "\n"
     ]
    },
    {
     "name": "stderr",
     "output_type": "stream",
     "text": [
      "C:\\Users\\amank\\anaconda3\\lib\\site-packages\\sklearn\\metrics\\_classification.py:1245: UndefinedMetricWarning: Precision and F-score are ill-defined and being set to 0.0 in samples with no predicted labels. Use `zero_division` parameter to control this behavior.\n",
      "  _warn_prf(average, modifier, msg_start, len(result))\n",
      "C:\\Users\\amank\\anaconda3\\lib\\site-packages\\sklearn\\metrics\\_classification.py:1245: UndefinedMetricWarning: Recall and F-score are ill-defined and being set to 0.0 in samples with no true labels. Use `zero_division` parameter to control this behavior.\n",
      "  _warn_prf(average, modifier, msg_start, len(result))\n"
     ]
    }
   ],
   "source": [
    "print(classification_report(data_train[target], y_train_pred))"
   ]
  },
  {
   "cell_type": "code",
   "execution_count": 258,
   "id": "6a06b235",
   "metadata": {},
   "outputs": [
    {
     "name": "stdout",
     "output_type": "stream",
     "text": [
      "              precision    recall  f1-score   support\n",
      "\n",
      "           0       0.99      0.68      0.80       986\n",
      "           1       0.00      0.00      0.00       145\n",
      "           2       1.00      0.80      0.89       290\n",
      "           3       0.85      0.67      0.75       261\n",
      "           4       0.99      0.85      0.91       377\n",
      "           5       0.00      0.00      0.00         0\n",
      "\n",
      "   micro avg       0.97      0.68      0.80      2059\n",
      "   macro avg       0.64      0.50      0.56      2059\n",
      "weighted avg       0.90      0.68      0.77      2059\n",
      " samples avg       0.34      0.33      0.33      2059\n",
      "\n"
     ]
    },
    {
     "name": "stderr",
     "output_type": "stream",
     "text": [
      "C:\\Users\\amank\\anaconda3\\lib\\site-packages\\sklearn\\metrics\\_classification.py:1245: UndefinedMetricWarning: Recall and F-score are ill-defined and being set to 0.0 in labels with no true samples. Use `zero_division` parameter to control this behavior.\n",
      "  _warn_prf(average, modifier, msg_start, len(result))\n",
      "C:\\Users\\amank\\anaconda3\\lib\\site-packages\\sklearn\\metrics\\_classification.py:1245: UndefinedMetricWarning: Precision and F-score are ill-defined and being set to 0.0 in samples with no predicted labels. Use `zero_division` parameter to control this behavior.\n",
      "  _warn_prf(average, modifier, msg_start, len(result))\n",
      "C:\\Users\\amank\\anaconda3\\lib\\site-packages\\sklearn\\metrics\\_classification.py:1245: UndefinedMetricWarning: Recall and F-score are ill-defined and being set to 0.0 in samples with no true labels. Use `zero_division` parameter to control this behavior.\n",
      "  _warn_prf(average, modifier, msg_start, len(result))\n"
     ]
    }
   ],
   "source": [
    "print(classification_report(data_test[target], y_test_pred))"
   ]
  },
  {
   "cell_type": "code",
   "execution_count": 259,
   "id": "446d1326",
   "metadata": {},
   "outputs": [
    {
     "name": "stdout",
     "output_type": "stream",
     "text": [
      "              precision    recall  f1-score   support\n",
      "\n",
      "           0       0.99      0.57      0.73      1972\n",
      "           1       0.00      0.00      0.00       377\n",
      "           2       1.00      0.64      0.78       638\n",
      "           3       0.98      0.79      0.87       406\n",
      "           4       0.93      0.75      0.83       580\n",
      "           5       0.00      0.00      0.00         3\n",
      "\n",
      "   micro avg       0.97      0.58      0.72      3976\n",
      "   macro avg       0.65      0.46      0.53      3976\n",
      "weighted avg       0.89      0.58      0.69      3976\n",
      " samples avg       0.29      0.28      0.28      3976\n",
      "\n"
     ]
    },
    {
     "name": "stderr",
     "output_type": "stream",
     "text": [
      "C:\\Users\\amank\\anaconda3\\lib\\site-packages\\sklearn\\metrics\\_classification.py:1245: UndefinedMetricWarning: Precision and F-score are ill-defined and being set to 0.0 in samples with no predicted labels. Use `zero_division` parameter to control this behavior.\n",
      "  _warn_prf(average, modifier, msg_start, len(result))\n",
      "C:\\Users\\amank\\anaconda3\\lib\\site-packages\\sklearn\\metrics\\_classification.py:1245: UndefinedMetricWarning: Recall and F-score are ill-defined and being set to 0.0 in samples with no true labels. Use `zero_division` parameter to control this behavior.\n",
      "  _warn_prf(average, modifier, msg_start, len(result))\n"
     ]
    }
   ],
   "source": [
    "print(classification_report(data_valid[target], y_valid_pred))"
   ]
  },
  {
   "cell_type": "code",
   "execution_count": null,
   "id": "3c9144f6",
   "metadata": {},
   "outputs": [],
   "source": [
    "cm_val = confusion_matrix(data_train[target], y_train_pred)\n",
    "disp = ConfusionMatrixDisplay(confusion_matrix=cm_val)\n",
    "disp.plot()"
   ]
  },
  {
   "cell_type": "code",
   "execution_count": null,
   "id": "ce74e9f6",
   "metadata": {},
   "outputs": [],
   "source": [
    "cm_val = confusion_matrix(data_test[target], y_test)\n",
    "disp = ConfusionMatrixDisplay(confusion_matrix=cm_val)\n",
    "disp.plot()"
   ]
  },
  {
   "cell_type": "code",
   "execution_count": null,
   "id": "5562a141",
   "metadata": {},
   "outputs": [],
   "source": [
    "cm_val=confusion_matrix(data_valid[target], y_valid)\n",
    "disp = ConfusionMatrixDisplay(confusion_matrix=cm_val)\n",
    "disp.plot()"
   ]
  },
  {
   "cell_type": "code",
   "execution_count": 138,
   "id": "e996b468",
   "metadata": {},
   "outputs": [],
   "source": [
    "data_t = data_train[['Air temperature [K]', 'Process temperature [K]', 'Rotational speed [rpm]',\\\n",
    "                     'Torque [Nm]', 'Tool wear [min]', 'Type_Num','Machine failure']]"
   ]
  },
  {
   "cell_type": "code",
   "execution_count": null,
   "id": "7e384c7e",
   "metadata": {},
   "outputs": [],
   "source": [
    "#graph = graphviz.Source(dot_data)\n",
    "#graph.render(\"data_t\") "
   ]
  },
  {
   "cell_type": "code",
   "execution_count": 26,
   "id": "2d752657",
   "metadata": {},
   "outputs": [],
   "source": [
    "dot_data = tree.export_graphviz(clf, out_file=None, feature_names=label, class_names=target, filled=True, rounded=True,  special_characters=True)"
   ]
  },
  {
   "cell_type": "code",
   "execution_count": 27,
   "id": "240f2bfc",
   "metadata": {},
   "outputs": [],
   "source": [
    "import graphviz \n",
    "graph = graphviz.Source(dot_data) "
   ]
  },
  {
   "cell_type": "code",
   "execution_count": 29,
   "id": "fc15c020",
   "metadata": {},
   "outputs": [
    {
     "data": {
      "text/plain": [
       "<Figure size 432x288 with 0 Axes>"
      ]
     },
     "metadata": {},
     "output_type": "display_data"
    }
   ],
   "source": [
    "import pylab\n",
    "graph.render(filename='tree_mul')\n",
    "pylab.savefig('tree_mul.png')"
   ]
  },
  {
   "cell_type": "code",
   "execution_count": 30,
   "id": "92726d26",
   "metadata": {},
   "outputs": [
    {
     "name": "stdout",
     "output_type": "stream",
     "text": [
      "graph {\n",
      "\tA\n",
      "\tB\n",
      "\tA -- B\n",
      "}\n"
     ]
    },
    {
     "data": {
      "text/plain": [
       "<Figure size 432x288 with 0 Axes>"
      ]
     },
     "metadata": {},
     "output_type": "display_data"
    }
   ],
   "source": [
    "import graphviz as gv\n",
    "import pylab\n",
    "\n",
    "g1 = gv.Graph(format='png')\n",
    "\n",
    "g1.node('A')\n",
    "g1.node('B')\n",
    "g1.edge('A', 'B')\n",
    "\n",
    "g1.view()\n",
    "print(g1.source) \n",
    "\n",
    "filename = g1.render(filename='img/g1')\n",
    "\n",
    "pylab.savefig('filename.png')"
   ]
  },
  {
   "cell_type": "code",
   "execution_count": 222,
   "id": "963ff923",
   "metadata": {},
   "outputs": [
    {
     "data": {
      "text/plain": [
       "20"
      ]
     },
     "execution_count": 222,
     "metadata": {},
     "output_type": "execute_result"
    }
   ],
   "source": [
    "clf.get_depth()"
   ]
  },
  {
   "cell_type": "code",
   "execution_count": 260,
   "id": "3249c227",
   "metadata": {},
   "outputs": [],
   "source": [
    "#Post pruning\n",
    "path = clf.cost_complexity_pruning_path(X_train, y_train)\n",
    "ccp_alphas, impurities = path.ccp_alphas, path.impurities"
   ]
  },
  {
   "cell_type": "code",
   "execution_count": 261,
   "id": "c6bfd645",
   "metadata": {},
   "outputs": [
    {
     "data": {
      "text/plain": [
       "Text(0.5, 1.0, 'Total Impurity vs effective alpha for training set')"
      ]
     },
     "execution_count": 261,
     "metadata": {},
     "output_type": "execute_result"
    },
    {
     "data": {
      "image/png": "[encoded data removed]",
      "text/plain": [
       "<Figure size 432x288 with 1 Axes>"
      ]
     },
     "metadata": {
      "needs_background": "light"
     },
     "output_type": "display_data"
    }
   ],
   "source": [
    "fig, ax = plt.subplots()\n",
    "ax.plot(ccp_alphas[:-1], impurities[:-1], marker=\"o\", drawstyle=\"steps-post\")\n",
    "ax.set_xlabel(\"effective alpha\")\n",
    "ax.set_ylabel(\"total impurity of leaves\")\n",
    "ax.set_title(\"Total Impurity vs effective alpha for training set\")"
   ]
  },
  {
   "cell_type": "code",
   "execution_count": 262,
   "id": "50940dae",
   "metadata": {},
   "outputs": [
    {
     "name": "stdout",
     "output_type": "stream",
     "text": [
      "Number of nodes in the last tree is: 1 with ccp_alpha: 0.04701977126762602\n"
     ]
    }
   ],
   "source": [
    "clfs = []\n",
    "for ccp_alpha in ccp_alphas:\n",
    "    clf = tree.DecisionTreeClassifier(random_state=0, ccp_alpha=ccp_alpha)\n",
    "    clf.fit(X_train, y_train)\n",
    "    clfs.append(clf)\n",
    "print(\n",
    "    \"Number of nodes in the last tree is: {} with ccp_alpha: {}\".format(\n",
    "        clfs[-1].tree_.node_count, ccp_alphas[-1]\n",
    "    )\n",
    ")"
   ]
  },
  {
   "cell_type": "code",
   "execution_count": 263,
   "id": "50478c81",
   "metadata": {},
   "outputs": [
    {
     "data": {
      "image/png": "[encoded data removed]",
      "text/plain": [
       "<Figure size 432x288 with 2 Axes>"
      ]
     },
     "metadata": {
      "needs_background": "light"
     },
     "output_type": "display_data"
    }
   ],
   "source": [
    "clfs = clfs[:-1]\n",
    "ccp_alphas = ccp_alphas[:-1]\n",
    "\n",
    "node_counts = [clf.tree_.node_count for clf in clfs]\n",
    "depth = [clf.tree_.max_depth for clf in clfs]\n",
    "fig, ax = plt.subplots(2, 1)\n",
    "ax[0].plot(ccp_alphas, node_counts, marker=\"o\", drawstyle=\"steps-post\")\n",
    "ax[0].set_xlabel(\"alpha\")\n",
    "ax[0].set_ylabel(\"number of nodes\")\n",
    "ax[0].set_title(\"Number of nodes vs alpha\")\n",
    "ax[1].plot(ccp_alphas, depth, marker=\"o\", drawstyle=\"steps-post\")\n",
    "ax[1].set_xlabel(\"alpha\")\n",
    "ax[1].set_ylabel(\"depth of tree\")\n",
    "ax[1].set_title(\"Depth vs alpha\")\n",
    "fig.tight_layout()"
   ]
  },
  {
   "cell_type": "code",
   "execution_count": 264,
   "id": "13be196e",
   "metadata": {},
   "outputs": [
    {
     "data": {
      "image/png": "[encoded data removed]",
      "text/plain": [
       "<Figure size 432x288 with 1 Axes>"
      ]
     },
     "metadata": {
      "needs_background": "light"
     },
     "output_type": "display_data"
    }
   ],
   "source": [
    "train_scores = [clf.score(X_train, y_train) for clf in clfs]\n",
    "test_scores = [clf.score(data_test[label], data_test[target]) for clf in clfs]\n",
    "\n",
    "fig, ax = plt.subplots()\n",
    "ax.set_xlabel(\"alpha\")\n",
    "ax.set_ylabel(\"accuracy\")\n",
    "ax.set_title(\"Accuracy vs alpha for training and testing sets\")\n",
    "ax.plot(ccp_alphas, train_scores, marker=\"o\", label=\"train\", drawstyle=\"steps-post\")\n",
    "ax.plot(ccp_alphas, test_scores, marker=\"o\", label=\"test\", drawstyle=\"steps-post\")\n",
    "ax.legend()\n",
    "plt.show()"
   ]
  },
  {
   "cell_type": "markdown",
   "id": "f1f4aca1",
   "metadata": {},
   "source": [
    "https://towardsdatascience.com/pre-pruning-or-post-pruning-1dbc8be5cb14"
   ]
  },
  {
   "cell_type": "markdown",
   "id": "f2e3cc5f",
   "metadata": {},
   "source": [
    "# Tree Depth = 3"
   ]
  },
  {
   "cell_type": "code",
   "execution_count": 265,
   "id": "b73fab2c",
   "metadata": {},
   "outputs": [],
   "source": [
    "clf_p = tree.DecisionTreeClassifier(criterion='gini', splitter='best', max_depth=4, \n",
    "                                  min_samples_split=2, min_samples_leaf=1, min_weight_fraction_leaf=0.0, \n",
    "                                  max_features=None, random_state=None, max_leaf_nodes=None, min_impurity_decrease=0.0, \n",
    "                                  class_weight=None, ccp_alpha=0.005)\n",
    "clf_p = clf_p.fit(X_train, y_train)\n",
    "\n",
    "y_test_pred = clf_p.predict(data_test[label])\n",
    "\n",
    "y_valid_pred = clf_p.predict(data_valid[label])"
   ]
  },
  {
   "cell_type": "code",
   "execution_count": 266,
   "id": "cbf60089",
   "metadata": {},
   "outputs": [
    {
     "name": "stdout",
     "output_type": "stream",
     "text": [
      "Training score :  0.8803813714704803\n",
      "Testing score :  0.8131080389144906\n",
      "Validation score :  0.8127561475409836\n"
     ]
    }
   ],
   "source": [
    "print('Training score : ', clf_p.score(X_train, y_train))\n",
    "print('Testing score : ', clf_p.score(X_test, y_test))\n",
    "print('Validation score : ', clf_p.score(X_valid, y_valid))"
   ]
  },
  {
   "cell_type": "code",
   "execution_count": 351,
   "id": "911f773c",
   "metadata": {},
   "outputs": [
    {
     "data": {
      "image/png": "[encoded data removed]",
      "text/plain": [
       "<Figure size 432x288 with 1 Axes>"
      ]
     },
     "metadata": {
      "needs_background": "light"
     },
     "output_type": "display_data"
    }
   ],
   "source": [
    "train_scores = []\n",
    "test_scores = []\n",
    "valid_scores = []\n",
    "target = ['Machine failure', 'TWF', 'HDF','PWF', 'OSF', 'RNF']\n",
    "\n",
    "for key in target:\n",
    "    clf_p = tree.DecisionTreeClassifier(criterion='gini', splitter='best', max_depth=4, \n",
    "                                  min_samples_split=2, min_samples_leaf=1, min_weight_fraction_leaf=0.0, \n",
    "                                  max_features=None, random_state=None, max_leaf_nodes=None, min_impurity_decrease=0.0, \n",
    "                                  class_weight=None, ccp_alpha=0.005).fit(X_train, y_train[key])\n",
    "    train_score = [clf_p.score(X_train, y_train[key])]\n",
    "    test_score = [clf_p.score(X_test, y_test[key]) ]\n",
    "    valid_score = [clf_p.score(X_valid, y_valid[key])]\n",
    "    train_scores.append(train_score)\n",
    "    test_scores.append(test_score)\n",
    "    valid_scores.append(test_score)\n",
    "\n",
    "fig, ax = plt.subplots()\n",
    "ax.set_xlabel(\"Machine failure modes\")\n",
    "ax.set_ylabel(\"accuracy\")\n",
    "ax.set_title(\"Accuracy vs Failure mode for Decision Tree Classifier\")\n",
    "ax.plot(target, train_scores, marker=\"o\", label='train', drawstyle=\"steps-mid\")\n",
    "ax.plot(target, test_scores, marker=\"x\", label=\"test\", drawstyle=\"steps-mid\")\n",
    "ax.plot(target, valid_scores, marker=\".\", label=\"valid\", drawstyle=\"steps-mid\")\n",
    "ax.legend()\n",
    "plt.show()"
   ]
  },
  {
   "cell_type": "code",
   "execution_count": null,
   "id": "55c4f2af",
   "metadata": {},
   "outputs": [],
   "source": []
  },
  {
   "cell_type": "code",
   "execution_count": 267,
   "id": "05191387",
   "metadata": {},
   "outputs": [
    {
     "data": {
      "text/plain": [
       "4"
      ]
     },
     "execution_count": 267,
     "metadata": {},
     "output_type": "execute_result"
    }
   ],
   "source": [
    "clf_p.get_depth()"
   ]
  },
  {
   "cell_type": "code",
   "execution_count": 348,
   "id": "e8c765df",
   "metadata": {
    "scrolled": true
   },
   "outputs": [
    {
     "name": "stderr",
     "output_type": "stream",
     "text": [
      "C:\\Users\\amank\\anaconda3\\lib\\site-packages\\sklearn\\metrics\\_classification.py:1245: UndefinedMetricWarning: Precision and F-score are ill-defined and being set to 0.0 in labels with no predicted samples. Use `zero_division` parameter to control this behavior.\n",
      "  _warn_prf(average, modifier, msg_start, len(result))\n",
      "C:\\Users\\amank\\anaconda3\\lib\\site-packages\\sklearn\\metrics\\_classification.py:1245: UndefinedMetricWarning: Recall and F-score are ill-defined and being set to 0.0 in labels with no true samples. Use `zero_division` parameter to control this behavior.\n",
      "  _warn_prf(average, modifier, msg_start, len(result))\n",
      "C:\\Users\\amank\\anaconda3\\lib\\site-packages\\sklearn\\metrics\\_classification.py:1245: UndefinedMetricWarning: Precision and F-score are ill-defined and being set to 0.0 in samples with no predicted labels. Use `zero_division` parameter to control this behavior.\n",
      "  _warn_prf(average, modifier, msg_start, len(result))\n",
      "C:\\Users\\amank\\anaconda3\\lib\\site-packages\\sklearn\\metrics\\_classification.py:1245: UndefinedMetricWarning: Recall and F-score are ill-defined and being set to 0.0 in samples with no true labels. Use `zero_division` parameter to control this behavior.\n",
      "  _warn_prf(average, modifier, msg_start, len(result))\n"
     ]
    },
    {
     "ename": "TypeError",
     "evalue": "'target_names' is an invalid keyword argument for print()",
     "output_type": "error",
     "traceback": [
      "\u001b[1;31m---------------------------------------------------------------------------\u001b[0m",
      "\u001b[1;31mTypeError\u001b[0m                                 Traceback (most recent call last)",
      "\u001b[1;32m<ipython-input-348-5c613b86e7f4>\u001b[0m in \u001b[0;36m<module>\u001b[1;34m\u001b[0m\n\u001b[1;32m----> 1\u001b[1;33m \u001b[0mprint\u001b[0m\u001b[1;33m(\u001b[0m\u001b[0mclassification_report\u001b[0m\u001b[1;33m(\u001b[0m\u001b[0mdata_test\u001b[0m\u001b[1;33m[\u001b[0m\u001b[0mtarget\u001b[0m\u001b[1;33m]\u001b[0m\u001b[1;33m,\u001b[0m \u001b[0my_test_pred\u001b[0m\u001b[1;33m)\u001b[0m\u001b[1;33m,\u001b[0m \u001b[0mtarget_names\u001b[0m\u001b[1;33m=\u001b[0m\u001b[0mtarget\u001b[0m\u001b[1;33m)\u001b[0m\u001b[1;33m\u001b[0m\u001b[1;33m\u001b[0m\u001b[0m\n\u001b[0m",
      "\u001b[1;31mTypeError\u001b[0m: 'target_names' is an invalid keyword argument for print()"
     ]
    }
   ],
   "source": [
    "print(classification_report(data_test[target], y_test_pred), target_names=target)"
   ]
  },
  {
   "cell_type": "code",
   "execution_count": 269,
   "id": "8265bd76",
   "metadata": {
    "scrolled": true
   },
   "outputs": [
    {
     "name": "stdout",
     "output_type": "stream",
     "text": [
      "              precision    recall  f1-score   support\n",
      "\n",
      "           0       0.90      0.94      0.92       986\n",
      "           1       0.66      0.60      0.63       145\n",
      "           2       0.88      0.70      0.78       290\n",
      "           3       0.86      0.89      0.87       261\n",
      "           4       0.87      0.92      0.90       377\n",
      "           5       0.00      0.00      0.00         0\n",
      "\n",
      "   micro avg       0.87      0.87      0.87      2059\n",
      "   macro avg       0.69      0.68      0.68      2059\n",
      "weighted avg       0.87      0.87      0.87      2059\n",
      " samples avg       0.46      0.44      0.45      2059\n",
      "\n"
     ]
    },
    {
     "name": "stderr",
     "output_type": "stream",
     "text": [
      "C:\\Users\\amank\\anaconda3\\lib\\site-packages\\sklearn\\metrics\\_classification.py:1245: UndefinedMetricWarning: Precision and F-score are ill-defined and being set to 0.0 in labels with no predicted samples. Use `zero_division` parameter to control this behavior.\n",
      "  _warn_prf(average, modifier, msg_start, len(result))\n",
      "C:\\Users\\amank\\anaconda3\\lib\\site-packages\\sklearn\\metrics\\_classification.py:1245: UndefinedMetricWarning: Recall and F-score are ill-defined and being set to 0.0 in labels with no true samples. Use `zero_division` parameter to control this behavior.\n",
      "  _warn_prf(average, modifier, msg_start, len(result))\n",
      "C:\\Users\\amank\\anaconda3\\lib\\site-packages\\sklearn\\metrics\\_classification.py:1245: UndefinedMetricWarning: Precision and F-score are ill-defined and being set to 0.0 in samples with no predicted labels. Use `zero_division` parameter to control this behavior.\n",
      "  _warn_prf(average, modifier, msg_start, len(result))\n",
      "C:\\Users\\amank\\anaconda3\\lib\\site-packages\\sklearn\\metrics\\_classification.py:1245: UndefinedMetricWarning: Recall and F-score are ill-defined and being set to 0.0 in samples with no true labels. Use `zero_division` parameter to control this behavior.\n",
      "  _warn_prf(average, modifier, msg_start, len(result))\n"
     ]
    }
   ],
   "source": [
    "print(classification_report(data_test[target], y_test_pred))"
   ]
  },
  {
   "cell_type": "code",
   "execution_count": null,
   "id": "e9f8bcb6",
   "metadata": {
    "scrolled": true
   },
   "outputs": [],
   "source": [
    "confusion_matrix(data_valid[target], y_valid_pred)"
   ]
  },
  {
   "cell_type": "code",
   "execution_count": 270,
   "id": "199b0806",
   "metadata": {
    "scrolled": true
   },
   "outputs": [
    {
     "data": {
      "text/plain": [
       "[Text(167.4, 195.696, 'X[2] <= 1381.5\\ngini = 0.234\\nsamples = 13635\\nvalue = [[6762, 6873]\\n[12823, 812]\\n[11228, 2407]\\n[11547, 2088]\\n[11750, 1885]\\n[13591, 44]]'),\n",
       " Text(104.625, 152.208, 'X[4] <= 181.5\\ngini = 0.247\\nsamples = 5452\\nvalue = [[812, 4640]\\n[5394, 58]\\n[3045, 2407]\\n[4350, 1102]\\n[4002, 1450]\\n[5450, 2]]'),\n",
       " Text(83.7, 108.72, 'X[0] <= 301.55\\ngini = 0.199\\nsamples = 3789\\nvalue = [[715, 3074]\\n[3789, 0]\\n[1585, 2204]\\n[2861, 928]\\n[3731, 58]\\n[3787, 2]]'),\n",
       " Text(41.85, 65.232, 'X[3] <= 62.45\\ngini = 0.181\\nsamples = 1270\\nvalue = [[603, 667]\\n[1270, 0]\\n[1270, 0]\\n[632, 638]\\n[1212, 58]\\n[1270, 0]]'),\n",
       " Text(20.925, 21.744, 'gini = 0.0\\nsamples = 579\\nvalue = [[579, 0]\\n[579, 0]\\n[579, 0]\\n[579, 0]\\n[579, 0]\\n[579, 0]]'),\n",
       " Text(62.775000000000006, 21.744, 'gini = 0.06\\nsamples = 691\\nvalue = [[24, 667]\\n[691, 0]\\n[691, 0]\\n[53, 638]\\n[633, 58]\\n[691, 0]]'),\n",
       " Text(125.55000000000001, 65.232, 'X[3] <= 65.1\\ngini = 0.085\\nsamples = 2519\\nvalue = [[112, 2407]\\n[2519, 0]\\n[315, 2204]\\n[2229, 290]\\n[2519, 0]\\n[2517, 2]]'),\n",
       " Text(104.625, 21.744, 'gini = 0.032\\nsamples = 2198\\nvalue = [[110, 2088]\\n[2198, 0]\\n[110, 2088]\\n[2198, 0]\\n[2198, 0]\\n[2196, 2]]'),\n",
       " Text(146.475, 21.744, 'gini = 0.108\\nsamples = 321\\nvalue = [[2, 319]\\n[321, 0]\\n[205, 116]\\n[31, 290]\\n[321, 0]\\n[321, 0]]'),\n",
       " Text(125.55000000000001, 108.72, 'gini = 0.142\\nsamples = 1663\\nvalue = [[97, 1566]\\n[1605, 58]\\n[1460, 203]\\n[1489, 174]\\n[271, 1392]\\n[1663, 0]]'),\n",
       " Text(230.175, 152.208, 'X[3] <= 14.75\\ngini = 0.148\\nsamples = 8183\\nvalue = [[5950, 2233]\\n[7429, 754]\\n[8183, 0]\\n[7197, 986]\\n[7748, 435]\\n[8141, 42]]'),\n",
       " Text(209.25, 108.72, 'gini = 0.012\\nsamples = 679\\nvalue = [[12, 667]\\n[679, 0]\\n[679, 0]\\n[12, 667]\\n[679, 0]\\n[679, 0]]'),\n",
       " Text(251.10000000000002, 108.72, 'X[4] <= 204.5\\ngini = 0.119\\nsamples = 7504\\nvalue = [[5938, 1566]\\n[6750, 754]\\n[7504, 0]\\n[7185, 319]\\n[7069, 435]\\n[7462, 42]]'),\n",
       " Text(209.25, 65.232, 'X[3] <= 57.05\\ngini = 0.054\\nsamples = 6218\\nvalue = [[5638, 580]\\n[6131, 87]\\n[6218, 0]\\n[5928, 290]\\n[6102, 116]\\n[6206, 12]]'),\n",
       " Text(188.32500000000002, 21.744, 'gini = 0.017\\nsamples = 5810\\nvalue = [[5607, 203]\\n[5723, 87]\\n[5810, 0]\\n[5810, 0]\\n[5810, 0]\\n[5799, 11]]'),\n",
       " Text(230.175, 21.744, 'gini = 0.161\\nsamples = 408\\nvalue = [[31, 377]\\n[408, 0]\\n[408, 0]\\n[118, 290]\\n[292, 116]\\n[407, 1]]'),\n",
       " Text(292.95, 65.232, 'X[3] <= 48.85\\ngini = 0.22\\nsamples = 1286\\nvalue = [[300, 986]\\n[619, 667]\\n[1286, 0]\\n[1257, 29]\\n[967, 319]\\n[1256, 30]]'),\n",
       " Text(272.02500000000003, 21.744, 'gini = 0.163\\nsamples = 946\\nvalue = [[279, 667]\\n[308, 638]\\n[946, 0]\\n[946, 0]\\n[917, 29]\\n[916, 30]]'),\n",
       " Text(313.875, 21.744, 'gini = 0.113\\nsamples = 340\\nvalue = [[21, 319]\\n[311, 29]\\n[340, 0]\\n[311, 29]\\n[50, 290]\\n[340, 0]]')]"
      ]
     },
     "execution_count": 270,
     "metadata": {},
     "output_type": "execute_result"
    },
    {
     "data": {
      "image/png": "[encoded data removed]",
      "text/plain": [
       "<Figure size 432x288 with 1 Axes>"
      ]
     },
     "metadata": {
      "needs_background": "light"
     },
     "output_type": "display_data"
    }
   ],
   "source": [
    "tree.plot_tree(clf_p)"
   ]
  },
  {
   "cell_type": "code",
   "execution_count": 271,
   "id": "7ec0d01c",
   "metadata": {},
   "outputs": [],
   "source": [
    "dot_data = tree.export_graphviz(clf_p, out_file=None, feature_names=label, class_names=target, filled=True,\\\n",
    "                                rounded=True,  special_characters=True)"
   ]
  },
  {
   "cell_type": "code",
   "execution_count": 272,
   "id": "bb6af6ba",
   "metadata": {},
   "outputs": [],
   "source": [
    "graph = graphviz.Source(dot_data) "
   ]
  },
  {
   "cell_type": "code",
   "execution_count": 273,
   "id": "7cda2471",
   "metadata": {},
   "outputs": [
    {
     "data": {
      "text/plain": [
       "<Figure size 432x288 with 0 Axes>"
      ]
     },
     "metadata": {},
     "output_type": "display_data"
    }
   ],
   "source": [
    "graph\n",
    "graph.render(filename='tree_d3_mul')\n",
    "pylab.savefig('tree_d3_mul.png')"
   ]
  },
  {
   "cell_type": "markdown",
   "id": "09e7683c",
   "metadata": {},
   "source": [
    "## Random Forest for multilabel output"
   ]
  },
  {
   "cell_type": "code",
   "execution_count": 274,
   "id": "01b6fc5c",
   "metadata": {},
   "outputs": [
    {
     "data": {
      "text/plain": [
       "1.0"
      ]
     },
     "execution_count": 274,
     "metadata": {},
     "output_type": "execute_result"
    }
   ],
   "source": [
    "from sklearn.ensemble import RandomForestClassifier\n",
    "\n",
    "X_train = data_train[label]\n",
    "y_train = data_train[target]\n",
    "\n",
    "X_test = data_test[label]\n",
    "y_test = data_test[target]\n",
    "\n",
    "X_valid = data_valid[label]\n",
    "y_valid = data_valid[target]\n",
    "\n",
    "clf_rf = RandomForestClassifier(max_depth=None,ccp_alpha=0.0, random_state=0)\n",
    "clf_rf.fit(X_train, y_train)\n",
    "clf_rf.score(X_train, y_train)"
   ]
  },
  {
   "cell_type": "code",
   "execution_count": 275,
   "id": "5c55d0ce",
   "metadata": {},
   "outputs": [],
   "source": [
    "label = ['Air temperature [K]', 'Process temperature [K]', 'Rotational speed [rpm]', \\\n",
    "         'Torque [Nm]', 'Tool wear [min]', 'Type_Num']"
   ]
  },
  {
   "cell_type": "code",
   "execution_count": 276,
   "id": "371ebb0e",
   "metadata": {},
   "outputs": [
    {
     "data": {
      "text/plain": [
       "<BarContainer object of 6 artists>"
      ]
     },
     "execution_count": 276,
     "metadata": {},
     "output_type": "execute_result"
    },
    {
     "data": {
      "image/png": "[encoded data removed]",
      "text/plain": [
       "<Figure size 1080x288 with 1 Axes>"
      ]
     },
     "metadata": {
      "needs_background": "light"
     },
     "output_type": "display_data"
    }
   ],
   "source": [
    "imp = np.vstack((label, clf_rf.feature_importances_))\n",
    "fig = plt.figure(figsize =(15, 4))\n",
    "plt.bar(label, clf_rf.feature_importances_)"
   ]
  },
  {
   "cell_type": "code",
   "execution_count": 277,
   "id": "51da2d31",
   "metadata": {},
   "outputs": [
    {
     "name": "stdout",
     "output_type": "stream",
     "text": [
      "Training score :  1.0\n",
      "Testing score :  0.7588325652841782\n",
      "Validation score :  0.7305327868852459\n"
     ]
    }
   ],
   "source": [
    "print('Training score : ', clf_rf.score(X_train, y_train))\n",
    "print('Testing score : ', clf_rf.score(X_test, y_test))\n",
    "print('Validation score : ', clf_rf.score(X_valid, y_valid))"
   ]
  },
  {
   "cell_type": "code",
   "execution_count": 278,
   "id": "4407abd5",
   "metadata": {},
   "outputs": [
    {
     "name": "stdout",
     "output_type": "stream",
     "text": [
      "Train score : 0.8383571690502384\n",
      "Test score :  0.7393753200204813\n",
      "Validation score :  0.7005635245901639\n"
     ]
    }
   ],
   "source": [
    "clf_rf = RandomForestClassifier(n_estimators=100,criterion='entropy', max_depth=4, min_samples_split=2, \\\n",
    "                                min_samples_leaf=1, min_weight_fraction_leaf=0.0, max_features='auto', \\\n",
    "                                max_leaf_nodes=None, min_impurity_decrease=0.0, bootstrap=True, \\\n",
    "                                oob_score=False, n_jobs=None, random_state=0, verbose=0,\\\n",
    "                                warm_start=False, class_weight=None, ccp_alpha=0.0, max_samples=None)\n",
    "clf_rf.fit(X_train, y_train)\n",
    "print('Train score :',clf_rf.score(X_train, y_train))\n",
    "print('Test score : ',clf_rf.score(X_test, y_test))\n",
    "print('Validation score : ',clf_rf.score(X_valid, y_valid))"
   ]
  },
  {
   "cell_type": "code",
   "execution_count": 344,
   "id": "596139ce",
   "metadata": {},
   "outputs": [],
   "source": [
    "train_scores = []\n",
    "test_scores = []\n",
    "valid_scores = []\n",
    "target = ['Machine failure', 'TWF', 'HDF','PWF', 'OSF', 'RNF']\n",
    "\n",
    "for key in target:\n",
    "    clf_rf = RandomForestClassifier(n_estimators=100,criterion='entropy', max_depth=4, min_samples_split=2, \\\n",
    "                                min_samples_leaf=1, min_weight_fraction_leaf=0.0, max_features='auto', \\\n",
    "                                max_leaf_nodes=None, min_impurity_decrease=0.0, bootstrap=True, \\\n",
    "                                oob_score=False, n_jobs=None, random_state=0, verbose=0,\\\n",
    "                                warm_start=False, class_weight=None, \\\n",
    "                                    ccp_alpha=0.0, max_samples=None).fit(X_train, y_train[key])\n",
    "    train_score = [clf_rf.score(X_train, y_train[key])]\n",
    "    test_score = [clf_rf.score(X_test, y_test[key]) ]\n",
    "    valid_score = [clf_rf.score(X_valid, y_valid[key])]\n",
    "    train_scores.append(train_score)\n",
    "    test_scores.append(test_score)\n",
    "    valid_scores.append(test_score)"
   ]
  },
  {
   "cell_type": "code",
   "execution_count": 346,
   "id": "5002f70f",
   "metadata": {},
   "outputs": [
    {
     "data": {
      "image/png": "[encoded data removed]",
      "text/plain": [
       "<Figure size 432x288 with 1 Axes>"
      ]
     },
     "metadata": {
      "needs_background": "light"
     },
     "output_type": "display_data"
    }
   ],
   "source": [
    "fig, ax = plt.subplots()\n",
    "ax.set_xlabel(\"Machine failure modes\")\n",
    "ax.set_ylabel(\"accuracy\")\n",
    "ax.set_title(\"Accuracy vs Failure mode for Random Forest Classifier\")\n",
    "ax.plot(target, train_scores, marker=\"o\", label='train', drawstyle=\"steps-mid\")\n",
    "ax.plot(target, test_scores, marker=\"x\", label=\"test\", drawstyle=\"steps-mid\")\n",
    "ax.plot(target, valid_scores, marker=\".\", label=\"valid\", drawstyle=\"steps-mid\")\n",
    "ax.legend()\n",
    "plt.show()"
   ]
  },
  {
   "cell_type": "code",
   "execution_count": 279,
   "id": "e5f4c5b6",
   "metadata": {},
   "outputs": [
    {
     "data": {
      "text/plain": [
       "(<13635x3060 sparse matrix of type '<class 'numpy.int64'>'\n",
       " \twith 6815005 stored elements in Compressed Sparse Row format>,\n",
       " array([   0,   31,   60,   91,  122,  151,  182,  213,  242,  271,  302,\n",
       "         333,  364,  395,  424,  455,  486,  517,  548,  579,  610,  641,\n",
       "         672,  701,  732,  763,  794,  825,  854,  883,  914,  945,  974,\n",
       "        1005, 1034, 1065, 1096, 1127, 1158, 1189, 1220, 1251, 1282, 1311,\n",
       "        1342, 1371, 1400, 1431, 1460, 1491, 1522, 1553, 1582, 1613, 1644,\n",
       "        1675, 1706, 1737, 1768, 1799, 1830, 1861, 1892, 1923, 1954, 1985,\n",
       "        2016, 2047, 2078, 2107, 2138, 2169, 2200, 2231, 2262, 2293, 2322,\n",
       "        2353, 2384, 2413, 2444, 2475, 2506, 2537, 2568, 2599, 2630, 2661,\n",
       "        2692, 2723, 2754, 2785, 2814, 2845, 2876, 2907, 2938, 2969, 2998,\n",
       "        3029, 3060], dtype=int32))"
      ]
     },
     "execution_count": 279,
     "metadata": {},
     "output_type": "execute_result"
    }
   ],
   "source": [
    "clf_rf.decision_path(X_train)"
   ]
  },
  {
   "cell_type": "code",
   "execution_count": 337,
   "id": "2c4c4e7a",
   "metadata": {},
   "outputs": [
    {
     "name": "stdout",
     "output_type": "stream",
     "text": [
      "                 precision    recall  f1-score   support\n",
      "\n",
      "Machine failure       0.88      0.89      0.89       973\n",
      "            TWF       0.00      0.00      0.00         0\n",
      "            HDF       0.70      0.88      0.78       230\n",
      "            PWF       0.67      0.84      0.74       207\n",
      "            OSF       0.85      0.97      0.90       330\n",
      "            RNF       0.00      0.00      0.00         0\n",
      "\n",
      "      micro avg       0.76      0.90      0.82      1740\n",
      "      macro avg       0.52      0.60      0.55      1740\n",
      "   weighted avg       0.83      0.90      0.86      1740\n",
      "    samples avg       0.38      0.44      0.40      1740\n",
      "\n"
     ]
    },
    {
     "name": "stderr",
     "output_type": "stream",
     "text": [
      "C:\\Users\\amank\\anaconda3\\lib\\site-packages\\sklearn\\metrics\\_classification.py:1245: UndefinedMetricWarning: Precision and F-score are ill-defined and being set to 0.0 in labels with no predicted samples. Use `zero_division` parameter to control this behavior.\n",
      "  _warn_prf(average, modifier, msg_start, len(result))\n",
      "C:\\Users\\amank\\anaconda3\\lib\\site-packages\\sklearn\\metrics\\_classification.py:1245: UndefinedMetricWarning: Recall and F-score are ill-defined and being set to 0.0 in labels with no true samples. Use `zero_division` parameter to control this behavior.\n",
      "  _warn_prf(average, modifier, msg_start, len(result))\n",
      "C:\\Users\\amank\\anaconda3\\lib\\site-packages\\sklearn\\metrics\\_classification.py:1245: UndefinedMetricWarning: Precision and F-score are ill-defined and being set to 0.0 in samples with no predicted labels. Use `zero_division` parameter to control this behavior.\n",
      "  _warn_prf(average, modifier, msg_start, len(result))\n",
      "C:\\Users\\amank\\anaconda3\\lib\\site-packages\\sklearn\\metrics\\_classification.py:1245: UndefinedMetricWarning: Recall and F-score are ill-defined and being set to 0.0 in samples with no true labels. Use `zero_division` parameter to control this behavior.\n",
      "  _warn_prf(average, modifier, msg_start, len(result))\n"
     ]
    }
   ],
   "source": [
    "#Classification report over test set\n",
    "print(classification_report(clf_rf.predict(X_test), y_test, target_names=target))"
   ]
  },
  {
   "cell_type": "code",
   "execution_count": null,
   "id": "c5717311",
   "metadata": {},
   "outputs": [],
   "source": [
    "cm_val = confusion_matrix(data_valid[target], clf_rf.predict(X_valid))\n",
    "disp = ConfusionMatrixDisplay(confusion_matrix=cm_val)\n",
    "disp.plot()"
   ]
  },
  {
   "cell_type": "code",
   "execution_count": 340,
   "id": "657e58d0",
   "metadata": {},
   "outputs": [],
   "source": [
    "matrices = multilabel_confusion_matrix(clf_rf.predict(X_test), y_test)\n",
    "# Plotting matrices\n",
    "cmd = ConfusionMatrixDisplay(matrices[0], display_labels=np.unique(y_tst)).plot()\n",
    "plt.title('Confusion Matrix for label 1 (Machine Failure)')\n",
    "plt.show()"
   ]
  },
  {
   "cell_type": "markdown",
   "id": "78e56a2a",
   "metadata": {},
   "source": [
    "## Extra Tree Classifier for multilabel output"
   ]
  },
  {
   "cell_type": "code",
   "execution_count": 280,
   "id": "030a2f6c",
   "metadata": {},
   "outputs": [
    {
     "name": "stdout",
     "output_type": "stream",
     "text": [
      "Train score : 0.6371837183718372\n",
      "Test score :  0.604710701484895\n",
      "Validation score :  0.633452868852459\n"
     ]
    }
   ],
   "source": [
    "from sklearn.tree import ExtraTreeClassifier\n",
    "\n",
    "extra_tree = ExtraTreeClassifier(max_depth=3, random_state=0)\n",
    "\n",
    "#cls = BaggingClassifier(extra_tree, random_state=0).fit(X_train, y_train)\n",
    "extra_tree.fit(X_train, y_train)\n",
    "print('Train score :',extra_tree.score(X_train, y_train))\n",
    "print('Test score : ',extra_tree.score(X_test, y_test))\n",
    "print('Validation score : ',extra_tree.score(X_valid, y_valid))"
   ]
  },
  {
   "cell_type": "code",
   "execution_count": 281,
   "id": "219901ae",
   "metadata": {},
   "outputs": [],
   "source": [
    "X_train = data_train[label]\n",
    "y_train = data_train[target]\n",
    "\n",
    "X_test = data_test[label]\n",
    "y_test = data_test[target]\n",
    "\n",
    "\n",
    "X_valid = data_valid[label]\n",
    "y_valid = data_valid[target]"
   ]
  },
  {
   "cell_type": "code",
   "execution_count": 282,
   "id": "28eace74",
   "metadata": {},
   "outputs": [
    {
     "data": {
      "text/plain": [
       "<BarContainer object of 6 artists>"
      ]
     },
     "execution_count": 282,
     "metadata": {},
     "output_type": "execute_result"
    },
    {
     "data": {
      "image/png": "[encoded data removed]",
      "text/plain": [
       "<Figure size 1080x288 with 1 Axes>"
      ]
     },
     "metadata": {
      "needs_background": "light"
     },
     "output_type": "display_data"
    }
   ],
   "source": [
    "imp = np.vstack((label, extra_tree.feature_importances_))\n",
    "fig = plt.figure(figsize =(15, 4))\n",
    "plt.bar(label, clf_rf.feature_importances_)"
   ]
  },
  {
   "cell_type": "markdown",
   "id": "897dade7",
   "metadata": {},
   "source": [
    "## Gradient Boosted Tree for multilabel output"
   ]
  },
  {
   "cell_type": "code",
   "execution_count": 283,
   "id": "5d122b25",
   "metadata": {},
   "outputs": [],
   "source": [
    "from sklearn.ensemble import GradientBoostingClassifier"
   ]
  },
  {
   "cell_type": "code",
   "execution_count": 314,
   "id": "3f66a7f7",
   "metadata": {},
   "outputs": [],
   "source": [
    "train_scores = []\n",
    "test_scores = []\n",
    "valid_scores = []\n",
    "target = ['Machine failure', 'TWF', 'HDF','PWF', 'OSF', 'RNF']\n",
    "\n",
    "for key in target:\n",
    "    clf_xg = GradientBoostingClassifier(n_estimators=100, learning_rate=0.2, subsample=0.5,\\\n",
    "                                        max_depth=3, random_state=0).fit(X_train, y_train[key])\n",
    "    train_score = [clf_xg.score(X_train, y_train[key])]\n",
    "    test_score = [clf_xg.score(X_test, y_test[key]) ]\n",
    "    valid_score = [clf_xg.score(X_valid, y_valid[key])]\n",
    "    train_scores.append(train_score)\n",
    "    test_scores.append(test_score)\n",
    "    valid_scores.append(test_score)"
   ]
  },
  {
   "cell_type": "code",
   "execution_count": 342,
   "id": "a21a2ff9",
   "metadata": {},
   "outputs": [
    {
     "data": {
      "image/png": "[encoded data removed]",
      "text/plain": [
       "<Figure size 432x288 with 1 Axes>"
      ]
     },
     "metadata": {
      "needs_background": "light"
     },
     "output_type": "display_data"
    }
   ],
   "source": [
    "fig, ax = plt.subplots()\n",
    "ax.set_xlabel(\"Machine failure modes\")\n",
    "ax.set_ylabel(\"accuracy\")\n",
    "ax.set_title(\"Accuracy vs Failure mode for training, testing and validation\")\n",
    "ax.plot(target, train_scores, marker=\"o\", label='train', drawstyle=\"steps-mid\")\n",
    "ax.plot(target, test_scores, marker=\"x\", label=\"test\", drawstyle=\"steps-mid\")\n",
    "ax.plot(target, valid_scores, marker=\".\", label=\"valid\", drawstyle=\"steps-mid\")\n",
    "ax.legend()\n",
    "plt.show()"
   ]
  },
  {
   "cell_type": "code",
   "execution_count": 330,
   "id": "dd9a6bcc",
   "metadata": {},
   "outputs": [
    {
     "data": {
      "image/png": "[encoded data removed]",
      "text/plain": [
       "<Figure size 432x288 with 2 Axes>"
      ]
     },
     "metadata": {
      "needs_background": "light"
     },
     "output_type": "display_data"
    },
    {
     "data": {
      "image/png": "[encoded data removed]",
      "text/plain": [
       "<Figure size 432x288 with 2 Axes>"
      ]
     },
     "metadata": {
      "needs_background": "light"
     },
     "output_type": "display_data"
    },
    {
     "data": {
      "image/png": "[encoded data removed]",
      "text/plain": [
       "<Figure size 432x288 with 2 Axes>"
      ]
     },
     "metadata": {
      "needs_background": "light"
     },
     "output_type": "display_data"
    },
    {
     "data": {
      "image/png": "[encoded data removed]",
      "text/plain": [
       "<Figure size 432x288 with 2 Axes>"
      ]
     },
     "metadata": {
      "needs_background": "light"
     },
     "output_type": "display_data"
    },
    {
     "data": {
      "image/png": "[encoded data removed]",
      "text/plain": [
       "<Figure size 432x288 with 2 Axes>"
      ]
     },
     "metadata": {
      "needs_background": "light"
     },
     "output_type": "display_data"
    },
    {
     "data": {
      "image/png": "[encoded data removed]",
      "text/plain": [
       "<Figure size 432x288 with 2 Axes>"
      ]
     },
     "metadata": {
      "needs_background": "light"
     },
     "output_type": "display_data"
    }
   ],
   "source": [
    "for key in target:\n",
    "    cm_val = confusion_matrix(data_test[key], clf_xg.predict(X_test), labels=clf_xg.classes_)\n",
    "    disp = ConfusionMatrixDisplay(confusion_matrix=cm_val, display_labels=clf_xg.classes_)\n",
    "    disp.plot()"
   ]
  },
  {
   "cell_type": "code",
   "execution_count": null,
   "id": "b8c8576e",
   "metadata": {},
   "outputs": [],
   "source": []
  }
 ],
 "metadata": {
  "kernelspec": {
   "display_name": "Python 3",
   "language": "python",
   "name": "python3"
  },
  "language_info": {
   "codemirror_mode": {
    "name": "ipython",
    "version": 3
   },
   "file_extension": ".py",
   "mimetype": "text/x-python",
   "name": "python",
   "nbconvert_exporter": "python",
   "pygments_lexer": "ipython3",
   "version": "3.8.8"
  }
 },
 "nbformat": 4,
 "nbformat_minor": 5
}
