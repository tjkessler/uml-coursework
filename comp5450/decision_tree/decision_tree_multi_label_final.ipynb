{
 "cells": [
  {
   "cell_type": "code",
   "execution_count": 21,
   "id": "5a5c5899",
   "metadata": {},
   "outputs": [],
   "source": [
    "import pandas as pd\n",
    "import numpy as np\n",
    "import matplotlib.pyplot as plt\n",
    "from sklearn.metrics import confusion_matrix , classification_report, ConfusionMatrixDisplay, \\\n",
    "multilabel_confusion_matrix\n",
    "from sklearn.neighbors import KNeighborsClassifier\n",
    "from sklearn import tree\n",
    "import graphviz\n",
    "import pylab\n",
    "from sklearn.ensemble import RandomForestClassifier"
   ]
  },
  {
   "cell_type": "code",
   "execution_count": 22,
   "id": "d7870720",
   "metadata": {},
   "outputs": [
    {
     "data": {
      "text/html": [
       "<div>\n",
       "<style scoped>\n",
       "    .dataframe tbody tr th:only-of-type {\n",
       "        vertical-align: middle;\n",
       "    }\n",
       "\n",
       "    .dataframe tbody tr th {\n",
       "        vertical-align: top;\n",
       "    }\n",
       "\n",
       "    .dataframe thead th {\n",
       "        text-align: right;\n",
       "    }\n",
       "</style>\n",
       "<table border=\"1\" class=\"dataframe\">\n",
       "  <thead>\n",
       "    <tr style=\"text-align: right;\">\n",
       "      <th></th>\n",
       "      <th>Product ID</th>\n",
       "      <th>Type</th>\n",
       "      <th>Air temperature [K]</th>\n",
       "      <th>Process temperature [K]</th>\n",
       "      <th>Rotational speed [rpm]</th>\n",
       "      <th>Torque [Nm]</th>\n",
       "      <th>Tool wear [min]</th>\n",
       "      <th>Machine failure</th>\n",
       "      <th>TWF</th>\n",
       "      <th>HDF</th>\n",
       "      <th>PWF</th>\n",
       "      <th>OSF</th>\n",
       "      <th>RNF</th>\n",
       "    </tr>\n",
       "    <tr>\n",
       "      <th>UDI</th>\n",
       "      <th></th>\n",
       "      <th></th>\n",
       "      <th></th>\n",
       "      <th></th>\n",
       "      <th></th>\n",
       "      <th></th>\n",
       "      <th></th>\n",
       "      <th></th>\n",
       "      <th></th>\n",
       "      <th></th>\n",
       "      <th></th>\n",
       "      <th></th>\n",
       "      <th></th>\n",
       "    </tr>\n",
       "  </thead>\n",
       "  <tbody>\n",
       "    <tr>\n",
       "      <th>1276</th>\n",
       "      <td>M16135</td>\n",
       "      <td>M</td>\n",
       "      <td>298.1</td>\n",
       "      <td>309.4</td>\n",
       "      <td>1362</td>\n",
       "      <td>47.6</td>\n",
       "      <td>70</td>\n",
       "      <td>0</td>\n",
       "      <td>0</td>\n",
       "      <td>0</td>\n",
       "      <td>0</td>\n",
       "      <td>0</td>\n",
       "      <td>0</td>\n",
       "    </tr>\n",
       "    <tr>\n",
       "      <th>9931</th>\n",
       "      <td>L57110</td>\n",
       "      <td>L</td>\n",
       "      <td>298.3</td>\n",
       "      <td>308.3</td>\n",
       "      <td>1452</td>\n",
       "      <td>45.5</td>\n",
       "      <td>63</td>\n",
       "      <td>0</td>\n",
       "      <td>0</td>\n",
       "      <td>0</td>\n",
       "      <td>0</td>\n",
       "      <td>0</td>\n",
       "      <td>0</td>\n",
       "    </tr>\n",
       "    <tr>\n",
       "      <th>5403</th>\n",
       "      <td>L52582</td>\n",
       "      <td>L</td>\n",
       "      <td>302.7</td>\n",
       "      <td>312.3</td>\n",
       "      <td>1421</td>\n",
       "      <td>48.5</td>\n",
       "      <td>0</td>\n",
       "      <td>0</td>\n",
       "      <td>0</td>\n",
       "      <td>0</td>\n",
       "      <td>0</td>\n",
       "      <td>0</td>\n",
       "      <td>0</td>\n",
       "    </tr>\n",
       "    <tr>\n",
       "      <th>9437</th>\n",
       "      <td>L56616</td>\n",
       "      <td>L</td>\n",
       "      <td>298.0</td>\n",
       "      <td>308.6</td>\n",
       "      <td>1481</td>\n",
       "      <td>42.5</td>\n",
       "      <td>54</td>\n",
       "      <td>0</td>\n",
       "      <td>0</td>\n",
       "      <td>0</td>\n",
       "      <td>0</td>\n",
       "      <td>0</td>\n",
       "      <td>0</td>\n",
       "    </tr>\n",
       "    <tr>\n",
       "      <th>564</th>\n",
       "      <td>L47743</td>\n",
       "      <td>L</td>\n",
       "      <td>297.7</td>\n",
       "      <td>309.6</td>\n",
       "      <td>1529</td>\n",
       "      <td>35.2</td>\n",
       "      <td>153</td>\n",
       "      <td>0</td>\n",
       "      <td>0</td>\n",
       "      <td>0</td>\n",
       "      <td>0</td>\n",
       "      <td>0</td>\n",
       "      <td>0</td>\n",
       "    </tr>\n",
       "  </tbody>\n",
       "</table>\n",
       "</div>"
      ],
      "text/plain": [
       "     Product ID Type  Air temperature [K]  Process temperature [K]  \\\n",
       "UDI                                                                  \n",
       "1276     M16135    M                298.1                    309.4   \n",
       "9931     L57110    L                298.3                    308.3   \n",
       "5403     L52582    L                302.7                    312.3   \n",
       "9437     L56616    L                298.0                    308.6   \n",
       "564      L47743    L                297.7                    309.6   \n",
       "\n",
       "      Rotational speed [rpm]  Torque [Nm]  Tool wear [min]  Machine failure  \\\n",
       "UDI                                                                           \n",
       "1276                    1362         47.6               70                0   \n",
       "9931                    1452         45.5               63                0   \n",
       "5403                    1421         48.5                0                0   \n",
       "9437                    1481         42.5               54                0   \n",
       "564                     1529         35.2              153                0   \n",
       "\n",
       "      TWF  HDF  PWF  OSF  RNF  \n",
       "UDI                            \n",
       "1276    0    0    0    0    0  \n",
       "9931    0    0    0    0    0  \n",
       "5403    0    0    0    0    0  \n",
       "9437    0    0    0    0    0  \n",
       "564     0    0    0    0    0  "
      ]
     },
     "execution_count": 22,
     "metadata": {},
     "output_type": "execute_result"
    }
   ],
   "source": [
    "#Read csv data\n",
    "data_train = pd.read_csv('../data_preparation/subset_train_expanded.csv', index_col=0)\n",
    "data_train.head()"
   ]
  },
  {
   "cell_type": "code",
   "execution_count": 23,
   "id": "95f2f149",
   "metadata": {},
   "outputs": [],
   "source": [
    "#define function for classifying type based on Load\n",
    "def type_new(row):\n",
    "    if row['Type'] == 'L':\n",
    "        val = '1'\n",
    "    elif row['Type'] == 'M':\n",
    "        val = '2'\n",
    "    else:\n",
    "        val = '3'\n",
    "    return val"
   ]
  },
  {
   "cell_type": "code",
   "execution_count": 24,
   "id": "8c7bfc9e",
   "metadata": {},
   "outputs": [
    {
     "data": {
      "text/html": [
       "<div>\n",
       "<style scoped>\n",
       "    .dataframe tbody tr th:only-of-type {\n",
       "        vertical-align: middle;\n",
       "    }\n",
       "\n",
       "    .dataframe tbody tr th {\n",
       "        vertical-align: top;\n",
       "    }\n",
       "\n",
       "    .dataframe thead th {\n",
       "        text-align: right;\n",
       "    }\n",
       "</style>\n",
       "<table border=\"1\" class=\"dataframe\">\n",
       "  <thead>\n",
       "    <tr style=\"text-align: right;\">\n",
       "      <th></th>\n",
       "      <th>Product ID</th>\n",
       "      <th>Type</th>\n",
       "      <th>Air temperature [K]</th>\n",
       "      <th>Process temperature [K]</th>\n",
       "      <th>Rotational speed [rpm]</th>\n",
       "      <th>Torque [Nm]</th>\n",
       "      <th>Tool wear [min]</th>\n",
       "      <th>Machine failure</th>\n",
       "      <th>TWF</th>\n",
       "      <th>HDF</th>\n",
       "      <th>PWF</th>\n",
       "      <th>OSF</th>\n",
       "      <th>RNF</th>\n",
       "      <th>Type_Num</th>\n",
       "    </tr>\n",
       "    <tr>\n",
       "      <th>UDI</th>\n",
       "      <th></th>\n",
       "      <th></th>\n",
       "      <th></th>\n",
       "      <th></th>\n",
       "      <th></th>\n",
       "      <th></th>\n",
       "      <th></th>\n",
       "      <th></th>\n",
       "      <th></th>\n",
       "      <th></th>\n",
       "      <th></th>\n",
       "      <th></th>\n",
       "      <th></th>\n",
       "      <th></th>\n",
       "    </tr>\n",
       "  </thead>\n",
       "  <tbody>\n",
       "    <tr>\n",
       "      <th>1276</th>\n",
       "      <td>M16135</td>\n",
       "      <td>M</td>\n",
       "      <td>298.1</td>\n",
       "      <td>309.4</td>\n",
       "      <td>1362</td>\n",
       "      <td>47.6</td>\n",
       "      <td>70</td>\n",
       "      <td>0</td>\n",
       "      <td>0</td>\n",
       "      <td>0</td>\n",
       "      <td>0</td>\n",
       "      <td>0</td>\n",
       "      <td>0</td>\n",
       "      <td>2</td>\n",
       "    </tr>\n",
       "    <tr>\n",
       "      <th>9931</th>\n",
       "      <td>L57110</td>\n",
       "      <td>L</td>\n",
       "      <td>298.3</td>\n",
       "      <td>308.3</td>\n",
       "      <td>1452</td>\n",
       "      <td>45.5</td>\n",
       "      <td>63</td>\n",
       "      <td>0</td>\n",
       "      <td>0</td>\n",
       "      <td>0</td>\n",
       "      <td>0</td>\n",
       "      <td>0</td>\n",
       "      <td>0</td>\n",
       "      <td>1</td>\n",
       "    </tr>\n",
       "    <tr>\n",
       "      <th>5403</th>\n",
       "      <td>L52582</td>\n",
       "      <td>L</td>\n",
       "      <td>302.7</td>\n",
       "      <td>312.3</td>\n",
       "      <td>1421</td>\n",
       "      <td>48.5</td>\n",
       "      <td>0</td>\n",
       "      <td>0</td>\n",
       "      <td>0</td>\n",
       "      <td>0</td>\n",
       "      <td>0</td>\n",
       "      <td>0</td>\n",
       "      <td>0</td>\n",
       "      <td>1</td>\n",
       "    </tr>\n",
       "    <tr>\n",
       "      <th>9437</th>\n",
       "      <td>L56616</td>\n",
       "      <td>L</td>\n",
       "      <td>298.0</td>\n",
       "      <td>308.6</td>\n",
       "      <td>1481</td>\n",
       "      <td>42.5</td>\n",
       "      <td>54</td>\n",
       "      <td>0</td>\n",
       "      <td>0</td>\n",
       "      <td>0</td>\n",
       "      <td>0</td>\n",
       "      <td>0</td>\n",
       "      <td>0</td>\n",
       "      <td>1</td>\n",
       "    </tr>\n",
       "    <tr>\n",
       "      <th>564</th>\n",
       "      <td>L47743</td>\n",
       "      <td>L</td>\n",
       "      <td>297.7</td>\n",
       "      <td>309.6</td>\n",
       "      <td>1529</td>\n",
       "      <td>35.2</td>\n",
       "      <td>153</td>\n",
       "      <td>0</td>\n",
       "      <td>0</td>\n",
       "      <td>0</td>\n",
       "      <td>0</td>\n",
       "      <td>0</td>\n",
       "      <td>0</td>\n",
       "      <td>1</td>\n",
       "    </tr>\n",
       "  </tbody>\n",
       "</table>\n",
       "</div>"
      ],
      "text/plain": [
       "     Product ID Type  Air temperature [K]  Process temperature [K]  \\\n",
       "UDI                                                                  \n",
       "1276     M16135    M                298.1                    309.4   \n",
       "9931     L57110    L                298.3                    308.3   \n",
       "5403     L52582    L                302.7                    312.3   \n",
       "9437     L56616    L                298.0                    308.6   \n",
       "564      L47743    L                297.7                    309.6   \n",
       "\n",
       "      Rotational speed [rpm]  Torque [Nm]  Tool wear [min]  Machine failure  \\\n",
       "UDI                                                                           \n",
       "1276                    1362         47.6               70                0   \n",
       "9931                    1452         45.5               63                0   \n",
       "5403                    1421         48.5                0                0   \n",
       "9437                    1481         42.5               54                0   \n",
       "564                     1529         35.2              153                0   \n",
       "\n",
       "      TWF  HDF  PWF  OSF  RNF Type_Num  \n",
       "UDI                                     \n",
       "1276    0    0    0    0    0        2  \n",
       "9931    0    0    0    0    0        1  \n",
       "5403    0    0    0    0    0        1  \n",
       "9437    0    0    0    0    0        1  \n",
       "564     0    0    0    0    0        1  "
      ]
     },
     "execution_count": 24,
     "metadata": {},
     "output_type": "execute_result"
    }
   ],
   "source": [
    "#create new column \n",
    "data_train['Type_Num'] = data_train.apply(type_new, axis=1)\n",
    "data_train.head()"
   ]
  },
  {
   "cell_type": "code",
   "execution_count": 25,
   "id": "2b7d8fe0",
   "metadata": {},
   "outputs": [
    {
     "data": {
      "text/html": [
       "<div>\n",
       "<style scoped>\n",
       "    .dataframe tbody tr th:only-of-type {\n",
       "        vertical-align: middle;\n",
       "    }\n",
       "\n",
       "    .dataframe tbody tr th {\n",
       "        vertical-align: top;\n",
       "    }\n",
       "\n",
       "    .dataframe thead th {\n",
       "        text-align: right;\n",
       "    }\n",
       "</style>\n",
       "<table border=\"1\" class=\"dataframe\">\n",
       "  <thead>\n",
       "    <tr style=\"text-align: right;\">\n",
       "      <th></th>\n",
       "      <th>Product ID</th>\n",
       "      <th>Type</th>\n",
       "      <th>Air temperature [K]</th>\n",
       "      <th>Process temperature [K]</th>\n",
       "      <th>Rotational speed [rpm]</th>\n",
       "      <th>Torque [Nm]</th>\n",
       "      <th>Tool wear [min]</th>\n",
       "      <th>Machine failure</th>\n",
       "      <th>TWF</th>\n",
       "      <th>HDF</th>\n",
       "      <th>PWF</th>\n",
       "      <th>OSF</th>\n",
       "      <th>RNF</th>\n",
       "      <th>Type_Num</th>\n",
       "    </tr>\n",
       "    <tr>\n",
       "      <th>UDI</th>\n",
       "      <th></th>\n",
       "      <th></th>\n",
       "      <th></th>\n",
       "      <th></th>\n",
       "      <th></th>\n",
       "      <th></th>\n",
       "      <th></th>\n",
       "      <th></th>\n",
       "      <th></th>\n",
       "      <th></th>\n",
       "      <th></th>\n",
       "      <th></th>\n",
       "      <th></th>\n",
       "      <th></th>\n",
       "    </tr>\n",
       "  </thead>\n",
       "  <tbody>\n",
       "    <tr>\n",
       "      <th>7600</th>\n",
       "      <td>L54779</td>\n",
       "      <td>L</td>\n",
       "      <td>300.5</td>\n",
       "      <td>311.0</td>\n",
       "      <td>1759</td>\n",
       "      <td>28.3</td>\n",
       "      <td>13</td>\n",
       "      <td>0</td>\n",
       "      <td>0</td>\n",
       "      <td>0</td>\n",
       "      <td>0</td>\n",
       "      <td>0</td>\n",
       "      <td>0</td>\n",
       "      <td>1</td>\n",
       "    </tr>\n",
       "    <tr>\n",
       "      <th>3665</th>\n",
       "      <td>M18524</td>\n",
       "      <td>M</td>\n",
       "      <td>302.3</td>\n",
       "      <td>311.7</td>\n",
       "      <td>1685</td>\n",
       "      <td>30.8</td>\n",
       "      <td>130</td>\n",
       "      <td>0</td>\n",
       "      <td>0</td>\n",
       "      <td>0</td>\n",
       "      <td>0</td>\n",
       "      <td>0</td>\n",
       "      <td>0</td>\n",
       "      <td>2</td>\n",
       "    </tr>\n",
       "    <tr>\n",
       "      <th>6718</th>\n",
       "      <td>M21577</td>\n",
       "      <td>M</td>\n",
       "      <td>301.4</td>\n",
       "      <td>310.6</td>\n",
       "      <td>1464</td>\n",
       "      <td>48.6</td>\n",
       "      <td>96</td>\n",
       "      <td>0</td>\n",
       "      <td>0</td>\n",
       "      <td>0</td>\n",
       "      <td>0</td>\n",
       "      <td>0</td>\n",
       "      <td>0</td>\n",
       "      <td>2</td>\n",
       "    </tr>\n",
       "    <tr>\n",
       "      <th>1077</th>\n",
       "      <td>L48256</td>\n",
       "      <td>L</td>\n",
       "      <td>296.9</td>\n",
       "      <td>307.7</td>\n",
       "      <td>1653</td>\n",
       "      <td>35.9</td>\n",
       "      <td>177</td>\n",
       "      <td>0</td>\n",
       "      <td>0</td>\n",
       "      <td>0</td>\n",
       "      <td>0</td>\n",
       "      <td>0</td>\n",
       "      <td>0</td>\n",
       "      <td>1</td>\n",
       "    </tr>\n",
       "    <tr>\n",
       "      <th>3130</th>\n",
       "      <td>L50309</td>\n",
       "      <td>L</td>\n",
       "      <td>300.1</td>\n",
       "      <td>309.6</td>\n",
       "      <td>1642</td>\n",
       "      <td>34.5</td>\n",
       "      <td>53</td>\n",
       "      <td>0</td>\n",
       "      <td>0</td>\n",
       "      <td>0</td>\n",
       "      <td>0</td>\n",
       "      <td>0</td>\n",
       "      <td>0</td>\n",
       "      <td>1</td>\n",
       "    </tr>\n",
       "  </tbody>\n",
       "</table>\n",
       "</div>"
      ],
      "text/plain": [
       "     Product ID Type  Air temperature [K]  Process temperature [K]  \\\n",
       "UDI                                                                  \n",
       "7600     L54779    L                300.5                    311.0   \n",
       "3665     M18524    M                302.3                    311.7   \n",
       "6718     M21577    M                301.4                    310.6   \n",
       "1077     L48256    L                296.9                    307.7   \n",
       "3130     L50309    L                300.1                    309.6   \n",
       "\n",
       "      Rotational speed [rpm]  Torque [Nm]  Tool wear [min]  Machine failure  \\\n",
       "UDI                                                                           \n",
       "7600                    1759         28.3               13                0   \n",
       "3665                    1685         30.8              130                0   \n",
       "6718                    1464         48.6               96                0   \n",
       "1077                    1653         35.9              177                0   \n",
       "3130                    1642         34.5               53                0   \n",
       "\n",
       "      TWF  HDF  PWF  OSF  RNF Type_Num  \n",
       "UDI                                     \n",
       "7600    0    0    0    0    0        1  \n",
       "3665    0    0    0    0    0        2  \n",
       "6718    0    0    0    0    0        2  \n",
       "1077    0    0    0    0    0        1  \n",
       "3130    0    0    0    0    0        1  "
      ]
     },
     "execution_count": 25,
     "metadata": {},
     "output_type": "execute_result"
    }
   ],
   "source": [
    "data_test = pd.read_csv('../data_preparation/subset_test_expanded.csv', index_col=0)\n",
    "data_test['Type_Num'] = data_test.apply(type_new, axis=1)\n",
    "data_test.head()"
   ]
  },
  {
   "cell_type": "code",
   "execution_count": 26,
   "id": "8397feb4",
   "metadata": {},
   "outputs": [
    {
     "data": {
      "text/html": [
       "<div>\n",
       "<style scoped>\n",
       "    .dataframe tbody tr th:only-of-type {\n",
       "        vertical-align: middle;\n",
       "    }\n",
       "\n",
       "    .dataframe tbody tr th {\n",
       "        vertical-align: top;\n",
       "    }\n",
       "\n",
       "    .dataframe thead th {\n",
       "        text-align: right;\n",
       "    }\n",
       "</style>\n",
       "<table border=\"1\" class=\"dataframe\">\n",
       "  <thead>\n",
       "    <tr style=\"text-align: right;\">\n",
       "      <th></th>\n",
       "      <th>Product ID</th>\n",
       "      <th>Type</th>\n",
       "      <th>Air temperature [K]</th>\n",
       "      <th>Process temperature [K]</th>\n",
       "      <th>Rotational speed [rpm]</th>\n",
       "      <th>Torque [Nm]</th>\n",
       "      <th>Tool wear [min]</th>\n",
       "      <th>Machine failure</th>\n",
       "      <th>TWF</th>\n",
       "      <th>HDF</th>\n",
       "      <th>PWF</th>\n",
       "      <th>OSF</th>\n",
       "      <th>RNF</th>\n",
       "      <th>Type_Num</th>\n",
       "    </tr>\n",
       "    <tr>\n",
       "      <th>UDI</th>\n",
       "      <th></th>\n",
       "      <th></th>\n",
       "      <th></th>\n",
       "      <th></th>\n",
       "      <th></th>\n",
       "      <th></th>\n",
       "      <th></th>\n",
       "      <th></th>\n",
       "      <th></th>\n",
       "      <th></th>\n",
       "      <th></th>\n",
       "      <th></th>\n",
       "      <th></th>\n",
       "      <th></th>\n",
       "    </tr>\n",
       "  </thead>\n",
       "  <tbody>\n",
       "    <tr>\n",
       "      <th>1071</th>\n",
       "      <td>M15930</td>\n",
       "      <td>M</td>\n",
       "      <td>296.9</td>\n",
       "      <td>307.8</td>\n",
       "      <td>1477</td>\n",
       "      <td>37.2</td>\n",
       "      <td>160</td>\n",
       "      <td>0</td>\n",
       "      <td>0</td>\n",
       "      <td>0</td>\n",
       "      <td>0</td>\n",
       "      <td>0</td>\n",
       "      <td>0</td>\n",
       "      <td>2</td>\n",
       "    </tr>\n",
       "    <tr>\n",
       "      <th>1877</th>\n",
       "      <td>L49056</td>\n",
       "      <td>L</td>\n",
       "      <td>298.3</td>\n",
       "      <td>308.0</td>\n",
       "      <td>1242</td>\n",
       "      <td>62.0</td>\n",
       "      <td>98</td>\n",
       "      <td>0</td>\n",
       "      <td>0</td>\n",
       "      <td>0</td>\n",
       "      <td>0</td>\n",
       "      <td>0</td>\n",
       "      <td>0</td>\n",
       "      <td>1</td>\n",
       "    </tr>\n",
       "    <tr>\n",
       "      <th>2328</th>\n",
       "      <td>M17187</td>\n",
       "      <td>M</td>\n",
       "      <td>299.3</td>\n",
       "      <td>308.7</td>\n",
       "      <td>1420</td>\n",
       "      <td>50.3</td>\n",
       "      <td>208</td>\n",
       "      <td>0</td>\n",
       "      <td>0</td>\n",
       "      <td>0</td>\n",
       "      <td>0</td>\n",
       "      <td>0</td>\n",
       "      <td>0</td>\n",
       "      <td>2</td>\n",
       "    </tr>\n",
       "    <tr>\n",
       "      <th>6863</th>\n",
       "      <td>M21722</td>\n",
       "      <td>M</td>\n",
       "      <td>301.1</td>\n",
       "      <td>311.2</td>\n",
       "      <td>1384</td>\n",
       "      <td>49.4</td>\n",
       "      <td>48</td>\n",
       "      <td>0</td>\n",
       "      <td>0</td>\n",
       "      <td>0</td>\n",
       "      <td>0</td>\n",
       "      <td>0</td>\n",
       "      <td>0</td>\n",
       "      <td>2</td>\n",
       "    </tr>\n",
       "    <tr>\n",
       "      <th>945</th>\n",
       "      <td>M15804</td>\n",
       "      <td>M</td>\n",
       "      <td>295.7</td>\n",
       "      <td>306.3</td>\n",
       "      <td>1712</td>\n",
       "      <td>28.5</td>\n",
       "      <td>43</td>\n",
       "      <td>0</td>\n",
       "      <td>0</td>\n",
       "      <td>0</td>\n",
       "      <td>0</td>\n",
       "      <td>0</td>\n",
       "      <td>0</td>\n",
       "      <td>2</td>\n",
       "    </tr>\n",
       "  </tbody>\n",
       "</table>\n",
       "</div>"
      ],
      "text/plain": [
       "     Product ID Type  Air temperature [K]  Process temperature [K]  \\\n",
       "UDI                                                                  \n",
       "1071     M15930    M                296.9                    307.8   \n",
       "1877     L49056    L                298.3                    308.0   \n",
       "2328     M17187    M                299.3                    308.7   \n",
       "6863     M21722    M                301.1                    311.2   \n",
       "945      M15804    M                295.7                    306.3   \n",
       "\n",
       "      Rotational speed [rpm]  Torque [Nm]  Tool wear [min]  Machine failure  \\\n",
       "UDI                                                                           \n",
       "1071                    1477         37.2              160                0   \n",
       "1877                    1242         62.0               98                0   \n",
       "2328                    1420         50.3              208                0   \n",
       "6863                    1384         49.4               48                0   \n",
       "945                     1712         28.5               43                0   \n",
       "\n",
       "      TWF  HDF  PWF  OSF  RNF Type_Num  \n",
       "UDI                                     \n",
       "1071    0    0    0    0    0        2  \n",
       "1877    0    0    0    0    0        1  \n",
       "2328    0    0    0    0    0        2  \n",
       "6863    0    0    0    0    0        2  \n",
       "945     0    0    0    0    0        2  "
      ]
     },
     "execution_count": 26,
     "metadata": {},
     "output_type": "execute_result"
    }
   ],
   "source": [
    "data_valid = pd.read_csv('../data_preparation/subset_valid_expanded.csv', index_col=0)\n",
    "data_valid['Type_Num'] = data_valid.apply(type_new, axis=1)\n",
    "data_valid.head()"
   ]
  },
  {
   "cell_type": "code",
   "execution_count": 27,
   "id": "079a6de3",
   "metadata": {},
   "outputs": [],
   "source": [
    "label = ['Air temperature [K]', 'Process temperature [K]', 'Rotational speed [rpm]', \\\n",
    "         'Torque [Nm]', 'Tool wear [min]', 'Type_Num']\n",
    "target = ['Machine failure', 'TWF', 'HDF', 'PWF', 'OSF', 'RNF']"
   ]
  },
  {
   "cell_type": "markdown",
   "id": "3cf43ba4",
   "metadata": {},
   "source": [
    "## 1.  K Neighbor classifier"
   ]
  },
  {
   "cell_type": "code",
   "execution_count": 28,
   "id": "f4708aab",
   "metadata": {},
   "outputs": [
    {
     "name": "stdout",
     "output_type": "stream",
     "text": [
      "Training score :  0.9741107444077741\n",
      "Testing score :  0.6948284690220174\n",
      "Validation score :  0.6439549180327869\n"
     ]
    }
   ],
   "source": [
    "X_train = data_train[label]\n",
    "y_train = data_train[target]\n",
    "\n",
    "X_test = data_test[label]\n",
    "y_test = data_test[target]\n",
    "\n",
    "X_valid = data_valid[label]\n",
    "y_valid = data_valid[target]\n",
    "\n",
    "neigh = KNeighborsClassifier(n_neighbors=7)\n",
    "neigh.fit(X_train, y_train)\n",
    "\n",
    "print('Training score : ', neigh.score(X_train, y_train))\n",
    "print('Testing score : ', neigh.score(X_test, y_test))\n",
    "print('Validation score : ', neigh.score(X_valid, y_valid))"
   ]
  },
  {
   "cell_type": "code",
   "execution_count": 29,
   "id": "748fb7f5",
   "metadata": {},
   "outputs": [
    {
     "data": {
      "image/png": "[encoded data removed]",
      "text/plain": [
       "<Figure size 432x288 with 1 Axes>"
      ]
     },
     "metadata": {
      "needs_background": "light"
     },
     "output_type": "display_data"
    }
   ],
   "source": [
    "train_scores = []\n",
    "test_scores = []\n",
    "valid_scores = []\n",
    "target = ['Machine failure', 'TWF', 'HDF','PWF', 'OSF', 'RNF']\n",
    "\n",
    "for key in target:\n",
    "    neigh = KNeighborsClassifier(n_neighbors=7).fit(X_train, y_train[key])\n",
    "    train_score = [neigh.score(X_train, y_train[key])]\n",
    "    test_score = [neigh.score(X_test, y_test[key]) ]\n",
    "    valid_score = [neigh.score(X_valid, y_valid[key])]\n",
    "    train_scores.append(train_score)\n",
    "    test_scores.append(test_score)\n",
    "    valid_scores.append(test_score)\n",
    "\n",
    "fig, ax = plt.subplots()\n",
    "ax.set_xlabel(\"Machine failure modes\")\n",
    "ax.set_ylabel(\"accuracy\")\n",
    "ax.set_title(\"Accuracy vs Failure mode for K Neighbors Classifier\")\n",
    "ax.plot(target, train_scores, marker=\"o\", label='train', drawstyle=\"steps-mid\")\n",
    "ax.plot(target, test_scores, marker=\"x\", label=\"test\", drawstyle=\"steps-mid\")\n",
    "ax.plot(target, valid_scores, marker=\".\", label=\"valid\", drawstyle=\"steps-mid\")\n",
    "ax.legend()\n",
    "plt.show()"
   ]
  },
  {
   "cell_type": "markdown",
   "id": "ff28dc70",
   "metadata": {},
   "source": [
    "## 2. Decision tree model"
   ]
  },
  {
   "cell_type": "code",
   "execution_count": 30,
   "id": "3f5f2ba0",
   "metadata": {},
   "outputs": [],
   "source": [
    "X_train = data_train[label]\n",
    "y_train = data_train[target]\n",
    "\n",
    "X_test = data_test[label]\n",
    "y_test = data_test[target]\n",
    "\n",
    "X_valid = data_valid[label]\n",
    "y_valid = data_valid[target]\n",
    "\n",
    "clf = tree.DecisionTreeClassifier(max_depth=None)\n",
    "clf = clf.fit(X_train, y_train)\n",
    "y_train_pred = clf.predict(data_train[label])\n",
    "\n",
    "y_test_pred = clf.predict(data_test[label])\n",
    "\n",
    "y_valid_pred = clf.predict(data_valid[label])"
   ]
  },
  {
   "cell_type": "code",
   "execution_count": 31,
   "id": "fc7e0f0a",
   "metadata": {},
   "outputs": [
    {
     "data": {
      "text/plain": [
       "Text(0.5, 1.0, 'Feature Imporatnce ')"
      ]
     },
     "execution_count": 31,
     "metadata": {},
     "output_type": "execute_result"
    },
    {
     "data": {
      "image/png": "[encoded data removed]",
      "text/plain": [
       "<Figure size 1080x288 with 1 Axes>"
      ]
     },
     "metadata": {
      "needs_background": "light"
     },
     "output_type": "display_data"
    }
   ],
   "source": [
    "imp = np.vstack((label, clf.feature_importances_))\n",
    "fig = plt.figure(figsize =(15, 4))\n",
    "plt.bar(label, clf.feature_importances_)\n",
    "plt.title('Feature Imporatnce ')"
   ]
  },
  {
   "cell_type": "code",
   "execution_count": 32,
   "id": "de7f4ebc",
   "metadata": {},
   "outputs": [
    {
     "name": "stdout",
     "output_type": "stream",
     "text": [
      "Training score :  1.0\n",
      "Testing score :  0.7875064004096262\n",
      "Validation score :  0.764344262295082\n"
     ]
    }
   ],
   "source": [
    "print('Training score : ', clf.score(X_train, y_train))\n",
    "print('Testing score : ', clf.score(X_test, y_test))\n",
    "print('Validation score : ', clf.score(X_valid, y_valid))"
   ]
  },
  {
   "cell_type": "code",
   "execution_count": 33,
   "id": "9d226e83",
   "metadata": {},
   "outputs": [
    {
     "data": {
      "image/png": "[encoded data removed]",
      "text/plain": [
       "<Figure size 432x288 with 1 Axes>"
      ]
     },
     "metadata": {
      "needs_background": "light"
     },
     "output_type": "display_data"
    }
   ],
   "source": [
    "train_scores = []\n",
    "test_scores = []\n",
    "valid_scores = []\n",
    "target = ['Machine failure', 'TWF', 'HDF','PWF', 'OSF', 'RNF']\n",
    "\n",
    "for key in target:\n",
    "    clf_p = tree.DecisionTreeClassifier().fit(X_train, y_train[key])\n",
    "    train_score = [clf_p.score(X_train, y_train[key])]\n",
    "    test_score = [clf_p.score(X_test, y_test[key]) ]\n",
    "    valid_score = [clf_p.score(X_valid, y_valid[key])]\n",
    "    train_scores.append(train_score)\n",
    "    test_scores.append(test_score)\n",
    "    valid_scores.append(test_score)\n",
    "\n",
    "fig, ax = plt.subplots()\n",
    "ax.set_xlabel(\"Machine failure modes\")\n",
    "ax.set_ylabel(\"accuracy\")\n",
    "ax.set_title(\"Accuracy vs Failure mode for Decision Tree Classifier\")\n",
    "ax.plot(target, train_scores, marker=\"o\", label='train', drawstyle=\"steps-mid\")\n",
    "ax.plot(target, test_scores, marker=\"x\", label=\"test\", drawstyle=\"steps-mid\")\n",
    "ax.plot(target, valid_scores, marker=\".\", label=\"valid\", drawstyle=\"steps-mid\")\n",
    "ax.legend()\n",
    "plt.show()"
   ]
  },
  {
   "cell_type": "markdown",
   "id": "d338360c",
   "metadata": {},
   "source": [
    "### Model is overfit at training , thus we are getting low accuracy at prediction. So we need to prune the decision tree"
   ]
  },
  {
   "cell_type": "code",
   "execution_count": 34,
   "id": "df801100",
   "metadata": {},
   "outputs": [
    {
     "name": "stdout",
     "output_type": "stream",
     "text": [
      "                 precision    recall  f1-score   support\n",
      "\n",
      "Machine failure       1.00      1.00      1.00      6873\n",
      "            TWF       1.00      1.00      1.00       812\n",
      "            HDF       1.00      1.00      1.00      2407\n",
      "            PWF       1.00      1.00      1.00      2088\n",
      "            OSF       1.00      1.00      1.00      1885\n",
      "            RNF       1.00      1.00      1.00        44\n",
      "\n",
      "      micro avg       1.00      1.00      1.00     14109\n",
      "      macro avg       1.00      1.00      1.00     14109\n",
      "   weighted avg       1.00      1.00      1.00     14109\n",
      "    samples avg       0.51      0.51      0.51     14109\n",
      "\n"
     ]
    },
    {
     "name": "stderr",
     "output_type": "stream",
     "text": [
      "C:\\Users\\amank\\anaconda3\\lib\\site-packages\\sklearn\\metrics\\_classification.py:1245: UndefinedMetricWarning: Precision and F-score are ill-defined and being set to 0.0 in samples with no predicted labels. Use `zero_division` parameter to control this behavior.\n",
      "  _warn_prf(average, modifier, msg_start, len(result))\n",
      "C:\\Users\\amank\\anaconda3\\lib\\site-packages\\sklearn\\metrics\\_classification.py:1245: UndefinedMetricWarning: Recall and F-score are ill-defined and being set to 0.0 in samples with no true labels. Use `zero_division` parameter to control this behavior.\n",
      "  _warn_prf(average, modifier, msg_start, len(result))\n"
     ]
    }
   ],
   "source": [
    "print(classification_report(data_train[target], y_train_pred, \n",
    "                            target_names=['Machine failure','TWF','HDF','PWF','OSF','RNF']))"
   ]
  },
  {
   "cell_type": "code",
   "execution_count": 35,
   "id": "6a06b235",
   "metadata": {},
   "outputs": [
    {
     "name": "stdout",
     "output_type": "stream",
     "text": [
      "                 precision    recall  f1-score   support\n",
      "\n",
      "Machine failure       0.99      0.68      0.80       986\n",
      "            TWF       0.00      0.00      0.00       145\n",
      "            HDF       1.00      0.80      0.89       290\n",
      "            PWF       0.85      0.67      0.75       261\n",
      "            OSF       0.99      0.85      0.91       377\n",
      "            RNF       0.00      0.00      0.00         0\n",
      "\n",
      "      micro avg       0.97      0.68      0.80      2059\n",
      "      macro avg       0.64      0.50      0.56      2059\n",
      "   weighted avg       0.90      0.68      0.77      2059\n",
      "    samples avg       0.34      0.33      0.33      2059\n",
      "\n"
     ]
    },
    {
     "name": "stderr",
     "output_type": "stream",
     "text": [
      "C:\\Users\\amank\\anaconda3\\lib\\site-packages\\sklearn\\metrics\\_classification.py:1245: UndefinedMetricWarning: Recall and F-score are ill-defined and being set to 0.0 in labels with no true samples. Use `zero_division` parameter to control this behavior.\n",
      "  _warn_prf(average, modifier, msg_start, len(result))\n",
      "C:\\Users\\amank\\anaconda3\\lib\\site-packages\\sklearn\\metrics\\_classification.py:1245: UndefinedMetricWarning: Precision and F-score are ill-defined and being set to 0.0 in samples with no predicted labels. Use `zero_division` parameter to control this behavior.\n",
      "  _warn_prf(average, modifier, msg_start, len(result))\n",
      "C:\\Users\\amank\\anaconda3\\lib\\site-packages\\sklearn\\metrics\\_classification.py:1245: UndefinedMetricWarning: Recall and F-score are ill-defined and being set to 0.0 in samples with no true labels. Use `zero_division` parameter to control this behavior.\n",
      "  _warn_prf(average, modifier, msg_start, len(result))\n"
     ]
    }
   ],
   "source": [
    "# Calssification report on testing dataset\n",
    "print(classification_report(data_test[target], y_test_pred, \n",
    "                            target_names=['Machine failure','TWF','HDF','PWF','OSF','RNF']))"
   ]
  },
  {
   "cell_type": "code",
   "execution_count": 36,
   "id": "446d1326",
   "metadata": {},
   "outputs": [
    {
     "name": "stdout",
     "output_type": "stream",
     "text": [
      "                 precision    recall  f1-score   support\n",
      "\n",
      "Machine failure       0.99      0.57      0.73      1972\n",
      "            TWF       0.00      0.00      0.00       377\n",
      "            HDF       1.00      0.59      0.74       638\n",
      "            PWF       1.00      0.86      0.92       406\n",
      "            OSF       0.93      0.75      0.83       580\n",
      "            RNF       0.00      0.00      0.00         3\n",
      "\n",
      "      micro avg       0.97      0.58      0.72      3976\n",
      "      macro avg       0.65      0.46      0.54      3976\n",
      "   weighted avg       0.89      0.58      0.69      3976\n",
      "    samples avg       0.29      0.28      0.28      3976\n",
      "\n"
     ]
    },
    {
     "name": "stderr",
     "output_type": "stream",
     "text": [
      "C:\\Users\\amank\\anaconda3\\lib\\site-packages\\sklearn\\metrics\\_classification.py:1245: UndefinedMetricWarning: Precision and F-score are ill-defined and being set to 0.0 in samples with no predicted labels. Use `zero_division` parameter to control this behavior.\n",
      "  _warn_prf(average, modifier, msg_start, len(result))\n",
      "C:\\Users\\amank\\anaconda3\\lib\\site-packages\\sklearn\\metrics\\_classification.py:1245: UndefinedMetricWarning: Recall and F-score are ill-defined and being set to 0.0 in samples with no true labels. Use `zero_division` parameter to control this behavior.\n",
      "  _warn_prf(average, modifier, msg_start, len(result))\n"
     ]
    }
   ],
   "source": [
    "print(classification_report(data_valid[target], y_valid_pred, \n",
    "                            target_names=['Machine failure','TWF','HDF','PWF','OSF','RNF']))"
   ]
  },
  {
   "cell_type": "markdown",
   "id": "5ecb8356",
   "metadata": {},
   "source": [
    "cm_val = confusion_matrix(data_train[target], y_train_pred)\n",
    "disp = ConfusionMatrixDisplay(confusion_matrix=cm_val)\n",
    "disp.plot()"
   ]
  },
  {
   "cell_type": "markdown",
   "id": "e220412e",
   "metadata": {},
   "source": [
    "cm_val = confusion_matrix(data_test[target], y_test)\n",
    "disp = ConfusionMatrixDisplay(confusion_matrix=cm_val)\n",
    "disp.plot()"
   ]
  },
  {
   "cell_type": "markdown",
   "id": "cf43ab56",
   "metadata": {},
   "source": [
    "cm_val=confusion_matrix(data_valid[target], y_valid)\n",
    "disp = ConfusionMatrixDisplay(confusion_matrix=cm_val)\n",
    "disp.plot()"
   ]
  },
  {
   "cell_type": "code",
   "execution_count": 37,
   "id": "f76b11e3",
   "metadata": {},
   "outputs": [],
   "source": [
    "dot_data = tree.export_graphviz(clf, out_file=None, feature_names=label, class_names='Machine Failure', filled=True,\\\n",
    "                                rounded=True,  special_characters=True)"
   ]
  },
  {
   "cell_type": "code",
   "execution_count": 38,
   "id": "fc15c020",
   "metadata": {},
   "outputs": [
    {
     "data": {
      "text/plain": [
       "<Figure size 432x288 with 0 Axes>"
      ]
     },
     "metadata": {},
     "output_type": "display_data"
    }
   ],
   "source": [
    "graph = graphviz.Source(dot_data) \n",
    "graph.render(filename='tree_mul')\n",
    "pylab.savefig('tree_mul.png')"
   ]
  },
  {
   "cell_type": "code",
   "execution_count": 39,
   "id": "963ff923",
   "metadata": {},
   "outputs": [
    {
     "data": {
      "text/plain": [
       "21"
      ]
     },
     "execution_count": 39,
     "metadata": {},
     "output_type": "execute_result"
    }
   ],
   "source": [
    "clf.get_depth()"
   ]
  },
  {
   "cell_type": "code",
   "execution_count": 40,
   "id": "3249c227",
   "metadata": {},
   "outputs": [],
   "source": [
    "#Post pruning\n",
    "path = clf.cost_complexity_pruning_path(X_train, y_train)\n",
    "ccp_alphas, impurities = path.ccp_alphas, path.impurities"
   ]
  },
  {
   "cell_type": "code",
   "execution_count": 41,
   "id": "c6bfd645",
   "metadata": {},
   "outputs": [
    {
     "data": {
      "text/plain": [
       "Text(0.5, 1.0, 'Total Impurity vs effective alpha for training set')"
      ]
     },
     "execution_count": 41,
     "metadata": {},
     "output_type": "execute_result"
    },
    {
     "data": {
      "image/png": "[encoded data removed]",
      "text/plain": [
       "<Figure size 432x288 with 1 Axes>"
      ]
     },
     "metadata": {
      "needs_background": "light"
     },
     "output_type": "display_data"
    }
   ],
   "source": [
    "fig, ax = plt.subplots()\n",
    "ax.plot(ccp_alphas[:-1], impurities[:-1], marker=\"o\", drawstyle=\"steps-post\")\n",
    "ax.set_xlabel(\"effective alpha\")\n",
    "ax.set_ylabel(\"total impurity of leaves\")\n",
    "ax.set_title(\"Total Impurity vs effective alpha for training set\")"
   ]
  },
  {
   "cell_type": "code",
   "execution_count": 42,
   "id": "50940dae",
   "metadata": {},
   "outputs": [
    {
     "name": "stdout",
     "output_type": "stream",
     "text": [
      "Number of nodes in the last tree is: 1 with ccp_alpha: 0.04701977126762602\n"
     ]
    }
   ],
   "source": [
    "clfs = []\n",
    "for ccp_alpha in ccp_alphas:\n",
    "    clf = tree.DecisionTreeClassifier(random_state=0, ccp_alpha=ccp_alpha)\n",
    "    clf.fit(X_train, y_train)\n",
    "    clfs.append(clf)\n",
    "print(\n",
    "    \"Number of nodes in the last tree is: {} with ccp_alpha: {}\".format(\n",
    "        clfs[-1].tree_.node_count, ccp_alphas[-1]\n",
    "    )\n",
    ")"
   ]
  },
  {
   "cell_type": "code",
   "execution_count": 43,
   "id": "50478c81",
   "metadata": {},
   "outputs": [
    {
     "data": {
      "image/png": "[encoded data removed]",
      "text/plain": [
       "<Figure size 432x288 with 2 Axes>"
      ]
     },
     "metadata": {
      "needs_background": "light"
     },
     "output_type": "display_data"
    }
   ],
   "source": [
    "clfs = clfs[:-1]\n",
    "ccp_alphas = ccp_alphas[:-1]\n",
    "\n",
    "node_counts = [clf.tree_.node_count for clf in clfs]\n",
    "depth = [clf.tree_.max_depth for clf in clfs]\n",
    "fig, ax = plt.subplots(2, 1)\n",
    "ax[0].plot(ccp_alphas, node_counts, marker=\"o\", drawstyle=\"steps-post\")\n",
    "ax[0].set_xlabel(\"alpha\")\n",
    "ax[0].set_ylabel(\"number of nodes\")\n",
    "ax[0].set_title(\"Number of nodes vs alpha\")\n",
    "ax[1].plot(ccp_alphas, depth, marker=\"o\", drawstyle=\"steps-post\")\n",
    "ax[1].set_xlabel(\"alpha\")\n",
    "ax[1].set_ylabel(\"depth of tree\")\n",
    "ax[1].set_title(\"Depth vs alpha\")\n",
    "fig.tight_layout()"
   ]
  },
  {
   "cell_type": "code",
   "execution_count": 44,
   "id": "13be196e",
   "metadata": {},
   "outputs": [
    {
     "data": {
      "image/png": "[encoded data removed]",
      "text/plain": [
       "<Figure size 432x288 with 1 Axes>"
      ]
     },
     "metadata": {
      "needs_background": "light"
     },
     "output_type": "display_data"
    }
   ],
   "source": [
    "train_scores = [clf.score(X_train, y_train) for clf in clfs]\n",
    "test_scores = [clf.score(data_test[label], data_test[target]) for clf in clfs]\n",
    "\n",
    "fig, ax = plt.subplots()\n",
    "ax.set_xlabel(\"alpha\")\n",
    "ax.set_ylabel(\"accuracy\")\n",
    "ax.set_title(\"Accuracy vs alpha for training and testing sets\")\n",
    "ax.plot(ccp_alphas, train_scores, marker=\"o\", label=\"train\", drawstyle=\"steps-post\")\n",
    "ax.plot(ccp_alphas, test_scores, marker=\"o\", label=\"test\", drawstyle=\"steps-post\")\n",
    "ax.legend()\n",
    "plt.show()"
   ]
  },
  {
   "cell_type": "markdown",
   "id": "f1f4aca1",
   "metadata": {},
   "source": [
    "https://towardsdatascience.com/pre-pruning-or-post-pruning-1dbc8be5cb14"
   ]
  },
  {
   "cell_type": "markdown",
   "id": "f2e3cc5f",
   "metadata": {},
   "source": [
    "## 2.2 Taking CCP_Alpha =0.005 increses testing accuracy to 81% from 78%"
   ]
  },
  {
   "cell_type": "code",
   "execution_count": 45,
   "id": "b73fab2c",
   "metadata": {},
   "outputs": [],
   "source": [
    "clf_p = tree.DecisionTreeClassifier(criterion='gini', splitter='best', max_depth=None, \n",
    "                                  min_samples_split=2, min_samples_leaf=1, min_weight_fraction_leaf=0.0, \n",
    "                                  max_features=None, random_state=None, max_leaf_nodes=None, min_impurity_decrease=0.0, \n",
    "                                  class_weight=None, ccp_alpha=0.005)\n",
    "clf_p = clf_p.fit(X_train, y_train)\n",
    "\n",
    "y_test_pred = clf_p.predict(data_test[label])\n",
    "\n",
    "y_valid_pred = clf_p.predict(data_valid[label])"
   ]
  },
  {
   "cell_type": "code",
   "execution_count": 46,
   "id": "a3d47f0c",
   "metadata": {},
   "outputs": [
    {
     "name": "stdout",
     "output_type": "stream",
     "text": [
      "Training score :  0.8803813714704803\n",
      "Testing score :  0.8131080389144906\n",
      "Validation score :  0.8127561475409836\n"
     ]
    }
   ],
   "source": [
    "print('Training score : ', clf_p.score(X_train, y_train))\n",
    "print('Testing score : ', clf_p.score(X_test, y_test))\n",
    "print('Validation score : ', clf_p.score(X_valid, y_valid))"
   ]
  },
  {
   "cell_type": "code",
   "execution_count": 47,
   "id": "8770ec30",
   "metadata": {},
   "outputs": [
    {
     "data": {
      "image/png": "[encoded data removed]",
      "text/plain": [
       "<Figure size 432x288 with 1 Axes>"
      ]
     },
     "metadata": {
      "needs_background": "light"
     },
     "output_type": "display_data"
    }
   ],
   "source": [
    "train_scores = []\n",
    "test_scores = []\n",
    "valid_scores = []\n",
    "target = ['Machine failure', 'TWF', 'HDF','PWF', 'OSF', 'RNF']\n",
    "\n",
    "for key in target:\n",
    "    clf_p = tree.DecisionTreeClassifier(criterion='gini', splitter='best', max_depth=4, \n",
    "                                  min_samples_split=2, min_samples_leaf=1, min_weight_fraction_leaf=0.0, \n",
    "                                  max_features=None, random_state=None, max_leaf_nodes=None, min_impurity_decrease=0.0, \n",
    "                                  class_weight=None, ccp_alpha=0.005).fit(X_train, y_train[key])\n",
    "    train_score = [clf_p.score(X_train, y_train[key])]\n",
    "    test_score = [clf_p.score(X_test, y_test[key]) ]\n",
    "    valid_score = [clf_p.score(X_valid, y_valid[key])]\n",
    "    train_scores.append(train_score)\n",
    "    test_scores.append(test_score)\n",
    "    valid_scores.append(test_score)\n",
    "\n",
    "fig, ax = plt.subplots()\n",
    "ax.set_xlabel(\"Machine failure modes\")\n",
    "ax.set_ylabel(\"accuracy\")\n",
    "ax.set_title(\"Accuracy vs Failure mode for Decision Tree Classifier\")\n",
    "ax.plot(target, train_scores, marker=\"o\", label='train', drawstyle=\"steps-mid\")\n",
    "ax.plot(target, test_scores, marker=\"x\", label=\"test\", drawstyle=\"steps-mid\")\n",
    "ax.plot(target, valid_scores, marker=\".\", label=\"valid\", drawstyle=\"steps-mid\")\n",
    "ax.legend()\n",
    "plt.show()"
   ]
  },
  {
   "cell_type": "code",
   "execution_count": 48,
   "id": "3b9e7fdb",
   "metadata": {},
   "outputs": [
    {
     "name": "stdout",
     "output_type": "stream",
     "text": [
      "              precision    recall  f1-score   support\n",
      "\n",
      "           0       0.93      0.85      0.89       967\n",
      "           1       0.86      0.94      0.90       986\n",
      "\n",
      "    accuracy                           0.90      1953\n",
      "   macro avg       0.90      0.89      0.89      1953\n",
      "weighted avg       0.90      0.90      0.89      1953\n",
      "\n",
      "              precision    recall  f1-score   support\n",
      "\n",
      "           0       0.98      0.96      0.97      1808\n",
      "           1       0.61      0.80      0.69       145\n",
      "\n",
      "    accuracy                           0.95      1953\n",
      "   macro avg       0.80      0.88      0.83      1953\n",
      "weighted avg       0.96      0.95      0.95      1953\n",
      "\n",
      "              precision    recall  f1-score   support\n",
      "\n",
      "           0       0.95      0.97      0.96      1663\n",
      "           1       0.83      0.70      0.76       290\n",
      "\n",
      "    accuracy                           0.93      1953\n",
      "   macro avg       0.89      0.84      0.86      1953\n",
      "weighted avg       0.93      0.93      0.93      1953\n",
      "\n",
      "              precision    recall  f1-score   support\n",
      "\n",
      "           0       0.98      0.98      0.98      1692\n",
      "           1       0.88      0.89      0.88       261\n",
      "\n",
      "    accuracy                           0.97      1953\n",
      "   macro avg       0.93      0.93      0.93      1953\n",
      "weighted avg       0.97      0.97      0.97      1953\n",
      "\n",
      "              precision    recall  f1-score   support\n",
      "\n",
      "           0       0.98      0.99      0.99      1576\n",
      "           1       0.96      0.92      0.94       377\n",
      "\n",
      "    accuracy                           0.98      1953\n",
      "   macro avg       0.97      0.96      0.96      1953\n",
      "weighted avg       0.98      0.98      0.98      1953\n",
      "\n",
      "              precision    recall  f1-score   support\n",
      "\n",
      "           0       1.00      1.00      1.00      1953\n",
      "\n",
      "    accuracy                           1.00      1953\n",
      "   macro avg       1.00      1.00      1.00      1953\n",
      "weighted avg       1.00      1.00      1.00      1953\n",
      "\n"
     ]
    },
    {
     "data": {
      "image/png": "[encoded data removed]",
      "text/plain": [
       "<Figure size 432x288 with 2 Axes>"
      ]
     },
     "metadata": {
      "needs_background": "light"
     },
     "output_type": "display_data"
    },
    {
     "data": {
      "image/png": "[encoded data removed]",
      "text/plain": [
       "<Figure size 432x288 with 2 Axes>"
      ]
     },
     "metadata": {
      "needs_background": "light"
     },
     "output_type": "display_data"
    },
    {
     "data": {
      "image/png": "[encoded data removed]",
      "text/plain": [
       "<Figure size 432x288 with 2 Axes>"
      ]
     },
     "metadata": {
      "needs_background": "light"
     },
     "output_type": "display_data"
    },
    {
     "data": {
      "image/png": "[encoded data removed]",
      "text/plain": [
       "<Figure size 432x288 with 2 Axes>"
      ]
     },
     "metadata": {
      "needs_background": "light"
     },
     "output_type": "display_data"
    },
    {
     "data": {
      "image/png": "[encoded data removed]",
      "text/plain": [
       "<Figure size 432x288 with 2 Axes>"
      ]
     },
     "metadata": {
      "needs_background": "light"
     },
     "output_type": "display_data"
    },
    {
     "data": {
      "image/png": "[encoded data removed]",
      "text/plain": [
       "<Figure size 432x288 with 2 Axes>"
      ]
     },
     "metadata": {
      "needs_background": "light"
     },
     "output_type": "display_data"
    }
   ],
   "source": [
    "for key in target:\n",
    "    clf_p = tree.DecisionTreeClassifier(criterion='gini', splitter='best', max_depth=4, \n",
    "                                  min_samples_split=2, min_samples_leaf=1, min_weight_fraction_leaf=0.0, \n",
    "                                  max_features=None, random_state=None, max_leaf_nodes=None, min_impurity_decrease=0.0, \n",
    "                                  class_weight=None, ccp_alpha=0.005).fit(X_train, y_train[key])\n",
    "    cm_val = confusion_matrix(data_test[key], clf_p.predict(X_test), labels=clf_p.classes_)\n",
    "    disp = ConfusionMatrixDisplay(confusion_matrix=cm_val, display_labels=clf_p.classes_)\n",
    "    disp.plot()\n",
    "    print(classification_report(data_test[key], clf_p.predict(X_test)))"
   ]
  },
  {
   "cell_type": "markdown",
   "id": "426fe6ff",
   "metadata": {
    "scrolled": true
   },
   "source": [
    "print(classification_report(data_test[target], y_test_pred,\n",
    "                            target_names=['Machine failure','TWF','HDF','PWF','OSF','RNF']))"
   ]
  },
  {
   "cell_type": "markdown",
   "id": "1722e810",
   "metadata": {
    "scrolled": true
   },
   "source": [
    "print(classification_report(data_test[target], y_test_pred,\n",
    "                            target_names=['Machine failure','TWF','HDF','PWF','OSF','RNF']))"
   ]
  },
  {
   "cell_type": "code",
   "execution_count": 49,
   "id": "7cda2471",
   "metadata": {},
   "outputs": [
    {
     "data": {
      "text/plain": [
       "<Figure size 432x288 with 0 Axes>"
      ]
     },
     "metadata": {},
     "output_type": "display_data"
    }
   ],
   "source": [
    "graph\n",
    "graph.render(filename='tree_d3_mul')\n",
    "pylab.savefig('tree_d3_mul.png')"
   ]
  },
  {
   "cell_type": "markdown",
   "id": "09e7683c",
   "metadata": {},
   "source": [
    "## 3. Random Forest for multilabel output"
   ]
  },
  {
   "cell_type": "code",
   "execution_count": 50,
   "id": "01b6fc5c",
   "metadata": {},
   "outputs": [
    {
     "data": {
      "text/plain": [
       "1.0"
      ]
     },
     "execution_count": 50,
     "metadata": {},
     "output_type": "execute_result"
    }
   ],
   "source": [
    "X_train = data_train[label]\n",
    "y_train = data_train[target]\n",
    "\n",
    "X_test = data_test[label]\n",
    "y_test = data_test[target]\n",
    "\n",
    "X_valid = data_valid[label]\n",
    "y_valid = data_valid[target]\n",
    "\n",
    "clf_rf = RandomForestClassifier(max_depth=None,ccp_alpha=0.0, random_state=0)\n",
    "clf_rf.fit(X_train, y_train)\n",
    "clf_rf.score(X_train, y_train)"
   ]
  },
  {
   "cell_type": "code",
   "execution_count": 51,
   "id": "5c55d0ce",
   "metadata": {},
   "outputs": [],
   "source": [
    "label = ['Air temperature [K]', 'Process temperature [K]', 'Rotational speed [rpm]', \\\n",
    "         'Torque [Nm]', 'Tool wear [min]', 'Type_Num']"
   ]
  },
  {
   "cell_type": "code",
   "execution_count": 52,
   "id": "371ebb0e",
   "metadata": {},
   "outputs": [
    {
     "data": {
      "text/plain": [
       "<BarContainer object of 6 artists>"
      ]
     },
     "execution_count": 52,
     "metadata": {},
     "output_type": "execute_result"
    },
    {
     "data": {
      "image/png": "[encoded data removed]",
      "text/plain": [
       "<Figure size 1080x288 with 1 Axes>"
      ]
     },
     "metadata": {
      "needs_background": "light"
     },
     "output_type": "display_data"
    }
   ],
   "source": [
    "imp = np.vstack((label, clf_rf.feature_importances_))\n",
    "fig = plt.figure(figsize =(15, 4))\n",
    "plt.bar(label, clf_rf.feature_importances_)"
   ]
  },
  {
   "cell_type": "code",
   "execution_count": 53,
   "id": "61892e5c",
   "metadata": {},
   "outputs": [
    {
     "name": "stdout",
     "output_type": "stream",
     "text": [
      "Training score :  1.0\n",
      "Testing score :  0.7588325652841782\n",
      "Validation score :  0.7305327868852459\n"
     ]
    }
   ],
   "source": [
    "print('Training score : ', clf_rf.score(X_train, y_train))\n",
    "print('Testing score : ', clf_rf.score(X_test, y_test))\n",
    "print('Validation score : ', clf_rf.score(X_valid, y_valid))"
   ]
  },
  {
   "cell_type": "code",
   "execution_count": 54,
   "id": "4407abd5",
   "metadata": {},
   "outputs": [
    {
     "name": "stdout",
     "output_type": "stream",
     "text": [
      "Train score : 0.8383571690502384\n",
      "Test score :  0.7393753200204813\n",
      "Validation score :  0.7005635245901639\n"
     ]
    }
   ],
   "source": [
    "clf_rf = RandomForestClassifier(n_estimators=100,criterion='entropy', max_depth=4, min_samples_split=2, \\\n",
    "                                min_samples_leaf=1, min_weight_fraction_leaf=0.0, max_features='auto', \\\n",
    "                                max_leaf_nodes=None, min_impurity_decrease=0.0, bootstrap=True, \\\n",
    "                                oob_score=False, n_jobs=None, random_state=0, verbose=0,\\\n",
    "                                warm_start=False, class_weight=None, ccp_alpha=0.0, max_samples=None)\n",
    "clf_rf.fit(X_train, y_train)\n",
    "print('Train score :',clf_rf.score(X_train, y_train))\n",
    "print('Test score : ',clf_rf.score(X_test, y_test))\n",
    "print('Validation score : ',clf_rf.score(X_valid, y_valid))"
   ]
  },
  {
   "cell_type": "code",
   "execution_count": 55,
   "id": "d4384961",
   "metadata": {},
   "outputs": [],
   "source": [
    "train_scores = []\n",
    "test_scores = []\n",
    "valid_scores = []\n",
    "target = ['Machine failure', 'TWF', 'HDF','PWF', 'OSF', 'RNF']\n",
    "\n",
    "for key in target:\n",
    "    clf_rf = RandomForestClassifier(n_estimators=100,criterion='entropy', max_depth=4, min_samples_split=2, \\\n",
    "                                min_samples_leaf=1, min_weight_fraction_leaf=0.0, max_features='auto', \\\n",
    "                                max_leaf_nodes=None, min_impurity_decrease=0.0, bootstrap=True, \\\n",
    "                                oob_score=False, n_jobs=None, random_state=0, verbose=0,\\\n",
    "                                warm_start=False, class_weight=None, \\\n",
    "                                    ccp_alpha=0.0, max_samples=None).fit(X_train, y_train[key])\n",
    "    train_score = [clf_rf.score(X_train, y_train[key])]\n",
    "    test_score = [clf_rf.score(X_test, y_test[key]) ]\n",
    "    valid_score = [clf_rf.score(X_valid, y_valid[key])]\n",
    "    train_scores.append(train_score)\n",
    "    test_scores.append(test_score)\n",
    "    valid_scores.append(test_score)"
   ]
  },
  {
   "cell_type": "code",
   "execution_count": 56,
   "id": "f265bffc",
   "metadata": {},
   "outputs": [
    {
     "data": {
      "image/png": "[encoded data removed]",
      "text/plain": [
       "<Figure size 432x288 with 1 Axes>"
      ]
     },
     "metadata": {
      "needs_background": "light"
     },
     "output_type": "display_data"
    }
   ],
   "source": [
    "fig, ax = plt.subplots()\n",
    "ax.set_xlabel(\"Machine failure modes\")\n",
    "ax.set_ylabel(\"accuracy\")\n",
    "ax.set_title(\"Accuracy vs Failure mode for Random Forest Classifier\")\n",
    "ax.plot(target, train_scores, marker=\"o\", label='train', drawstyle=\"steps-mid\")\n",
    "ax.plot(target, test_scores, marker=\"x\", label=\"test\", drawstyle=\"steps-mid\")\n",
    "ax.plot(target, valid_scores, marker=\".\", label=\"valid\", drawstyle=\"steps-mid\")\n",
    "ax.legend()\n",
    "plt.show()"
   ]
  },
  {
   "cell_type": "markdown",
   "id": "05f7d1c5",
   "metadata": {},
   "source": [
    "print(classification_report(data_test[target], clf_rf.predict(X_test),\n",
    "                            target_names=['Machine failure','TWF','HDF','PWF','OSF','RNF']))"
   ]
  },
  {
   "cell_type": "code",
   "execution_count": 57,
   "id": "e5f4c5b6",
   "metadata": {},
   "outputs": [
    {
     "data": {
      "text/plain": [
       "(<13635x2068 sparse matrix of type '<class 'numpy.int64'>'\n",
       " \twith 5797717 stored elements in Compressed Sparse Row format>,\n",
       " array([   0,   19,   38,   59,   80,   99,  124,  139,  164,  187,  210,\n",
       "         229,  250,  267,  288,  309,  326,  347,  366,  389,  410,  437,\n",
       "         458,  479,  494,  517,  542,  565,  586,  599,  620,  639,  652,\n",
       "         673,  694,  713,  734,  759,  780,  801,  822,  845,  868,  881,\n",
       "         904,  923,  938,  951,  978, 1001, 1026, 1047, 1064, 1083, 1108,\n",
       "        1127, 1150, 1169, 1190, 1211, 1234, 1253, 1276, 1293, 1314, 1333,\n",
       "        1356, 1375, 1394, 1415, 1438, 1461, 1486, 1509, 1530, 1551, 1574,\n",
       "        1595, 1620, 1633, 1652, 1667, 1690, 1713, 1736, 1757, 1774, 1797,\n",
       "        1822, 1845, 1870, 1897, 1916, 1937, 1952, 1975, 1988, 2005, 2026,\n",
       "        2047, 2068], dtype=int32))"
      ]
     },
     "execution_count": 57,
     "metadata": {},
     "output_type": "execute_result"
    }
   ],
   "source": [
    "clf_rf.decision_path(X_train)"
   ]
  },
  {
   "cell_type": "markdown",
   "id": "c57c5d90",
   "metadata": {},
   "source": [
    "## 4. Extra Tree Classifier for multilabel output"
   ]
  },
  {
   "cell_type": "code",
   "execution_count": 58,
   "id": "79cca0d0",
   "metadata": {},
   "outputs": [
    {
     "name": "stdout",
     "output_type": "stream",
     "text": [
      "Train score : 0.6371837183718372\n",
      "Test score :  0.604710701484895\n",
      "Validation score :  0.633452868852459\n"
     ]
    }
   ],
   "source": [
    "from sklearn.tree import ExtraTreeClassifier\n",
    "\n",
    "extra_tree = ExtraTreeClassifier(max_depth=3, random_state=0)\n",
    "\n",
    "extra_tree.fit(X_train, y_train)\n",
    "print('Train score :',extra_tree.score(X_train, y_train))\n",
    "print('Test score : ',extra_tree.score(X_test, y_test))\n",
    "print('Validation score : ',extra_tree.score(X_valid, y_valid))"
   ]
  },
  {
   "cell_type": "code",
   "execution_count": 59,
   "id": "219901ae",
   "metadata": {},
   "outputs": [],
   "source": [
    "X_train = data_train[label]\n",
    "y_train = data_train[target]\n",
    "\n",
    "X_test = data_test[label]\n",
    "y_test = data_test[target]\n",
    "\n",
    "X_valid = data_valid[label]\n",
    "y_valid = data_valid[target]"
   ]
  },
  {
   "cell_type": "code",
   "execution_count": 60,
   "id": "0f2ec809",
   "metadata": {},
   "outputs": [
    {
     "data": {
      "text/plain": [
       "<BarContainer object of 6 artists>"
      ]
     },
     "execution_count": 60,
     "metadata": {},
     "output_type": "execute_result"
    },
    {
     "data": {
      "image/png": "[encoded data removed]",
      "text/plain": [
       "<Figure size 1080x288 with 1 Axes>"
      ]
     },
     "metadata": {
      "needs_background": "light"
     },
     "output_type": "display_data"
    }
   ],
   "source": [
    "imp = np.vstack((label, extra_tree.feature_importances_))\n",
    "fig = plt.figure(figsize =(15, 4))\n",
    "plt.bar(label, clf_rf.feature_importances_)"
   ]
  },
  {
   "cell_type": "code",
   "execution_count": 61,
   "id": "6c6c5813",
   "metadata": {},
   "outputs": [
    {
     "name": "stdout",
     "output_type": "stream",
     "text": [
      "                 precision    recall  f1-score   support\n",
      "\n",
      "Machine failure       0.80      0.53      0.64       986\n",
      "            TWF       0.00      0.00      0.00       145\n",
      "            HDF       0.62      0.90      0.73       290\n",
      "            PWF       0.00      0.00      0.00       261\n",
      "            OSF       0.75      0.46      0.57       377\n",
      "            RNF       0.00      0.00      0.00         0\n",
      "\n",
      "      micro avg       0.73      0.46      0.57      2059\n",
      "      macro avg       0.36      0.32      0.32      2059\n",
      "   weighted avg       0.61      0.46      0.51      2059\n",
      "    samples avg       0.25      0.23      0.24      2059\n",
      "\n"
     ]
    },
    {
     "name": "stderr",
     "output_type": "stream",
     "text": [
      "C:\\Users\\amank\\anaconda3\\lib\\site-packages\\sklearn\\metrics\\_classification.py:1245: UndefinedMetricWarning: Precision and F-score are ill-defined and being set to 0.0 in labels with no predicted samples. Use `zero_division` parameter to control this behavior.\n",
      "  _warn_prf(average, modifier, msg_start, len(result))\n",
      "C:\\Users\\amank\\anaconda3\\lib\\site-packages\\sklearn\\metrics\\_classification.py:1245: UndefinedMetricWarning: Recall and F-score are ill-defined and being set to 0.0 in labels with no true samples. Use `zero_division` parameter to control this behavior.\n",
      "  _warn_prf(average, modifier, msg_start, len(result))\n",
      "C:\\Users\\amank\\anaconda3\\lib\\site-packages\\sklearn\\metrics\\_classification.py:1245: UndefinedMetricWarning: Precision and F-score are ill-defined and being set to 0.0 in samples with no predicted labels. Use `zero_division` parameter to control this behavior.\n",
      "  _warn_prf(average, modifier, msg_start, len(result))\n",
      "C:\\Users\\amank\\anaconda3\\lib\\site-packages\\sklearn\\metrics\\_classification.py:1245: UndefinedMetricWarning: Recall and F-score are ill-defined and being set to 0.0 in samples with no true labels. Use `zero_division` parameter to control this behavior.\n",
      "  _warn_prf(average, modifier, msg_start, len(result))\n"
     ]
    }
   ],
   "source": [
    "print(classification_report(data_test[target], extra_tree.predict(X_test),\n",
    "                            target_names=['Machine failure','TWF','HDF','PWF','OSF','RNF']))"
   ]
  },
  {
   "cell_type": "code",
   "execution_count": 62,
   "id": "f9fa7b4d",
   "metadata": {},
   "outputs": [],
   "source": [
    "train_scores = []\n",
    "test_scores = []\n",
    "valid_scores = []\n",
    "target = ['Machine failure', 'TWF', 'HDF','PWF', 'OSF', 'RNF']\n",
    "\n",
    "for key in target:\n",
    "    extra_tree = ExtraTreeClassifier(max_depth=3, random_state=0).fit(X_train, y_train[key])\n",
    "    train_score = [extra_tree.score(X_train, y_train[key])]\n",
    "    test_score = [extra_tree.score(X_test, y_test[key]) ]\n",
    "    valid_score = [extra_tree.score(X_valid, y_valid[key])]\n",
    "    train_scores.append(train_score)\n",
    "    test_scores.append(test_score)\n",
    "    valid_scores.append(test_score)"
   ]
  },
  {
   "cell_type": "code",
   "execution_count": 63,
   "id": "9c1f5baf",
   "metadata": {},
   "outputs": [
    {
     "data": {
      "image/png": "[encoded data removed]",
      "text/plain": [
       "<Figure size 432x288 with 1 Axes>"
      ]
     },
     "metadata": {
      "needs_background": "light"
     },
     "output_type": "display_data"
    }
   ],
   "source": [
    "fig, ax = plt.subplots()\n",
    "ax.set_xlabel(\"Machine failure modes\")\n",
    "ax.set_ylabel(\"accuracy\")\n",
    "ax.set_title(\"Accuracy vs Failure mode for Extra Tree Classifier\")\n",
    "ax.plot(target, train_scores, marker=\"o\", label='train', drawstyle=\"steps-mid\")\n",
    "ax.plot(target, test_scores, marker=\"x\", label=\"test\", drawstyle=\"steps-mid\")\n",
    "ax.plot(target, valid_scores, marker=\".\", label=\"valid\", drawstyle=\"steps-mid\")\n",
    "ax.legend()\n",
    "plt.show()"
   ]
  },
  {
   "cell_type": "markdown",
   "id": "897dade7",
   "metadata": {},
   "source": [
    "## 5. Gradient Boosted Tree for multilabel output"
   ]
  },
  {
   "cell_type": "code",
   "execution_count": 64,
   "id": "5d122b25",
   "metadata": {},
   "outputs": [],
   "source": [
    "from sklearn.ensemble import GradientBoostingClassifier"
   ]
  },
  {
   "cell_type": "code",
   "execution_count": 65,
   "id": "b3c722d9",
   "metadata": {},
   "outputs": [],
   "source": [
    "train_scores = []\n",
    "test_scores = []\n",
    "valid_scores = []\n",
    "target = ['Machine failure', 'TWF', 'HDF','PWF', 'OSF', 'RNF']\n",
    "\n",
    "for key in target:\n",
    "    clf_xg = GradientBoostingClassifier(n_estimators=100, learning_rate=0.2, subsample=0.5,\\\n",
    "                                        max_depth=3, random_state=0).fit(X_train, y_train[key])\n",
    "    train_score = [clf_xg.score(X_train, y_train[key])]\n",
    "    test_score = [clf_xg.score(X_test, y_test[key]) ]\n",
    "    valid_score = [clf_xg.score(X_valid, y_valid[key])]\n",
    "    train_scores.append(train_score)\n",
    "    test_scores.append(test_score)\n",
    "    valid_scores.append(test_score)"
   ]
  },
  {
   "cell_type": "code",
   "execution_count": 66,
   "id": "a8b8b610",
   "metadata": {},
   "outputs": [
    {
     "data": {
      "image/png": "[encoded data removed]",
      "text/plain": [
       "<Figure size 432x288 with 1 Axes>"
      ]
     },
     "metadata": {
      "needs_background": "light"
     },
     "output_type": "display_data"
    }
   ],
   "source": [
    "fig, ax = plt.subplots()\n",
    "ax.set_xlabel(\"Machine failure modes\")\n",
    "ax.set_ylabel(\"accuracy\")\n",
    "ax.set_title(\"Accuracy vs Failure mode for Gradient Boosted Tree\")\n",
    "ax.plot(target, train_scores, marker=\"o\", label='train', drawstyle=\"steps-mid\")\n",
    "ax.plot(target, test_scores, marker=\"x\", label=\"test\", drawstyle=\"steps-mid\")\n",
    "ax.plot(target, valid_scores, marker=\".\", label=\"valid\", drawstyle=\"steps-mid\")\n",
    "ax.legend()\n",
    "plt.show()"
   ]
  },
  {
   "cell_type": "markdown",
   "id": "8e623194",
   "metadata": {},
   "source": [
    "print(classification_report(data_test[target], clf_xg.predict(X_test)))"
   ]
  },
  {
   "cell_type": "code",
   "execution_count": 67,
   "id": "dd9a6bcc",
   "metadata": {},
   "outputs": [
    {
     "name": "stdout",
     "output_type": "stream",
     "text": [
      "              precision    recall  f1-score   support\n",
      "\n",
      "           0       0.89      0.95      0.92       967\n",
      "           1       0.95      0.88      0.91       986\n",
      "\n",
      "    accuracy                           0.92      1953\n",
      "   macro avg       0.92      0.92      0.92      1953\n",
      "weighted avg       0.92      0.92      0.92      1953\n",
      "\n",
      "              precision    recall  f1-score   support\n",
      "\n",
      "           0       0.93      1.00      0.96      1808\n",
      "           1       0.00      0.00      0.00       145\n",
      "\n",
      "    accuracy                           0.92      1953\n",
      "   macro avg       0.46      0.50      0.48      1953\n",
      "weighted avg       0.86      0.92      0.89      1953\n",
      "\n",
      "              precision    recall  f1-score   support\n",
      "\n",
      "           0       0.98      1.00      0.99      1663\n",
      "           1       0.99      0.90      0.94       290\n",
      "\n",
      "    accuracy                           0.98      1953\n",
      "   macro avg       0.99      0.95      0.97      1953\n",
      "weighted avg       0.98      0.98      0.98      1953\n",
      "\n",
      "              precision    recall  f1-score   support\n",
      "\n",
      "           0       0.95      0.98      0.97      1692\n",
      "           1       0.86      0.67      0.75       261\n",
      "\n",
      "    accuracy                           0.94      1953\n",
      "   macro avg       0.90      0.82      0.86      1953\n",
      "weighted avg       0.94      0.94      0.94      1953\n",
      "\n",
      "              precision    recall  f1-score   support\n",
      "\n",
      "           0       0.95      1.00      0.97      1576\n",
      "           1       0.99      0.77      0.87       377\n",
      "\n",
      "    accuracy                           0.95      1953\n",
      "   macro avg       0.97      0.88      0.92      1953\n",
      "weighted avg       0.96      0.95      0.95      1953\n",
      "\n",
      "              precision    recall  f1-score   support\n",
      "\n",
      "           0       1.00      0.72      0.83      1953\n",
      "           1       0.00      0.00      0.00         0\n",
      "\n",
      "    accuracy                           0.72      1953\n",
      "   macro avg       0.50      0.36      0.42      1953\n",
      "weighted avg       1.00      0.72      0.83      1953\n",
      "\n"
     ]
    },
    {
     "name": "stderr",
     "output_type": "stream",
     "text": [
      "C:\\Users\\amank\\anaconda3\\lib\\site-packages\\sklearn\\metrics\\_classification.py:1245: UndefinedMetricWarning: Recall and F-score are ill-defined and being set to 0.0 in labels with no true samples. Use `zero_division` parameter to control this behavior.\n",
      "  _warn_prf(average, modifier, msg_start, len(result))\n",
      "C:\\Users\\amank\\anaconda3\\lib\\site-packages\\sklearn\\metrics\\_classification.py:1245: UndefinedMetricWarning: Recall and F-score are ill-defined and being set to 0.0 in labels with no true samples. Use `zero_division` parameter to control this behavior.\n",
      "  _warn_prf(average, modifier, msg_start, len(result))\n",
      "C:\\Users\\amank\\anaconda3\\lib\\site-packages\\sklearn\\metrics\\_classification.py:1245: UndefinedMetricWarning: Recall and F-score are ill-defined and being set to 0.0 in labels with no true samples. Use `zero_division` parameter to control this behavior.\n",
      "  _warn_prf(average, modifier, msg_start, len(result))\n"
     ]
    },
    {
     "data": {
      "image/png": "[encoded data removed]",
      "text/plain": [
       "<Figure size 432x288 with 2 Axes>"
      ]
     },
     "metadata": {
      "needs_background": "light"
     },
     "output_type": "display_data"
    },
    {
     "data": {
      "image/png": "[encoded data removed]",
      "text/plain": [
       "<Figure size 432x288 with 2 Axes>"
      ]
     },
     "metadata": {
      "needs_background": "light"
     },
     "output_type": "display_data"
    },
    {
     "data": {
      "image/png": "[encoded data removed]",
      "text/plain": [
       "<Figure size 432x288 with 2 Axes>"
      ]
     },
     "metadata": {
      "needs_background": "light"
     },
     "output_type": "display_data"
    },
    {
     "data": {
      "image/png": "[encoded data removed]",
      "text/plain": [
       "<Figure size 432x288 with 2 Axes>"
      ]
     },
     "metadata": {
      "needs_background": "light"
     },
     "output_type": "display_data"
    },
    {
     "data": {
      "image/png": "[encoded data removed]",
      "text/plain": [
       "<Figure size 432x288 with 2 Axes>"
      ]
     },
     "metadata": {
      "needs_background": "light"
     },
     "output_type": "display_data"
    },
    {
     "data": {
      "image/png": "[encoded data removed]",
      "text/plain": [
       "<Figure size 432x288 with 2 Axes>"
      ]
     },
     "metadata": {
      "needs_background": "light"
     },
     "output_type": "display_data"
    }
   ],
   "source": [
    "for key in target:\n",
    "    clf_xg = GradientBoostingClassifier(n_estimators=100, learning_rate=0.2, subsample=0.5,\\\n",
    "                                        max_depth=3, random_state=0).fit(X_train, y_train[key])\n",
    "    cm_val = confusion_matrix(data_test[key], clf_xg.predict(X_test), labels=clf_xg.classes_)\n",
    "    disp = ConfusionMatrixDisplay(confusion_matrix=cm_val, display_labels=clf_xg.classes_)\n",
    "    disp.plot()\n",
    "    print(classification_report(data_test[key], clf_xg.predict(X_test)))"
   ]
  },
  {
   "cell_type": "code",
   "execution_count": null,
   "id": "202a4a02",
   "metadata": {},
   "outputs": [],
   "source": []
  }
 ],
 "metadata": {
  "kernelspec": {
   "display_name": "Python 3",
   "language": "python",
   "name": "python3"
  },
  "language_info": {
   "codemirror_mode": {
    "name": "ipython",
    "version": 3
   },
   "file_extension": ".py",
   "mimetype": "text/x-python",
   "name": "python",
   "nbconvert_exporter": "python",
   "pygments_lexer": "ipython3",
   "version": "3.8.8"
  }
 },
 "nbformat": 4,
 "nbformat_minor": 5
}
