{
 "cells": [
  {
   "cell_type": "code",
   "execution_count": 220,
   "id": "5a5c5899",
   "metadata": {},
   "outputs": [],
   "source": [
    "import pandas as pd\n",
    "import numpy as np\n",
    "import matplotlib.pyplot as plt\n",
    "from sklearn.metrics import confusion_matrix , classification_report, ConfusionMatrixDisplay\n",
    "from sklearn import tree\n",
    "from sklearn.neighbors import KNeighborsClassifier\n",
    "import graphviz \n",
    "import pylab\n",
    "from sklearn.ensemble import RandomForestClassifier\n",
    "from sklearn.ensemble import GradientBoostingClassifier"
   ]
  },
  {
   "cell_type": "code",
   "execution_count": 221,
   "id": "d7870720",
   "metadata": {},
   "outputs": [
    {
     "data": {
      "text/html": [
       "<div>\n",
       "<style scoped>\n",
       "    .dataframe tbody tr th:only-of-type {\n",
       "        vertical-align: middle;\n",
       "    }\n",
       "\n",
       "    .dataframe tbody tr th {\n",
       "        vertical-align: top;\n",
       "    }\n",
       "\n",
       "    .dataframe thead th {\n",
       "        text-align: right;\n",
       "    }\n",
       "</style>\n",
       "<table border=\"1\" class=\"dataframe\">\n",
       "  <thead>\n",
       "    <tr style=\"text-align: right;\">\n",
       "      <th></th>\n",
       "      <th>Product ID</th>\n",
       "      <th>Type</th>\n",
       "      <th>Air temperature [K]</th>\n",
       "      <th>Process temperature [K]</th>\n",
       "      <th>Rotational speed [rpm]</th>\n",
       "      <th>Torque [Nm]</th>\n",
       "      <th>Tool wear [min]</th>\n",
       "      <th>Machine failure</th>\n",
       "      <th>TWF</th>\n",
       "      <th>HDF</th>\n",
       "      <th>PWF</th>\n",
       "      <th>OSF</th>\n",
       "      <th>RNF</th>\n",
       "    </tr>\n",
       "    <tr>\n",
       "      <th>UDI</th>\n",
       "      <th></th>\n",
       "      <th></th>\n",
       "      <th></th>\n",
       "      <th></th>\n",
       "      <th></th>\n",
       "      <th></th>\n",
       "      <th></th>\n",
       "      <th></th>\n",
       "      <th></th>\n",
       "      <th></th>\n",
       "      <th></th>\n",
       "      <th></th>\n",
       "      <th></th>\n",
       "    </tr>\n",
       "  </thead>\n",
       "  <tbody>\n",
       "    <tr>\n",
       "      <th>1276</th>\n",
       "      <td>M16135</td>\n",
       "      <td>M</td>\n",
       "      <td>298.1</td>\n",
       "      <td>309.4</td>\n",
       "      <td>1362</td>\n",
       "      <td>47.6</td>\n",
       "      <td>70</td>\n",
       "      <td>0</td>\n",
       "      <td>0</td>\n",
       "      <td>0</td>\n",
       "      <td>0</td>\n",
       "      <td>0</td>\n",
       "      <td>0</td>\n",
       "    </tr>\n",
       "    <tr>\n",
       "      <th>9931</th>\n",
       "      <td>L57110</td>\n",
       "      <td>L</td>\n",
       "      <td>298.3</td>\n",
       "      <td>308.3</td>\n",
       "      <td>1452</td>\n",
       "      <td>45.5</td>\n",
       "      <td>63</td>\n",
       "      <td>0</td>\n",
       "      <td>0</td>\n",
       "      <td>0</td>\n",
       "      <td>0</td>\n",
       "      <td>0</td>\n",
       "      <td>0</td>\n",
       "    </tr>\n",
       "    <tr>\n",
       "      <th>5403</th>\n",
       "      <td>L52582</td>\n",
       "      <td>L</td>\n",
       "      <td>302.7</td>\n",
       "      <td>312.3</td>\n",
       "      <td>1421</td>\n",
       "      <td>48.5</td>\n",
       "      <td>0</td>\n",
       "      <td>0</td>\n",
       "      <td>0</td>\n",
       "      <td>0</td>\n",
       "      <td>0</td>\n",
       "      <td>0</td>\n",
       "      <td>0</td>\n",
       "    </tr>\n",
       "    <tr>\n",
       "      <th>9437</th>\n",
       "      <td>L56616</td>\n",
       "      <td>L</td>\n",
       "      <td>298.0</td>\n",
       "      <td>308.6</td>\n",
       "      <td>1481</td>\n",
       "      <td>42.5</td>\n",
       "      <td>54</td>\n",
       "      <td>0</td>\n",
       "      <td>0</td>\n",
       "      <td>0</td>\n",
       "      <td>0</td>\n",
       "      <td>0</td>\n",
       "      <td>0</td>\n",
       "    </tr>\n",
       "    <tr>\n",
       "      <th>564</th>\n",
       "      <td>L47743</td>\n",
       "      <td>L</td>\n",
       "      <td>297.7</td>\n",
       "      <td>309.6</td>\n",
       "      <td>1529</td>\n",
       "      <td>35.2</td>\n",
       "      <td>153</td>\n",
       "      <td>0</td>\n",
       "      <td>0</td>\n",
       "      <td>0</td>\n",
       "      <td>0</td>\n",
       "      <td>0</td>\n",
       "      <td>0</td>\n",
       "    </tr>\n",
       "  </tbody>\n",
       "</table>\n",
       "</div>"
      ],
      "text/plain": [
       "     Product ID Type  Air temperature [K]  Process temperature [K]  \\\n",
       "UDI                                                                  \n",
       "1276     M16135    M                298.1                    309.4   \n",
       "9931     L57110    L                298.3                    308.3   \n",
       "5403     L52582    L                302.7                    312.3   \n",
       "9437     L56616    L                298.0                    308.6   \n",
       "564      L47743    L                297.7                    309.6   \n",
       "\n",
       "      Rotational speed [rpm]  Torque [Nm]  Tool wear [min]  Machine failure  \\\n",
       "UDI                                                                           \n",
       "1276                    1362         47.6               70                0   \n",
       "9931                    1452         45.5               63                0   \n",
       "5403                    1421         48.5                0                0   \n",
       "9437                    1481         42.5               54                0   \n",
       "564                     1529         35.2              153                0   \n",
       "\n",
       "      TWF  HDF  PWF  OSF  RNF  \n",
       "UDI                            \n",
       "1276    0    0    0    0    0  \n",
       "9931    0    0    0    0    0  \n",
       "5403    0    0    0    0    0  \n",
       "9437    0    0    0    0    0  \n",
       "564     0    0    0    0    0  "
      ]
     },
     "execution_count": 221,
     "metadata": {},
     "output_type": "execute_result"
    }
   ],
   "source": [
    "#Read csv data\n",
    "data_train = pd.read_csv('../data_preparation/subset_train_expanded.csv', index_col=0)\n",
    "data_train.head()"
   ]
  },
  {
   "cell_type": "code",
   "execution_count": 222,
   "id": "95f2f149",
   "metadata": {},
   "outputs": [],
   "source": [
    "#define function for classifying Type based on Load as 1,2,3\n",
    "def type_new(row):\n",
    "    if row['Type'] == 'L':\n",
    "        val = '1'\n",
    "    elif row['Type'] == 'M':\n",
    "        val = '2'\n",
    "    else:\n",
    "        val = '3'\n",
    "    return val"
   ]
  },
  {
   "cell_type": "code",
   "execution_count": 223,
   "id": "8c7bfc9e",
   "metadata": {},
   "outputs": [
    {
     "data": {
      "text/html": [
       "<div>\n",
       "<style scoped>\n",
       "    .dataframe tbody tr th:only-of-type {\n",
       "        vertical-align: middle;\n",
       "    }\n",
       "\n",
       "    .dataframe tbody tr th {\n",
       "        vertical-align: top;\n",
       "    }\n",
       "\n",
       "    .dataframe thead th {\n",
       "        text-align: right;\n",
       "    }\n",
       "</style>\n",
       "<table border=\"1\" class=\"dataframe\">\n",
       "  <thead>\n",
       "    <tr style=\"text-align: right;\">\n",
       "      <th></th>\n",
       "      <th>Product ID</th>\n",
       "      <th>Type</th>\n",
       "      <th>Air temperature [K]</th>\n",
       "      <th>Process temperature [K]</th>\n",
       "      <th>Rotational speed [rpm]</th>\n",
       "      <th>Torque [Nm]</th>\n",
       "      <th>Tool wear [min]</th>\n",
       "      <th>Machine failure</th>\n",
       "      <th>TWF</th>\n",
       "      <th>HDF</th>\n",
       "      <th>PWF</th>\n",
       "      <th>OSF</th>\n",
       "      <th>RNF</th>\n",
       "      <th>Type_Num</th>\n",
       "    </tr>\n",
       "    <tr>\n",
       "      <th>UDI</th>\n",
       "      <th></th>\n",
       "      <th></th>\n",
       "      <th></th>\n",
       "      <th></th>\n",
       "      <th></th>\n",
       "      <th></th>\n",
       "      <th></th>\n",
       "      <th></th>\n",
       "      <th></th>\n",
       "      <th></th>\n",
       "      <th></th>\n",
       "      <th></th>\n",
       "      <th></th>\n",
       "      <th></th>\n",
       "    </tr>\n",
       "  </thead>\n",
       "  <tbody>\n",
       "    <tr>\n",
       "      <th>1276</th>\n",
       "      <td>M16135</td>\n",
       "      <td>M</td>\n",
       "      <td>298.1</td>\n",
       "      <td>309.4</td>\n",
       "      <td>1362</td>\n",
       "      <td>47.6</td>\n",
       "      <td>70</td>\n",
       "      <td>0</td>\n",
       "      <td>0</td>\n",
       "      <td>0</td>\n",
       "      <td>0</td>\n",
       "      <td>0</td>\n",
       "      <td>0</td>\n",
       "      <td>2</td>\n",
       "    </tr>\n",
       "    <tr>\n",
       "      <th>9931</th>\n",
       "      <td>L57110</td>\n",
       "      <td>L</td>\n",
       "      <td>298.3</td>\n",
       "      <td>308.3</td>\n",
       "      <td>1452</td>\n",
       "      <td>45.5</td>\n",
       "      <td>63</td>\n",
       "      <td>0</td>\n",
       "      <td>0</td>\n",
       "      <td>0</td>\n",
       "      <td>0</td>\n",
       "      <td>0</td>\n",
       "      <td>0</td>\n",
       "      <td>1</td>\n",
       "    </tr>\n",
       "    <tr>\n",
       "      <th>5403</th>\n",
       "      <td>L52582</td>\n",
       "      <td>L</td>\n",
       "      <td>302.7</td>\n",
       "      <td>312.3</td>\n",
       "      <td>1421</td>\n",
       "      <td>48.5</td>\n",
       "      <td>0</td>\n",
       "      <td>0</td>\n",
       "      <td>0</td>\n",
       "      <td>0</td>\n",
       "      <td>0</td>\n",
       "      <td>0</td>\n",
       "      <td>0</td>\n",
       "      <td>1</td>\n",
       "    </tr>\n",
       "    <tr>\n",
       "      <th>9437</th>\n",
       "      <td>L56616</td>\n",
       "      <td>L</td>\n",
       "      <td>298.0</td>\n",
       "      <td>308.6</td>\n",
       "      <td>1481</td>\n",
       "      <td>42.5</td>\n",
       "      <td>54</td>\n",
       "      <td>0</td>\n",
       "      <td>0</td>\n",
       "      <td>0</td>\n",
       "      <td>0</td>\n",
       "      <td>0</td>\n",
       "      <td>0</td>\n",
       "      <td>1</td>\n",
       "    </tr>\n",
       "    <tr>\n",
       "      <th>564</th>\n",
       "      <td>L47743</td>\n",
       "      <td>L</td>\n",
       "      <td>297.7</td>\n",
       "      <td>309.6</td>\n",
       "      <td>1529</td>\n",
       "      <td>35.2</td>\n",
       "      <td>153</td>\n",
       "      <td>0</td>\n",
       "      <td>0</td>\n",
       "      <td>0</td>\n",
       "      <td>0</td>\n",
       "      <td>0</td>\n",
       "      <td>0</td>\n",
       "      <td>1</td>\n",
       "    </tr>\n",
       "  </tbody>\n",
       "</table>\n",
       "</div>"
      ],
      "text/plain": [
       "     Product ID Type  Air temperature [K]  Process temperature [K]  \\\n",
       "UDI                                                                  \n",
       "1276     M16135    M                298.1                    309.4   \n",
       "9931     L57110    L                298.3                    308.3   \n",
       "5403     L52582    L                302.7                    312.3   \n",
       "9437     L56616    L                298.0                    308.6   \n",
       "564      L47743    L                297.7                    309.6   \n",
       "\n",
       "      Rotational speed [rpm]  Torque [Nm]  Tool wear [min]  Machine failure  \\\n",
       "UDI                                                                           \n",
       "1276                    1362         47.6               70                0   \n",
       "9931                    1452         45.5               63                0   \n",
       "5403                    1421         48.5                0                0   \n",
       "9437                    1481         42.5               54                0   \n",
       "564                     1529         35.2              153                0   \n",
       "\n",
       "      TWF  HDF  PWF  OSF  RNF Type_Num  \n",
       "UDI                                     \n",
       "1276    0    0    0    0    0        2  \n",
       "9931    0    0    0    0    0        1  \n",
       "5403    0    0    0    0    0        1  \n",
       "9437    0    0    0    0    0        1  \n",
       "564     0    0    0    0    0        1  "
      ]
     },
     "execution_count": 223,
     "metadata": {},
     "output_type": "execute_result"
    }
   ],
   "source": [
    "# Training dataset\n",
    "#create new column 'Type_Num' using the function above for numerical load type\n",
    "data_train['Type_Num'] = data_train.apply(type_new, axis=1)\n",
    "data_train.head()"
   ]
  },
  {
   "cell_type": "code",
   "execution_count": 224,
   "id": "2b7d8fe0",
   "metadata": {},
   "outputs": [
    {
     "data": {
      "text/html": [
       "<div>\n",
       "<style scoped>\n",
       "    .dataframe tbody tr th:only-of-type {\n",
       "        vertical-align: middle;\n",
       "    }\n",
       "\n",
       "    .dataframe tbody tr th {\n",
       "        vertical-align: top;\n",
       "    }\n",
       "\n",
       "    .dataframe thead th {\n",
       "        text-align: right;\n",
       "    }\n",
       "</style>\n",
       "<table border=\"1\" class=\"dataframe\">\n",
       "  <thead>\n",
       "    <tr style=\"text-align: right;\">\n",
       "      <th></th>\n",
       "      <th>Product ID</th>\n",
       "      <th>Type</th>\n",
       "      <th>Air temperature [K]</th>\n",
       "      <th>Process temperature [K]</th>\n",
       "      <th>Rotational speed [rpm]</th>\n",
       "      <th>Torque [Nm]</th>\n",
       "      <th>Tool wear [min]</th>\n",
       "      <th>Machine failure</th>\n",
       "      <th>TWF</th>\n",
       "      <th>HDF</th>\n",
       "      <th>PWF</th>\n",
       "      <th>OSF</th>\n",
       "      <th>RNF</th>\n",
       "      <th>Type_Num</th>\n",
       "    </tr>\n",
       "    <tr>\n",
       "      <th>UDI</th>\n",
       "      <th></th>\n",
       "      <th></th>\n",
       "      <th></th>\n",
       "      <th></th>\n",
       "      <th></th>\n",
       "      <th></th>\n",
       "      <th></th>\n",
       "      <th></th>\n",
       "      <th></th>\n",
       "      <th></th>\n",
       "      <th></th>\n",
       "      <th></th>\n",
       "      <th></th>\n",
       "      <th></th>\n",
       "    </tr>\n",
       "  </thead>\n",
       "  <tbody>\n",
       "    <tr>\n",
       "      <th>7600</th>\n",
       "      <td>L54779</td>\n",
       "      <td>L</td>\n",
       "      <td>300.5</td>\n",
       "      <td>311.0</td>\n",
       "      <td>1759</td>\n",
       "      <td>28.3</td>\n",
       "      <td>13</td>\n",
       "      <td>0</td>\n",
       "      <td>0</td>\n",
       "      <td>0</td>\n",
       "      <td>0</td>\n",
       "      <td>0</td>\n",
       "      <td>0</td>\n",
       "      <td>1</td>\n",
       "    </tr>\n",
       "    <tr>\n",
       "      <th>3665</th>\n",
       "      <td>M18524</td>\n",
       "      <td>M</td>\n",
       "      <td>302.3</td>\n",
       "      <td>311.7</td>\n",
       "      <td>1685</td>\n",
       "      <td>30.8</td>\n",
       "      <td>130</td>\n",
       "      <td>0</td>\n",
       "      <td>0</td>\n",
       "      <td>0</td>\n",
       "      <td>0</td>\n",
       "      <td>0</td>\n",
       "      <td>0</td>\n",
       "      <td>2</td>\n",
       "    </tr>\n",
       "    <tr>\n",
       "      <th>6718</th>\n",
       "      <td>M21577</td>\n",
       "      <td>M</td>\n",
       "      <td>301.4</td>\n",
       "      <td>310.6</td>\n",
       "      <td>1464</td>\n",
       "      <td>48.6</td>\n",
       "      <td>96</td>\n",
       "      <td>0</td>\n",
       "      <td>0</td>\n",
       "      <td>0</td>\n",
       "      <td>0</td>\n",
       "      <td>0</td>\n",
       "      <td>0</td>\n",
       "      <td>2</td>\n",
       "    </tr>\n",
       "    <tr>\n",
       "      <th>1077</th>\n",
       "      <td>L48256</td>\n",
       "      <td>L</td>\n",
       "      <td>296.9</td>\n",
       "      <td>307.7</td>\n",
       "      <td>1653</td>\n",
       "      <td>35.9</td>\n",
       "      <td>177</td>\n",
       "      <td>0</td>\n",
       "      <td>0</td>\n",
       "      <td>0</td>\n",
       "      <td>0</td>\n",
       "      <td>0</td>\n",
       "      <td>0</td>\n",
       "      <td>1</td>\n",
       "    </tr>\n",
       "    <tr>\n",
       "      <th>3130</th>\n",
       "      <td>L50309</td>\n",
       "      <td>L</td>\n",
       "      <td>300.1</td>\n",
       "      <td>309.6</td>\n",
       "      <td>1642</td>\n",
       "      <td>34.5</td>\n",
       "      <td>53</td>\n",
       "      <td>0</td>\n",
       "      <td>0</td>\n",
       "      <td>0</td>\n",
       "      <td>0</td>\n",
       "      <td>0</td>\n",
       "      <td>0</td>\n",
       "      <td>1</td>\n",
       "    </tr>\n",
       "  </tbody>\n",
       "</table>\n",
       "</div>"
      ],
      "text/plain": [
       "     Product ID Type  Air temperature [K]  Process temperature [K]  \\\n",
       "UDI                                                                  \n",
       "7600     L54779    L                300.5                    311.0   \n",
       "3665     M18524    M                302.3                    311.7   \n",
       "6718     M21577    M                301.4                    310.6   \n",
       "1077     L48256    L                296.9                    307.7   \n",
       "3130     L50309    L                300.1                    309.6   \n",
       "\n",
       "      Rotational speed [rpm]  Torque [Nm]  Tool wear [min]  Machine failure  \\\n",
       "UDI                                                                           \n",
       "7600                    1759         28.3               13                0   \n",
       "3665                    1685         30.8              130                0   \n",
       "6718                    1464         48.6               96                0   \n",
       "1077                    1653         35.9              177                0   \n",
       "3130                    1642         34.5               53                0   \n",
       "\n",
       "      TWF  HDF  PWF  OSF  RNF Type_Num  \n",
       "UDI                                     \n",
       "7600    0    0    0    0    0        1  \n",
       "3665    0    0    0    0    0        2  \n",
       "6718    0    0    0    0    0        2  \n",
       "1077    0    0    0    0    0        1  \n",
       "3130    0    0    0    0    0        1  "
      ]
     },
     "execution_count": 224,
     "metadata": {},
     "output_type": "execute_result"
    }
   ],
   "source": [
    "#Testing dataset\n",
    "data_test = pd.read_csv('../data_preparation/subset_test_expanded.csv', index_col=0)\n",
    "data_test['Type_Num'] = data_test.apply(type_new, axis=1)\n",
    "data_test.head()"
   ]
  },
  {
   "cell_type": "code",
   "execution_count": 225,
   "id": "8397feb4",
   "metadata": {},
   "outputs": [
    {
     "data": {
      "text/html": [
       "<div>\n",
       "<style scoped>\n",
       "    .dataframe tbody tr th:only-of-type {\n",
       "        vertical-align: middle;\n",
       "    }\n",
       "\n",
       "    .dataframe tbody tr th {\n",
       "        vertical-align: top;\n",
       "    }\n",
       "\n",
       "    .dataframe thead th {\n",
       "        text-align: right;\n",
       "    }\n",
       "</style>\n",
       "<table border=\"1\" class=\"dataframe\">\n",
       "  <thead>\n",
       "    <tr style=\"text-align: right;\">\n",
       "      <th></th>\n",
       "      <th>Product ID</th>\n",
       "      <th>Type</th>\n",
       "      <th>Air temperature [K]</th>\n",
       "      <th>Process temperature [K]</th>\n",
       "      <th>Rotational speed [rpm]</th>\n",
       "      <th>Torque [Nm]</th>\n",
       "      <th>Tool wear [min]</th>\n",
       "      <th>Machine failure</th>\n",
       "      <th>TWF</th>\n",
       "      <th>HDF</th>\n",
       "      <th>PWF</th>\n",
       "      <th>OSF</th>\n",
       "      <th>RNF</th>\n",
       "      <th>Type_Num</th>\n",
       "    </tr>\n",
       "    <tr>\n",
       "      <th>UDI</th>\n",
       "      <th></th>\n",
       "      <th></th>\n",
       "      <th></th>\n",
       "      <th></th>\n",
       "      <th></th>\n",
       "      <th></th>\n",
       "      <th></th>\n",
       "      <th></th>\n",
       "      <th></th>\n",
       "      <th></th>\n",
       "      <th></th>\n",
       "      <th></th>\n",
       "      <th></th>\n",
       "      <th></th>\n",
       "    </tr>\n",
       "  </thead>\n",
       "  <tbody>\n",
       "    <tr>\n",
       "      <th>1071</th>\n",
       "      <td>M15930</td>\n",
       "      <td>M</td>\n",
       "      <td>296.9</td>\n",
       "      <td>307.8</td>\n",
       "      <td>1477</td>\n",
       "      <td>37.2</td>\n",
       "      <td>160</td>\n",
       "      <td>0</td>\n",
       "      <td>0</td>\n",
       "      <td>0</td>\n",
       "      <td>0</td>\n",
       "      <td>0</td>\n",
       "      <td>0</td>\n",
       "      <td>2</td>\n",
       "    </tr>\n",
       "    <tr>\n",
       "      <th>1877</th>\n",
       "      <td>L49056</td>\n",
       "      <td>L</td>\n",
       "      <td>298.3</td>\n",
       "      <td>308.0</td>\n",
       "      <td>1242</td>\n",
       "      <td>62.0</td>\n",
       "      <td>98</td>\n",
       "      <td>0</td>\n",
       "      <td>0</td>\n",
       "      <td>0</td>\n",
       "      <td>0</td>\n",
       "      <td>0</td>\n",
       "      <td>0</td>\n",
       "      <td>1</td>\n",
       "    </tr>\n",
       "    <tr>\n",
       "      <th>2328</th>\n",
       "      <td>M17187</td>\n",
       "      <td>M</td>\n",
       "      <td>299.3</td>\n",
       "      <td>308.7</td>\n",
       "      <td>1420</td>\n",
       "      <td>50.3</td>\n",
       "      <td>208</td>\n",
       "      <td>0</td>\n",
       "      <td>0</td>\n",
       "      <td>0</td>\n",
       "      <td>0</td>\n",
       "      <td>0</td>\n",
       "      <td>0</td>\n",
       "      <td>2</td>\n",
       "    </tr>\n",
       "    <tr>\n",
       "      <th>6863</th>\n",
       "      <td>M21722</td>\n",
       "      <td>M</td>\n",
       "      <td>301.1</td>\n",
       "      <td>311.2</td>\n",
       "      <td>1384</td>\n",
       "      <td>49.4</td>\n",
       "      <td>48</td>\n",
       "      <td>0</td>\n",
       "      <td>0</td>\n",
       "      <td>0</td>\n",
       "      <td>0</td>\n",
       "      <td>0</td>\n",
       "      <td>0</td>\n",
       "      <td>2</td>\n",
       "    </tr>\n",
       "    <tr>\n",
       "      <th>945</th>\n",
       "      <td>M15804</td>\n",
       "      <td>M</td>\n",
       "      <td>295.7</td>\n",
       "      <td>306.3</td>\n",
       "      <td>1712</td>\n",
       "      <td>28.5</td>\n",
       "      <td>43</td>\n",
       "      <td>0</td>\n",
       "      <td>0</td>\n",
       "      <td>0</td>\n",
       "      <td>0</td>\n",
       "      <td>0</td>\n",
       "      <td>0</td>\n",
       "      <td>2</td>\n",
       "    </tr>\n",
       "  </tbody>\n",
       "</table>\n",
       "</div>"
      ],
      "text/plain": [
       "     Product ID Type  Air temperature [K]  Process temperature [K]  \\\n",
       "UDI                                                                  \n",
       "1071     M15930    M                296.9                    307.8   \n",
       "1877     L49056    L                298.3                    308.0   \n",
       "2328     M17187    M                299.3                    308.7   \n",
       "6863     M21722    M                301.1                    311.2   \n",
       "945      M15804    M                295.7                    306.3   \n",
       "\n",
       "      Rotational speed [rpm]  Torque [Nm]  Tool wear [min]  Machine failure  \\\n",
       "UDI                                                                           \n",
       "1071                    1477         37.2              160                0   \n",
       "1877                    1242         62.0               98                0   \n",
       "2328                    1420         50.3              208                0   \n",
       "6863                    1384         49.4               48                0   \n",
       "945                     1712         28.5               43                0   \n",
       "\n",
       "      TWF  HDF  PWF  OSF  RNF Type_Num  \n",
       "UDI                                     \n",
       "1071    0    0    0    0    0        2  \n",
       "1877    0    0    0    0    0        1  \n",
       "2328    0    0    0    0    0        2  \n",
       "6863    0    0    0    0    0        2  \n",
       "945     0    0    0    0    0        2  "
      ]
     },
     "execution_count": 225,
     "metadata": {},
     "output_type": "execute_result"
    }
   ],
   "source": [
    "#Validation dataset\n",
    "data_valid = pd.read_csv('../data_preparation/subset_valid_expanded.csv', index_col=0)\n",
    "data_valid['Type_Num'] = data_valid.apply(type_new, axis=1)\n",
    "data_valid.head()"
   ]
  },
  {
   "cell_type": "code",
   "execution_count": 226,
   "id": "079a6de3",
   "metadata": {},
   "outputs": [],
   "source": [
    "label = ['Air temperature [K]', 'Process temperature [K]', 'Rotational speed [rpm]', \\\n",
    "         'Torque [Nm]', 'Tool wear [min]', 'Type_Num']"
   ]
  },
  {
   "cell_type": "markdown",
   "id": "e5e34595",
   "metadata": {},
   "source": [
    "## 1.  K Neighbor classifier"
   ]
  },
  {
   "cell_type": "code",
   "execution_count": 227,
   "id": "f4708aab",
   "metadata": {},
   "outputs": [
    {
     "name": "stdout",
     "output_type": "stream",
     "text": [
      "Train score : 0.9826916024935827\n",
      "Test score :  0.7480798771121352\n",
      "Validation score :  0.6882684426229508\n"
     ]
    }
   ],
   "source": [
    "X_train = data_train[label]\n",
    "y_train = data_train['Machine failure']\n",
    "\n",
    "# Using optimal 5 Nearest neighbor for model to fit\n",
    "neigh = KNeighborsClassifier(n_neighbors=5)\n",
    "neigh.fit(X_train, y_train)\n",
    "\n",
    "print('Train score :',neigh.score(X_train, y_train))\n",
    "print('Test score : ',neigh.score(data_test[label], data_test['Machine failure']))\n",
    "print('Validation score : ',neigh.score(data_valid[label], data_valid['Machine failure']))"
   ]
  },
  {
   "cell_type": "code",
   "execution_count": 228,
   "id": "4f20176c",
   "metadata": {},
   "outputs": [
    {
     "name": "stdout",
     "output_type": "stream",
     "text": [
      "                  precision    recall  f1-score   support\n",
      "\n",
      "Normal operation       0.68      0.94      0.79       967\n",
      "         Failure       0.91      0.56      0.69       986\n",
      "\n",
      "        accuracy                           0.75      1953\n",
      "       macro avg       0.79      0.75      0.74      1953\n",
      "    weighted avg       0.79      0.75      0.74      1953\n",
      "\n"
     ]
    }
   ],
   "source": [
    "# Classification report for testing datacase\n",
    "print(classification_report(data_test['Machine failure'], neigh.predict(data_test[label]),\\\n",
    "                            target_names=['Normal operation', \"Failure\"]))"
   ]
  },
  {
   "cell_type": "code",
   "execution_count": 229,
   "id": "79de31ed",
   "metadata": {},
   "outputs": [
    {
     "data": {
      "text/plain": [
       "<sklearn.metrics._plot.confusion_matrix.ConfusionMatrixDisplay at 0x1c594a219d0>"
      ]
     },
     "execution_count": 229,
     "metadata": {},
     "output_type": "execute_result"
    },
    {
     "data": {
      "image/png": "[encoded data removed]",
      "text/plain": [
       "<Figure size 432x288 with 2 Axes>"
      ]
     },
     "metadata": {
      "needs_background": "light"
     },
     "output_type": "display_data"
    }
   ],
   "source": [
    "cm_val = confusion_matrix(data_train['Machine failure'], neigh.predict(data_train[label]))\n",
    "disp = ConfusionMatrixDisplay(confusion_matrix=cm_val)\n",
    "disp.plot()"
   ]
  },
  {
   "cell_type": "code",
   "execution_count": 230,
   "id": "7048c4ff",
   "metadata": {},
   "outputs": [
    {
     "data": {
      "text/plain": [
       "<sklearn.metrics._plot.confusion_matrix.ConfusionMatrixDisplay at 0x1c594b9c400>"
      ]
     },
     "execution_count": 230,
     "metadata": {},
     "output_type": "execute_result"
    },
    {
     "data": {
      "image/png": "[encoded data removed]",
      "text/plain": [
       "<Figure size 432x288 with 2 Axes>"
      ]
     },
     "metadata": {
      "needs_background": "light"
     },
     "output_type": "display_data"
    }
   ],
   "source": [
    "cm_val = confusion_matrix(data_test['Machine failure'], neigh.predict(data_test[label]))\n",
    "disp = ConfusionMatrixDisplay(confusion_matrix=cm_val)\n",
    "disp.plot()"
   ]
  },
  {
   "cell_type": "code",
   "execution_count": 231,
   "id": "f44c8997",
   "metadata": {},
   "outputs": [
    {
     "data": {
      "text/plain": [
       "<sklearn.metrics._plot.confusion_matrix.ConfusionMatrixDisplay at 0x1c594bc3040>"
      ]
     },
     "execution_count": 231,
     "metadata": {},
     "output_type": "execute_result"
    },
    {
     "data": {
      "image/png": "[encoded data removed]",
      "text/plain": [
       "<Figure size 432x288 with 2 Axes>"
      ]
     },
     "metadata": {
      "needs_background": "light"
     },
     "output_type": "display_data"
    }
   ],
   "source": [
    "cm_val = confusion_matrix(data_valid['Machine failure'], neigh.predict(data_valid[label]))\n",
    "disp = ConfusionMatrixDisplay(confusion_matrix=cm_val)\n",
    "disp.plot()"
   ]
  },
  {
   "cell_type": "markdown",
   "id": "ff28dc70",
   "metadata": {},
   "source": [
    "## 2. Decision tree model"
   ]
  },
  {
   "cell_type": "code",
   "execution_count": 232,
   "id": "3f5f2ba0",
   "metadata": {},
   "outputs": [],
   "source": [
    "# Tree model without tuning any hyper parameter\n",
    "clf = tree.DecisionTreeClassifier(random_state=0, max_features=None)\n",
    "clf = clf.fit(X_train, y_train)\n",
    "y_train_pred = clf.predict(data_train[label])\n",
    "\n",
    "y_test = clf.predict(data_test[label])\n",
    "\n",
    "y_valid = clf.predict(data_valid[label])"
   ]
  },
  {
   "cell_type": "code",
   "execution_count": 233,
   "id": "fc7e0f0a",
   "metadata": {},
   "outputs": [
    {
     "data": {
      "text/plain": [
       "Text(0.5, 1.0, 'Feature Imporatnce ')"
      ]
     },
     "execution_count": 233,
     "metadata": {},
     "output_type": "execute_result"
    },
    {
     "data": {
      "image/png": "[encoded data removed]",
      "text/plain": [
       "<Figure size 1080x288 with 1 Axes>"
      ]
     },
     "metadata": {
      "needs_background": "light"
     },
     "output_type": "display_data"
    }
   ],
   "source": [
    "imp = np.vstack((label, clf.feature_importances_))\n",
    "fig = plt.figure(figsize =(15, 4))\n",
    "plt.bar(label, clf.feature_importances_)\n",
    "plt.title('Feature Imporatnce ')"
   ]
  },
  {
   "cell_type": "code",
   "execution_count": 234,
   "id": "51c18025",
   "metadata": {},
   "outputs": [
    {
     "name": "stdout",
     "output_type": "stream",
     "text": [
      "Train score : 1.0\n",
      "Test score :  0.7572964669738863\n",
      "Validation score :  0.7871413934426229\n"
     ]
    }
   ],
   "source": [
    "print('Train score :',clf.score(X_train, y_train))\n",
    "print('Test score : ',clf.score(data_test[label], data_test['Machine failure']))\n",
    "print('Validation score : ',clf.score(data_valid[label], data_valid['Machine failure']))"
   ]
  },
  {
   "cell_type": "code",
   "execution_count": 235,
   "id": "3c9144f6",
   "metadata": {},
   "outputs": [
    {
     "data": {
      "text/plain": [
       "<sklearn.metrics._plot.confusion_matrix.ConfusionMatrixDisplay at 0x1c593835fa0>"
      ]
     },
     "execution_count": 235,
     "metadata": {},
     "output_type": "execute_result"
    },
    {
     "data": {
      "image/png": "[encoded data removed]",
      "text/plain": [
       "<Figure size 432x288 with 2 Axes>"
      ]
     },
     "metadata": {
      "needs_background": "light"
     },
     "output_type": "display_data"
    }
   ],
   "source": [
    "cm_val = confusion_matrix(data_train['Machine failure'], y_train_pred)\n",
    "disp = ConfusionMatrixDisplay(confusion_matrix=cm_val)\n",
    "disp.plot()"
   ]
  },
  {
   "cell_type": "code",
   "execution_count": 236,
   "id": "df801100",
   "metadata": {},
   "outputs": [
    {
     "name": "stdout",
     "output_type": "stream",
     "text": [
      "              precision    recall  f1-score   support\n",
      "\n",
      "           0       1.00      1.00      1.00      6762\n",
      "           1       1.00      1.00      1.00      6873\n",
      "\n",
      "    accuracy                           1.00     13635\n",
      "   macro avg       1.00      1.00      1.00     13635\n",
      "weighted avg       1.00      1.00      1.00     13635\n",
      "\n"
     ]
    }
   ],
   "source": [
    "# Classification report on training data\n",
    "print(classification_report(data_train['Machine failure'], y_train_pred))"
   ]
  },
  {
   "cell_type": "code",
   "execution_count": 237,
   "id": "ce74e9f6",
   "metadata": {},
   "outputs": [
    {
     "data": {
      "text/plain": [
       "<sklearn.metrics._plot.confusion_matrix.ConfusionMatrixDisplay at 0x1c594de2fa0>"
      ]
     },
     "execution_count": 237,
     "metadata": {},
     "output_type": "execute_result"
    },
    {
     "data": {
      "image/png": "[encoded data removed]",
      "text/plain": [
       "<Figure size 432x288 with 2 Axes>"
      ]
     },
     "metadata": {
      "needs_background": "light"
     },
     "output_type": "display_data"
    }
   ],
   "source": [
    "cm_val = confusion_matrix(data_test['Machine failure'], y_test)\n",
    "disp = ConfusionMatrixDisplay(confusion_matrix=cm_val)\n",
    "disp.plot()"
   ]
  },
  {
   "cell_type": "code",
   "execution_count": 238,
   "id": "6a06b235",
   "metadata": {},
   "outputs": [
    {
     "name": "stdout",
     "output_type": "stream",
     "text": [
      "              precision    recall  f1-score   support\n",
      "\n",
      "           0       0.67      0.99      0.80       967\n",
      "           1       0.98      0.53      0.69       986\n",
      "\n",
      "    accuracy                           0.76      1953\n",
      "   macro avg       0.83      0.76      0.74      1953\n",
      "weighted avg       0.83      0.76      0.74      1953\n",
      "\n"
     ]
    }
   ],
   "source": [
    "# Classification report on testing data\n",
    "print(classification_report(data_test['Machine failure'], y_test))"
   ]
  },
  {
   "cell_type": "code",
   "execution_count": 239,
   "id": "5562a141",
   "metadata": {},
   "outputs": [
    {
     "data": {
      "text/plain": [
       "<sklearn.metrics._plot.confusion_matrix.ConfusionMatrixDisplay at 0x1c594a86880>"
      ]
     },
     "execution_count": 239,
     "metadata": {},
     "output_type": "execute_result"
    },
    {
     "data": {
      "image/png": "[encoded data removed]",
      "text/plain": [
       "<Figure size 432x288 with 2 Axes>"
      ]
     },
     "metadata": {
      "needs_background": "light"
     },
     "output_type": "display_data"
    }
   ],
   "source": [
    "cm_val=confusion_matrix(data_valid['Machine failure'], y_valid)\n",
    "disp = ConfusionMatrixDisplay(confusion_matrix=cm_val)\n",
    "disp.plot()"
   ]
  },
  {
   "cell_type": "code",
   "execution_count": 240,
   "id": "446d1326",
   "metadata": {},
   "outputs": [
    {
     "name": "stdout",
     "output_type": "stream",
     "text": [
      "              precision    recall  f1-score   support\n",
      "\n",
      "           0       0.70      0.99      0.82      1932\n",
      "           1       0.98      0.59      0.74      1972\n",
      "\n",
      "    accuracy                           0.79      3904\n",
      "   macro avg       0.84      0.79      0.78      3904\n",
      "weighted avg       0.84      0.79      0.78      3904\n",
      "\n"
     ]
    }
   ],
   "source": [
    "# Classification report on validation data\n",
    "print(classification_report(data_valid['Machine failure'], y_valid))"
   ]
  },
  {
   "cell_type": "code",
   "execution_count": 241,
   "id": "963ff923",
   "metadata": {},
   "outputs": [
    {
     "name": "stdout",
     "output_type": "stream",
     "text": [
      "Depth of overfitted decision tree : 19\n"
     ]
    }
   ],
   "source": [
    "# Depth of overfitted model\n",
    "print('Depth of overfitted decision tree :',clf.get_depth())"
   ]
  },
  {
   "cell_type": "markdown",
   "id": "ac7b1ee3",
   "metadata": {},
   "source": [
    "# 2.1 Post pruning of overfitted model"
   ]
  },
  {
   "cell_type": "code",
   "execution_count": 242,
   "id": "3249c227",
   "metadata": {},
   "outputs": [],
   "source": [
    "#Post pruning\n",
    "path = clf.cost_complexity_pruning_path(X_train, y_train)\n",
    "ccp_alphas, impurities = path.ccp_alphas, path.impurities"
   ]
  },
  {
   "cell_type": "code",
   "execution_count": 243,
   "id": "c6bfd645",
   "metadata": {},
   "outputs": [
    {
     "data": {
      "text/plain": [
       "Text(0.5, 1.0, 'Total Impurity vs effective alpha for training set')"
      ]
     },
     "execution_count": 243,
     "metadata": {},
     "output_type": "execute_result"
    },
    {
     "data": {
      "image/png": "[encoded data removed]",
      "text/plain": [
       "<Figure size 432x288 with 1 Axes>"
      ]
     },
     "metadata": {
      "needs_background": "light"
     },
     "output_type": "display_data"
    }
   ],
   "source": [
    "fig, ax = plt.subplots()\n",
    "ax.plot(ccp_alphas[:-1], impurities[:-1], marker=\"o\", drawstyle=\"steps-post\")\n",
    "ax.set_xlabel(\"effective alpha\")\n",
    "ax.set_ylabel(\"total impurity of leaves\")\n",
    "ax.set_title(\"Total Impurity vs effective alpha for training set\")"
   ]
  },
  {
   "cell_type": "code",
   "execution_count": 244,
   "id": "50940dae",
   "metadata": {},
   "outputs": [
    {
     "name": "stdout",
     "output_type": "stream",
     "text": [
      "Number of nodes in the last tree is: 1 with ccp_alpha: 0.16129184201175412\n"
     ]
    }
   ],
   "source": [
    "clfs = []\n",
    "for ccp_alpha in ccp_alphas:\n",
    "    clf = tree.DecisionTreeClassifier(random_state=0, ccp_alpha=ccp_alpha)\n",
    "    clf.fit(X_train, y_train)\n",
    "    clfs.append(clf)\n",
    "print(\n",
    "    \"Number of nodes in the last tree is: {} with ccp_alpha: {}\".format(\n",
    "        clfs[-1].tree_.node_count, ccp_alphas[-1]\n",
    "    )\n",
    ")"
   ]
  },
  {
   "cell_type": "code",
   "execution_count": 245,
   "id": "50478c81",
   "metadata": {},
   "outputs": [
    {
     "data": {
      "image/png": "[encoded data removed]",
      "text/plain": [
       "<Figure size 432x288 with 2 Axes>"
      ]
     },
     "metadata": {
      "needs_background": "light"
     },
     "output_type": "display_data"
    }
   ],
   "source": [
    "clfs = clfs[:-1]\n",
    "ccp_alphas = ccp_alphas[:-1]\n",
    "\n",
    "node_counts = [clf.tree_.node_count for clf in clfs]\n",
    "depth = [clf.tree_.max_depth for clf in clfs]\n",
    "fig, ax = plt.subplots(2, 1)\n",
    "ax[0].plot(ccp_alphas, node_counts, marker=\"o\", drawstyle=\"steps-post\")\n",
    "ax[0].set_xlabel(\"alpha\")\n",
    "ax[0].set_ylabel(\"number of nodes\")\n",
    "ax[0].set_title(\"Number of nodes vs alpha\")\n",
    "ax[1].plot(ccp_alphas, depth, marker=\"o\", drawstyle=\"steps-post\")\n",
    "ax[1].set_xlabel(\"alpha\")\n",
    "ax[1].set_ylabel(\"depth of tree\")\n",
    "ax[1].set_title(\"Depth vs alpha\")\n",
    "fig.tight_layout()"
   ]
  },
  {
   "cell_type": "code",
   "execution_count": 246,
   "id": "13be196e",
   "metadata": {},
   "outputs": [
    {
     "data": {
      "image/png": "[encoded data removed]",
      "text/plain": [
       "<Figure size 432x288 with 1 Axes>"
      ]
     },
     "metadata": {
      "needs_background": "light"
     },
     "output_type": "display_data"
    }
   ],
   "source": [
    "train_scores = [clf.score(X_train, y_train) for clf in clfs]\n",
    "test_scores = [clf.score(data_test[label], data_test['Machine failure']) for clf in clfs]\n",
    "\n",
    "fig, ax = plt.subplots()\n",
    "ax.set_xlabel(\"alpha\")\n",
    "ax.set_ylabel(\"accuracy\")\n",
    "ax.set_title(\"Accuracy vs alpha for training and testing sets\")\n",
    "ax.plot(ccp_alphas, train_scores, marker=\"o\", label=\"train\", drawstyle=\"steps-post\")\n",
    "ax.plot(ccp_alphas, test_scores, marker=\"o\", label=\"test\", drawstyle=\"steps-post\")\n",
    "ax.legend()\n",
    "plt.show()"
   ]
  },
  {
   "cell_type": "markdown",
   "id": "f1f4aca1",
   "metadata": {},
   "source": [
    "https://towardsdatascience.com/pre-pruning-or-post-pruning-1dbc8be5cb14"
   ]
  },
  {
   "cell_type": "markdown",
   "id": "f2e3cc5f",
   "metadata": {},
   "source": [
    "# 2.2 Taking CCP_Alpha =0.01 reduces Max Tree Depth to 5 from 19 , and increses testing accuracy to 91% from 75%"
   ]
  },
  {
   "cell_type": "code",
   "execution_count": 247,
   "id": "b73fab2c",
   "metadata": {},
   "outputs": [],
   "source": [
    "clf_p = tree.DecisionTreeClassifier(criterion='gini', splitter='best', max_depth=None, \n",
    "                                  min_samples_split=2, min_samples_leaf=1, min_weight_fraction_leaf=0.0, \n",
    "                                  max_features=None, random_state=None, max_leaf_nodes=None, \n",
    "                                    min_impurity_decrease=0.0, \n",
    "                                  class_weight=None, ccp_alpha=0.01)\n",
    "clf_p = clf_p.fit(X_train, y_train)\n",
    "\n",
    "y_test = clf_p.predict(data_test[label])\n",
    "\n",
    "y_valid = clf_p.predict(data_valid[label])"
   ]
  },
  {
   "cell_type": "code",
   "execution_count": 248,
   "id": "61d93b99",
   "metadata": {},
   "outputs": [
    {
     "name": "stdout",
     "output_type": "stream",
     "text": [
      "Train score : 0.944041070773744\n",
      "Test score :  0.9180747567844342\n",
      "Validation score :  0.923155737704918\n"
     ]
    }
   ],
   "source": [
    "print('Train score :',clf_p.score(X_train, y_train))\n",
    "print('Test score : ',clf_p.score(data_test[label], data_test['Machine failure']))\n",
    "print('Validation score : ',clf_p.score(data_valid[label], data_valid['Machine failure']))"
   ]
  },
  {
   "cell_type": "code",
   "execution_count": 249,
   "id": "e8c765df",
   "metadata": {},
   "outputs": [
    {
     "name": "stdout",
     "output_type": "stream",
     "text": [
      "              precision    recall  f1-score   support\n",
      "\n",
      "           0       0.94      0.89      0.92       967\n",
      "           1       0.90      0.94      0.92       986\n",
      "\n",
      "    accuracy                           0.92      1953\n",
      "   macro avg       0.92      0.92      0.92      1953\n",
      "weighted avg       0.92      0.92      0.92      1953\n",
      "\n"
     ]
    }
   ],
   "source": [
    "print(classification_report(data_test['Machine failure'], y_test))"
   ]
  },
  {
   "cell_type": "code",
   "execution_count": 250,
   "id": "8265bd76",
   "metadata": {},
   "outputs": [
    {
     "name": "stdout",
     "output_type": "stream",
     "text": [
      "              precision    recall  f1-score   support\n",
      "\n",
      "           0       0.94      0.89      0.92       967\n",
      "           1       0.90      0.94      0.92       986\n",
      "\n",
      "    accuracy                           0.92      1953\n",
      "   macro avg       0.92      0.92      0.92      1953\n",
      "weighted avg       0.92      0.92      0.92      1953\n",
      "\n"
     ]
    }
   ],
   "source": [
    "print(classification_report(data_test['Machine failure'], y_test))"
   ]
  },
  {
   "cell_type": "code",
   "execution_count": 251,
   "id": "edcb3166",
   "metadata": {},
   "outputs": [
    {
     "data": {
      "text/plain": [
       "<sklearn.metrics._plot.confusion_matrix.ConfusionMatrixDisplay at 0x1c595001f70>"
      ]
     },
     "execution_count": 251,
     "metadata": {},
     "output_type": "execute_result"
    },
    {
     "data": {
      "image/png": "[encoded data removed]",
      "text/plain": [
       "<Figure size 432x288 with 2 Axes>"
      ]
     },
     "metadata": {
      "needs_background": "light"
     },
     "output_type": "display_data"
    }
   ],
   "source": [
    "cm_val=confusion_matrix(data_test['Machine failure'], y_test)\n",
    "disp = ConfusionMatrixDisplay(confusion_matrix=cm_val)\n",
    "disp.plot()"
   ]
  },
  {
   "cell_type": "code",
   "execution_count": 252,
   "id": "e9f8bcb6",
   "metadata": {},
   "outputs": [
    {
     "data": {
      "text/plain": [
       "<sklearn.metrics._plot.confusion_matrix.ConfusionMatrixDisplay at 0x1c59508e970>"
      ]
     },
     "execution_count": 252,
     "metadata": {},
     "output_type": "execute_result"
    },
    {
     "data": {
      "image/png": "[encoded data removed]",
      "text/plain": [
       "<Figure size 432x288 with 2 Axes>"
      ]
     },
     "metadata": {
      "needs_background": "light"
     },
     "output_type": "display_data"
    }
   ],
   "source": [
    "cm_val=confusion_matrix(data_valid['Machine failure'], y_valid)\n",
    "disp = ConfusionMatrixDisplay(confusion_matrix=cm_val)\n",
    "disp.plot()"
   ]
  },
  {
   "cell_type": "code",
   "execution_count": 253,
   "id": "199b0806",
   "metadata": {
    "scrolled": false
   },
   "outputs": [
    {
     "data": {
      "text/plain": [
       "[Text(193.15384615384616, 199.32, 'X[2] <= 1386.5\\ngini = 0.5\\nsamples = 13635\\nvalue = [6762, 6873]'),\n",
       " Text(128.76923076923077, 163.07999999999998, 'X[0] <= 301.55\\ngini = 0.267\\nsamples = 5651\\nvalue = [895, 4756]'),\n",
       " Text(103.01538461538462, 126.83999999999999, 'X[3] <= 52.45\\ngini = 0.42\\nsamples = 2485\\nvalue = [745, 1740]'),\n",
       " Text(51.50769230769231, 90.6, 'X[4] <= 202.5\\ngini = 0.39\\nsamples = 547\\nvalue = [402, 145]'),\n",
       " Text(25.753846153846155, 54.359999999999985, 'gini = 0.0\\nsamples = 374\\nvalue = [374, 0]'),\n",
       " Text(77.26153846153846, 54.359999999999985, 'gini = 0.271\\nsamples = 173\\nvalue = [28, 145]'),\n",
       " Text(154.52307692307693, 90.6, 'X[3] <= 60.65\\ngini = 0.291\\nsamples = 1938\\nvalue = [343, 1595]'),\n",
       " Text(128.76923076923077, 54.359999999999985, 'X[4] <= 188.5\\ngini = 0.456\\nsamples = 806\\nvalue = [284, 522]'),\n",
       " Text(103.01538461538462, 18.119999999999976, 'gini = 0.0\\nsamples = 268\\nvalue = [268, 0]'),\n",
       " Text(154.52307692307693, 18.119999999999976, 'gini = 0.058\\nsamples = 538\\nvalue = [16, 522]'),\n",
       " Text(180.27692307692308, 54.359999999999985, 'gini = 0.099\\nsamples = 1132\\nvalue = [59, 1073]'),\n",
       " Text(154.52307692307693, 126.83999999999999, 'gini = 0.09\\nsamples = 3166\\nvalue = [150, 3016]'),\n",
       " Text(257.53846153846155, 163.07999999999998, 'X[3] <= 14.75\\ngini = 0.39\\nsamples = 7984\\nvalue = [5867, 2117]'),\n",
       " Text(231.7846153846154, 126.83999999999999, 'gini = 0.035\\nsamples = 679\\nvalue = [12, 667]'),\n",
       " Text(283.2923076923077, 126.83999999999999, 'X[4] <= 204.5\\ngini = 0.318\\nsamples = 7305\\nvalue = [5855, 1450]'),\n",
       " Text(257.53846153846155, 90.6, 'X[3] <= 57.05\\ngini = 0.157\\nsamples = 6080\\nvalue = [5558, 522]'),\n",
       " Text(231.7846153846154, 54.359999999999985, 'gini = 0.059\\nsamples = 5705\\nvalue = [5531, 174]'),\n",
       " Text(283.2923076923077, 54.359999999999985, 'gini = 0.134\\nsamples = 375\\nvalue = [27, 348]'),\n",
       " Text(309.04615384615386, 90.6, 'gini = 0.367\\nsamples = 1225\\nvalue = [297, 928]')]"
      ]
     },
     "execution_count": 253,
     "metadata": {},
     "output_type": "execute_result"
    },
    {
     "data": {
      "image/png": "[encoded data removed]",
      "text/plain": [
       "<Figure size 432x288 with 1 Axes>"
      ]
     },
     "metadata": {
      "needs_background": "light"
     },
     "output_type": "display_data"
    }
   ],
   "source": [
    "tree.plot_tree(clf_p)"
   ]
  },
  {
   "cell_type": "code",
   "execution_count": 254,
   "id": "7ec0d01c",
   "metadata": {},
   "outputs": [],
   "source": [
    "dot_data = tree.export_graphviz(clf_p, out_file=None, feature_names=label, class_names='Machine Failure', filled=True,\\\n",
    "                                rounded=True,  special_characters=True)"
   ]
  },
  {
   "cell_type": "code",
   "execution_count": 255,
   "id": "bb6af6ba",
   "metadata": {},
   "outputs": [],
   "source": [
    "graph = graphviz.Source(dot_data) "
   ]
  },
  {
   "cell_type": "code",
   "execution_count": 256,
   "id": "7cda2471",
   "metadata": {},
   "outputs": [
    {
     "data": {
      "text/plain": [
       "<Figure size 432x288 with 0 Axes>"
      ]
     },
     "metadata": {},
     "output_type": "display_data"
    }
   ],
   "source": [
    "graph\n",
    "graph.render(filename='tree_d3')\n",
    "pylab.savefig('tree_d3.png')"
   ]
  },
  {
   "cell_type": "code",
   "execution_count": 257,
   "id": "05191387",
   "metadata": {},
   "outputs": [
    {
     "data": {
      "text/plain": [
       "5"
      ]
     },
     "execution_count": 257,
     "metadata": {},
     "output_type": "execute_result"
    }
   ],
   "source": [
    "clf_p.get_depth()"
   ]
  },
  {
   "cell_type": "markdown",
   "id": "09e7683c",
   "metadata": {},
   "source": [
    "## 3. Random Forest model"
   ]
  },
  {
   "cell_type": "code",
   "execution_count": 258,
   "id": "01b6fc5c",
   "metadata": {},
   "outputs": [
    {
     "data": {
      "text/plain": [
       "RandomForestClassifier(random_state=0)"
      ]
     },
     "execution_count": 258,
     "metadata": {},
     "output_type": "execute_result"
    }
   ],
   "source": [
    "X_train = data_train[label]\n",
    "y_train = data_train['Machine failure']\n",
    "\n",
    "X_test = data_test[label]\n",
    "y_test = data_test['Machine failure']\n",
    "\n",
    "X_valid = data_valid[label]\n",
    "y_valid = data_valid['Machine failure']\n",
    "\n",
    "clf_rf = RandomForestClassifier(max_depth=None, random_state=0)\n",
    "clf_rf.fit(X_train, y_train)"
   ]
  },
  {
   "cell_type": "code",
   "execution_count": 259,
   "id": "5a619301",
   "metadata": {},
   "outputs": [
    {
     "name": "stdout",
     "output_type": "stream",
     "text": [
      "Train score : 1.0\n",
      "Test score :  0.789042498719918\n",
      "Validation score :  0.7535860655737705\n"
     ]
    }
   ],
   "source": [
    "print('Train score :',clf_rf.score(X_train, y_train))\n",
    "print('Test score : ',clf_rf.score(data_test[label], data_test['Machine failure']))\n",
    "print('Validation score : ',clf_rf.score(data_valid[label], data_valid['Machine failure']))"
   ]
  },
  {
   "cell_type": "markdown",
   "id": "729194d1",
   "metadata": {},
   "source": [
    "### Score of overfitted model"
   ]
  },
  {
   "cell_type": "code",
   "execution_count": 260,
   "id": "5c55d0ce",
   "metadata": {},
   "outputs": [],
   "source": [
    "label = ['Air temperature [K]', 'Process temperature [K]', 'Rotational speed [rpm]', \\\n",
    "         'Torque [Nm]', 'Tool wear [min]', 'Type_Num']"
   ]
  },
  {
   "cell_type": "code",
   "execution_count": 261,
   "id": "371ebb0e",
   "metadata": {},
   "outputs": [
    {
     "data": {
      "text/plain": [
       "Text(0.5, 1.0, 'Feature Imporatnce ')"
      ]
     },
     "execution_count": 261,
     "metadata": {},
     "output_type": "execute_result"
    },
    {
     "data": {
      "image/png": "[encoded data removed]",
      "text/plain": [
       "<Figure size 1080x288 with 1 Axes>"
      ]
     },
     "metadata": {
      "needs_background": "light"
     },
     "output_type": "display_data"
    }
   ],
   "source": [
    "imp = np.vstack((label, clf_rf.feature_importances_))\n",
    "fig = plt.figure(figsize =(15, 4))\n",
    "plt.bar(label, clf_rf.feature_importances_)\n",
    "plt.title('Feature Imporatnce ')"
   ]
  },
  {
   "cell_type": "code",
   "execution_count": 262,
   "id": "5bdf37ac",
   "metadata": {},
   "outputs": [
    {
     "name": "stdout",
     "output_type": "stream",
     "text": [
      "              precision    recall  f1-score   support\n",
      "\n",
      "           0       0.70      0.99      0.82       967\n",
      "           1       0.99      0.59      0.74       986\n",
      "\n",
      "    accuracy                           0.79      1953\n",
      "   macro avg       0.85      0.79      0.78      1953\n",
      "weighted avg       0.85      0.79      0.78      1953\n",
      "\n"
     ]
    }
   ],
   "source": [
    "print(classification_report(data_test['Machine failure'], clf_rf.predict(X_test)))"
   ]
  },
  {
   "cell_type": "code",
   "execution_count": 263,
   "id": "88070196",
   "metadata": {},
   "outputs": [
    {
     "data": {
      "text/plain": [
       "<sklearn.metrics._plot.confusion_matrix.ConfusionMatrixDisplay at 0x1c5951f5520>"
      ]
     },
     "execution_count": 263,
     "metadata": {},
     "output_type": "execute_result"
    },
    {
     "data": {
      "image/png": "[encoded data removed]",
      "text/plain": [
       "<Figure size 432x288 with 2 Axes>"
      ]
     },
     "metadata": {
      "needs_background": "light"
     },
     "output_type": "display_data"
    }
   ],
   "source": [
    "cm_val = confusion_matrix(data_train['Machine failure'], clf_rf.predict(X_train))\n",
    "disp = ConfusionMatrixDisplay(confusion_matrix=cm_val)\n",
    "disp.plot()"
   ]
  },
  {
   "cell_type": "code",
   "execution_count": 264,
   "id": "2e270ace",
   "metadata": {},
   "outputs": [
    {
     "data": {
      "text/plain": [
       "<sklearn.metrics._plot.confusion_matrix.ConfusionMatrixDisplay at 0x1c5952d8fd0>"
      ]
     },
     "execution_count": 264,
     "metadata": {},
     "output_type": "execute_result"
    },
    {
     "data": {
      "image/png": "[encoded data removed]",
      "text/plain": [
       "<Figure size 432x288 with 2 Axes>"
      ]
     },
     "metadata": {
      "needs_background": "light"
     },
     "output_type": "display_data"
    }
   ],
   "source": [
    "cm_val = confusion_matrix(data_test['Machine failure'], clf_rf.predict(X_test))\n",
    "disp = ConfusionMatrixDisplay(confusion_matrix=cm_val)\n",
    "disp.plot()"
   ]
  },
  {
   "cell_type": "code",
   "execution_count": 265,
   "id": "c5717311",
   "metadata": {},
   "outputs": [
    {
     "data": {
      "text/plain": [
       "<sklearn.metrics._plot.confusion_matrix.ConfusionMatrixDisplay at 0x1c595314d30>"
      ]
     },
     "execution_count": 265,
     "metadata": {},
     "output_type": "execute_result"
    },
    {
     "data": {
      "image/png": "[encoded data removed]",
      "text/plain": [
       "<Figure size 432x288 with 2 Axes>"
      ]
     },
     "metadata": {
      "needs_background": "light"
     },
     "output_type": "display_data"
    }
   ],
   "source": [
    "cm_val = confusion_matrix(data_valid['Machine failure'], clf_rf.predict(X_valid))\n",
    "disp = ConfusionMatrixDisplay(confusion_matrix=cm_val)\n",
    "disp.plot()"
   ]
  },
  {
   "cell_type": "markdown",
   "id": "0bc19d07",
   "metadata": {},
   "source": [
    "# 3.1 Taking CCP_Alpha =0.01 increses testing accuracy to 90% from 75%"
   ]
  },
  {
   "cell_type": "code",
   "execution_count": 266,
   "id": "4407abd5",
   "metadata": {},
   "outputs": [
    {
     "data": {
      "text/plain": [
       "RandomForestClassifier(ccp_alpha=0.01, random_state=0)"
      ]
     },
     "execution_count": 266,
     "metadata": {},
     "output_type": "execute_result"
    }
   ],
   "source": [
    "clf_rf = RandomForestClassifier(n_estimators=100,criterion='gini', max_depth=None, min_samples_split=2, \\\n",
    "                                min_samples_leaf=1, min_weight_fraction_leaf=0.0, max_features='auto', \\\n",
    "                                max_leaf_nodes=None, min_impurity_decrease=0.0, bootstrap=True, \\\n",
    "                                oob_score=False, n_jobs=None, random_state=0, verbose=0,\\\n",
    "                                warm_start=False, class_weight=None, ccp_alpha=0.01, max_samples=None)\n",
    "clf_rf.fit(X_train, y_train)"
   ]
  },
  {
   "cell_type": "code",
   "execution_count": 267,
   "id": "2a676d83",
   "metadata": {},
   "outputs": [
    {
     "name": "stdout",
     "output_type": "stream",
     "text": [
      "Train score : 0.929006233956729\n",
      "Test score :  0.8986175115207373\n",
      "Validation score :  0.9111168032786885\n"
     ]
    }
   ],
   "source": [
    "print('Train score :',clf_rf.score(X_train, y_train))\n",
    "print('Test score : ',clf_rf.score(data_test[label], data_test['Machine failure']))\n",
    "print('Validation score : ',clf_rf.score(data_valid[label], data_valid['Machine failure']))"
   ]
  },
  {
   "cell_type": "code",
   "execution_count": 268,
   "id": "a721eb06",
   "metadata": {},
   "outputs": [
    {
     "name": "stdout",
     "output_type": "stream",
     "text": [
      "                  precision    recall  f1-score   support\n",
      "\n",
      "Normal operation       0.93      0.86      0.89       967\n",
      "         Failure       0.87      0.94      0.90       986\n",
      "\n",
      "        accuracy                           0.90      1953\n",
      "       macro avg       0.90      0.90      0.90      1953\n",
      "    weighted avg       0.90      0.90      0.90      1953\n",
      "\n"
     ]
    }
   ],
   "source": [
    "print(classification_report(data_test['Machine failure'], clf_rf.predict(X_test),\n",
    "                            target_names=['Normal operation', \"Failure\"]))"
   ]
  },
  {
   "cell_type": "markdown",
   "id": "897dade7",
   "metadata": {},
   "source": [
    "## 4. Gradient Boosted Tree - XG Boost"
   ]
  },
  {
   "cell_type": "code",
   "execution_count": 269,
   "id": "219901ae",
   "metadata": {},
   "outputs": [],
   "source": [
    "# Setting data import\n",
    "X_train = data_train[label]\n",
    "y_train = data_train['Machine failure']\n",
    "\n",
    "X_test = data_test[label]\n",
    "y_test = data_test['Machine failure']\n",
    "\n",
    "X_valid = data_valid[label]\n",
    "y_valid = data_valid['Machine failure']"
   ]
  },
  {
   "cell_type": "code",
   "execution_count": 270,
   "id": "5c4882ab",
   "metadata": {},
   "outputs": [
    {
     "name": "stdout",
     "output_type": "stream",
     "text": [
      "Train score : 0.9997799779977998\n",
      "Test score :  0.8136200716845878\n",
      "Validation score :  0.7932889344262295\n"
     ]
    }
   ],
   "source": [
    "#Overfit model\n",
    "clf_xg = GradientBoostingClassifier(n_estimators=100, learning_rate=1.0,\\\n",
    "                                 max_depth=3, random_state=0).fit(X_train, y_train)\n",
    "print('Train score :',clf_xg.score(X_train, y_train))\n",
    "print('Test score : ',clf_xg.score(data_test[label], data_test['Machine failure']))\n",
    "print('Validation score : ',clf_xg.score(data_valid[label], data_valid['Machine failure']))"
   ]
  },
  {
   "cell_type": "code",
   "execution_count": 271,
   "id": "275ad4e2",
   "metadata": {},
   "outputs": [
    {
     "name": "stdout",
     "output_type": "stream",
     "text": [
      "              precision    recall  f1-score   support\n",
      "\n",
      "           0       0.73      0.98      0.84       967\n",
      "           1       0.98      0.65      0.78       986\n",
      "\n",
      "    accuracy                           0.81      1953\n",
      "   macro avg       0.85      0.82      0.81      1953\n",
      "weighted avg       0.86      0.81      0.81      1953\n",
      "\n"
     ]
    }
   ],
   "source": [
    "print(classification_report(data_test['Machine failure'], clf_xg.predict(X_test)))"
   ]
  },
  {
   "cell_type": "code",
   "execution_count": 272,
   "id": "dd9a6bcc",
   "metadata": {},
   "outputs": [
    {
     "data": {
      "text/plain": [
       "<sklearn.metrics._plot.confusion_matrix.ConfusionMatrixDisplay at 0x1c5953fcfa0>"
      ]
     },
     "execution_count": 272,
     "metadata": {},
     "output_type": "execute_result"
    },
    {
     "data": {
      "image/png": "[encoded data removed]",
      "text/plain": [
       "<Figure size 432x288 with 2 Axes>"
      ]
     },
     "metadata": {
      "needs_background": "light"
     },
     "output_type": "display_data"
    }
   ],
   "source": [
    "cm_val = confusion_matrix(data_train['Machine failure'], clf_xg.predict(X_train))\n",
    "disp = ConfusionMatrixDisplay(confusion_matrix=cm_val)\n",
    "disp.plot()"
   ]
  },
  {
   "cell_type": "code",
   "execution_count": 273,
   "id": "05b5e03e",
   "metadata": {},
   "outputs": [
    {
     "data": {
      "text/plain": [
       "<sklearn.metrics._plot.confusion_matrix.ConfusionMatrixDisplay at 0x1c5964abc10>"
      ]
     },
     "execution_count": 273,
     "metadata": {},
     "output_type": "execute_result"
    },
    {
     "data": {
      "image/png": "[encoded data removed]",
      "text/plain": [
       "<Figure size 432x288 with 2 Axes>"
      ]
     },
     "metadata": {
      "needs_background": "light"
     },
     "output_type": "display_data"
    }
   ],
   "source": [
    "cm_val = confusion_matrix(data_test['Machine failure'], clf_xg.predict(X_test))\n",
    "disp = ConfusionMatrixDisplay(confusion_matrix=cm_val)\n",
    "disp.plot()"
   ]
  },
  {
   "cell_type": "code",
   "execution_count": 274,
   "id": "d62d071a",
   "metadata": {},
   "outputs": [
    {
     "data": {
      "text/plain": [
       "<sklearn.metrics._plot.confusion_matrix.ConfusionMatrixDisplay at 0x1c591b04670>"
      ]
     },
     "execution_count": 274,
     "metadata": {},
     "output_type": "execute_result"
    },
    {
     "data": {
      "image/png": "[encoded data removed]",
      "text/plain": [
       "<Figure size 432x288 with 2 Axes>"
      ]
     },
     "metadata": {
      "needs_background": "light"
     },
     "output_type": "display_data"
    }
   ],
   "source": [
    "cm_val = confusion_matrix(data_valid['Machine failure'], clf_xg.predict(X_valid))\n",
    "disp = ConfusionMatrixDisplay(confusion_matrix=cm_val)\n",
    "disp.plot()"
   ]
  },
  {
   "cell_type": "markdown",
   "id": "3323d92d",
   "metadata": {},
   "source": [
    "## 4.1 XG Boost - Tuning"
   ]
  },
  {
   "cell_type": "markdown",
   "id": "f3240d1a",
   "metadata": {},
   "source": [
    "Illustration of the effect of different regularization strategies for Gradient Boosting. The example is taken from Hastie et al 2009 1.\n",
    "\n",
    "The loss function used is binomial deviance. Regularization via shrinkage (learning_rate < 1.0) improves performance considerably. In combination with shrinkage, stochastic gradient boosting (subsample < 1.0) can produce more accurate models by reducing the variance via bagging. Subsampling without shrinkage usually does poorly. Another strategy to reduce the variance is by subsampling the features analogous to the random splits in Random Forests (via the max_features parameter).\n",
    "\n",
    "1    T. Hastie, R. Tibshirani and J. Friedman, “Elements of Statistical Learning Ed. 2”, Springer, 2009.\n"
   ]
  },
  {
   "cell_type": "code",
   "execution_count": 275,
   "id": "005d1ad3",
   "metadata": {},
   "outputs": [],
   "source": [
    "from sklearn import ensemble\n",
    "from sklearn import datasets"
   ]
  },
  {
   "cell_type": "code",
   "execution_count": 276,
   "id": "bbe7bfa3",
   "metadata": {},
   "outputs": [
    {
     "data": {
      "image/png": "[encoded data removed]",
      "text/plain": [
       "<Figure size 864x360 with 1 Axes>"
      ]
     },
     "metadata": {
      "needs_background": "light"
     },
     "output_type": "display_data"
    }
   ],
   "source": [
    "original_params = {\n",
    "    \"n_estimators\": 100,\n",
    "    \"max_depth\": 3,\n",
    "    \"random_state\": 0,\n",
    "}\n",
    "\n",
    "plt.figure(figsize =(12, 5))\n",
    "\n",
    "for label, color, setting in [\n",
    "    (\"learning_rate=1.0, subsample=0.6\", \"orange\", {\"learning_rate\": 1.0, \"subsample\": 0.6}),\n",
    "    (\"learning_rate=0.1, subsample=0.6\", \"turquoise\", {\"learning_rate\": 0.1, \"subsample\": 0.6}),\n",
    "    (\"learning_rate=1.0, subsample=0.5\", \"blue\", {\"learning_rate\": 1.0, \"subsample\": 0.5}),\n",
    "    (\n",
    "        \"learning_rate=0.2, subsample=0.2\",\n",
    "        \"gray\",\n",
    "        {\"learning_rate\": 0.2, \"subsample\": 0.5},\n",
    "    ),\n",
    "    (\n",
    "        \"learning_rate=0.2, max_features=2\",\n",
    "        \"magenta\",\n",
    "        {\"learning_rate\": 0.2, \"max_features\": 2},\n",
    "    ),\n",
    "]:\n",
    "    params = dict(original_params)\n",
    "    params.update(setting)\n",
    "\n",
    "    clf = ensemble.GradientBoostingClassifier(**params)\n",
    "    clf.fit(X_train, y_train)\n",
    "\n",
    "    # compute test set deviance\n",
    "    test_deviance = np.zeros((params[\"n_estimators\"],), dtype=np.float64)\n",
    "\n",
    "    for i, y_pred in enumerate(clf.staged_decision_function(X_test)):\n",
    "        # clf.loss_ assumes that y_test[i] in {0, 1}\n",
    "        test_deviance[i] = clf.loss_(y_test, y_pred)\n",
    "\n",
    "    plt.plot(\n",
    "        (np.arange(test_deviance.shape[0]) + 1)[::5],\n",
    "        test_deviance[::5],\n",
    "        \"-\",\n",
    "        color=color,\n",
    "        label=label,\n",
    "    )\n",
    "\n",
    "plt.legend(loc=\"upper left\")\n",
    "plt.xlabel(\"Boosting Iterations\")\n",
    "plt.ylabel(\"Test Set Deviance\")\n",
    "\n",
    "plt.show()"
   ]
  },
  {
   "cell_type": "markdown",
   "id": "727a52e8",
   "metadata": {},
   "source": [
    "## Taking learning rate = 0.2, subsample = 0.5 and max depth = 3 increses testing accuracy to 91% from 83%"
   ]
  },
  {
   "cell_type": "code",
   "execution_count": 277,
   "id": "0cad0a4b",
   "metadata": {},
   "outputs": [
    {
     "name": "stdout",
     "output_type": "stream",
     "text": [
      "Train score : 0.9870920425375871\n",
      "Test score :  0.9170506912442397\n",
      "Validation score :  0.8939549180327869\n"
     ]
    }
   ],
   "source": [
    "clf_xg = GradientBoostingClassifier(n_estimators=100, learning_rate=0.2, subsample=0.5,\\\n",
    "                                 max_depth=3, random_state=0).fit(X_train, y_train)\n",
    "clf_xg.score(X_train, y_train)\n",
    "print('Train score :',clf_xg.score(X_train, y_train))\n",
    "print('Test score : ',clf_xg.score(X_test, data_test['Machine failure']))\n",
    "print('Validation score : ',clf_xg.score(X_valid, data_valid['Machine failure']))"
   ]
  },
  {
   "cell_type": "code",
   "execution_count": 278,
   "id": "95d7b23b",
   "metadata": {},
   "outputs": [
    {
     "name": "stdout",
     "output_type": "stream",
     "text": [
      "              precision    recall  f1-score   support\n",
      "\n",
      "           0       0.89      0.95      0.92       967\n",
      "           1       0.95      0.88      0.91       986\n",
      "\n",
      "    accuracy                           0.92      1953\n",
      "   macro avg       0.92      0.92      0.92      1953\n",
      "weighted avg       0.92      0.92      0.92      1953\n",
      "\n"
     ]
    }
   ],
   "source": [
    "print(classification_report(data_test['Machine failure'], clf_xg.predict(X_test)))"
   ]
  },
  {
   "cell_type": "code",
   "execution_count": 279,
   "id": "6679b18b",
   "metadata": {},
   "outputs": [
    {
     "data": {
      "text/plain": [
       "<sklearn.metrics._plot.confusion_matrix.ConfusionMatrixDisplay at 0x1c59647fa00>"
      ]
     },
     "execution_count": 279,
     "metadata": {},
     "output_type": "execute_result"
    },
    {
     "data": {
      "image/png": "[encoded data removed]",
      "text/plain": [
       "<Figure size 432x288 with 2 Axes>"
      ]
     },
     "metadata": {
      "needs_background": "light"
     },
     "output_type": "display_data"
    }
   ],
   "source": [
    "cm_val = confusion_matrix(data_train['Machine failure'], clf_xg.predict(X_train))\n",
    "disp = ConfusionMatrixDisplay(confusion_matrix=cm_val)\n",
    "disp.plot()"
   ]
  },
  {
   "cell_type": "code",
   "execution_count": 280,
   "id": "b5f5ae71",
   "metadata": {},
   "outputs": [
    {
     "data": {
      "text/plain": [
       "<sklearn.metrics._plot.confusion_matrix.ConfusionMatrixDisplay at 0x1c5951f5be0>"
      ]
     },
     "execution_count": 280,
     "metadata": {},
     "output_type": "execute_result"
    },
    {
     "data": {
      "image/png": "[encoded data removed]",
      "text/plain": [
       "<Figure size 432x288 with 2 Axes>"
      ]
     },
     "metadata": {
      "needs_background": "light"
     },
     "output_type": "display_data"
    }
   ],
   "source": [
    "cm_val = confusion_matrix(data_test['Machine failure'], clf_xg.predict(X_test))\n",
    "disp = ConfusionMatrixDisplay(confusion_matrix=cm_val)\n",
    "disp.plot()"
   ]
  },
  {
   "cell_type": "code",
   "execution_count": 281,
   "id": "22949812",
   "metadata": {},
   "outputs": [
    {
     "data": {
      "text/plain": [
       "<sklearn.metrics._plot.confusion_matrix.ConfusionMatrixDisplay at 0x1c5966b7b20>"
      ]
     },
     "execution_count": 281,
     "metadata": {},
     "output_type": "execute_result"
    },
    {
     "data": {
      "image/png": "[encoded data removed]",
      "text/plain": [
       "<Figure size 432x288 with 2 Axes>"
      ]
     },
     "metadata": {
      "needs_background": "light"
     },
     "output_type": "display_data"
    }
   ],
   "source": [
    "cm_val = confusion_matrix(data_valid['Machine failure'], clf_xg.predict(X_valid))\n",
    "disp = ConfusionMatrixDisplay(confusion_matrix=cm_val)\n",
    "disp.plot()"
   ]
  }
 ],
 "metadata": {
  "kernelspec": {
   "display_name": "Python 3",
   "language": "python",
   "name": "python3"
  },
  "language_info": {
   "codemirror_mode": {
    "name": "ipython",
    "version": 3
   },
   "file_extension": ".py",
   "mimetype": "text/x-python",
   "name": "python",
   "nbconvert_exporter": "python",
   "pygments_lexer": "ipython3",
   "version": "3.8.8"
  }
 },
 "nbformat": 4,
 "nbformat_minor": 5
}
