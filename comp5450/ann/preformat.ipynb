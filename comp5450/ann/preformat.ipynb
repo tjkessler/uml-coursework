{
 "cells": [
  {
   "cell_type": "code",
   "execution_count": 1,
   "metadata": {},
   "outputs": [],
   "source": [
    "from csv import DictReader\n",
    "\n",
    "with open('data/subset_train.csv', 'r') as csv_file:\n",
    "    reader = DictReader(csv_file)\n",
    "    rows_train = [r for r in reader]\n",
    "csv_file.close()\n",
    "\n",
    "with open('data/subset_valid.csv', 'r') as csv_file:\n",
    "    reader = DictReader(csv_file)\n",
    "    rows_valid = [r for r in reader]\n",
    "csv_file.close()\n",
    "\n",
    "with open('data/subset_test.csv', 'r') as csv_file:\n",
    "    reader = DictReader(csv_file)\n",
    "    rows_test = [r for r in reader]\n",
    "csv_file.close()"
   ]
  },
  {
   "cell_type": "code",
   "execution_count": 2,
   "metadata": {},
   "outputs": [
    {
     "name": "stdout",
     "output_type": "stream",
     "text": [
      "6999 2000 1001 10000\n"
     ]
    }
   ],
   "source": [
    "all_rows = []\n",
    "all_rows.extend(rows_train)\n",
    "all_rows.extend(rows_valid)\n",
    "all_rows.extend(rows_test)\n",
    "\n",
    "print(len(rows_train), len(rows_valid), len(rows_test), len(all_rows))"
   ]
  },
  {
   "cell_type": "code",
   "execution_count": 3,
   "metadata": {},
   "outputs": [],
   "source": [
    "import numpy as np\n",
    "from torch.nn.functional import one_hot\n",
    "from torch import as_tensor\n",
    "\n",
    "_preformat_target = []\n",
    "for row in all_rows:\n",
    "    _preformat_target.append(\n",
    "        row['Machine failure'] +\n",
    "        row['TWF'] +\n",
    "        row['HDF'] +\n",
    "        row['PWF'] +\n",
    "        row['OSF'] +\n",
    "        row['RNF']\n",
    "    )\n",
    "_, _class_vals = np.unique(_preformat_target, return_inverse=True)\n",
    "formatted_target = one_hot(as_tensor(_class_vals)).tolist()"
   ]
  },
  {
   "cell_type": "code",
   "execution_count": 4,
   "metadata": {},
   "outputs": [
    {
     "name": "stdout",
     "output_type": "stream",
     "text": [
      "6999 2000 1001\n"
     ]
    }
   ],
   "source": [
    "n_classes = len(formatted_target[0])\n",
    "headers = [\n",
    "    '\\ufeffUDI',\n",
    "    'Product ID',\n",
    "    'Type',\n",
    "    'Air temperature [K]',\n",
    "    'Process temperature [K]',\n",
    "    'Rotational speed [rpm]',\n",
    "    'Torque [Nm]',\n",
    "    'Tool wear [min]'\n",
    "]\n",
    "for n in range(n_classes):\n",
    "    headers.append('Class_{}'.format(n))\n",
    "\n",
    "for idx in range(len(all_rows)):\n",
    "    for n in range(n_classes):\n",
    "        all_rows[idx]['Class_{}'.format(n)] = formatted_target[idx][n]\n",
    "\n",
    "for row in all_rows:\n",
    "    del row['Machine failure']\n",
    "    del row['TWF']\n",
    "    del row['HDF']\n",
    "    del row['PWF']\n",
    "    del row['OSF']\n",
    "    del row['RNF']\n",
    "\n",
    "formatted_train = all_rows[0: len(rows_train)]\n",
    "formatted_valid = all_rows[len(rows_train): len(rows_train) + len(rows_valid)]\n",
    "formatted_test = all_rows[len(rows_train) + len(rows_valid):]\n",
    "\n",
    "print(len(formatted_train), len(formatted_valid), len(formatted_test))"
   ]
  },
  {
   "cell_type": "code",
   "execution_count": 5,
   "metadata": {},
   "outputs": [],
   "source": [
    "from csv import DictWriter\n",
    "\n",
    "with open('data/formatted_train.csv', 'w', encoding='utf8') as csv_file:\n",
    "    writer = DictWriter(csv_file, headers, delimiter=',', lineterminator='\\n')\n",
    "    writer.writeheader()\n",
    "    writer.writerows(formatted_train)\n",
    "csv_file.close()\n",
    "\n",
    "with open('data/formatted_valid.csv', 'w', encoding='utf8') as csv_file:\n",
    "    writer = DictWriter(csv_file, headers, delimiter=',', lineterminator='\\n')\n",
    "    writer.writeheader()\n",
    "    writer.writerows(formatted_valid)\n",
    "csv_file.close()\n",
    "\n",
    "with open('data/formatted_test.csv', 'w', encoding='utf8') as csv_file:\n",
    "    writer = DictWriter(csv_file, headers, delimiter=',', lineterminator='\\n')\n",
    "    writer.writeheader()\n",
    "    writer.writerows(formatted_test)\n",
    "csv_file.close()"
   ]
  }
 ],
 "metadata": {
  "interpreter": {
   "hash": "0264298507758979c7bbd775c17493ab28237b3d3884403c9e80ef491775e572"
  },
  "kernelspec": {
   "display_name": "Python 3.8.8 64-bit ('torch_geometric': conda)",
   "name": "python3"
  },
  "language_info": {
   "codemirror_mode": {
    "name": "ipython",
    "version": 3
   },
   "file_extension": ".py",
   "mimetype": "text/x-python",
   "name": "python",
   "nbconvert_exporter": "python",
   "pygments_lexer": "ipython3",
   "version": "3.8.8"
  },
  "orig_nbformat": 4
 },
 "nbformat": 4,
 "nbformat_minor": 2
}
