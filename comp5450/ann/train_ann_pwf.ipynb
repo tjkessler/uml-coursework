{
 "cells": [
  {
   "cell_type": "code",
   "execution_count": 1,
   "metadata": {},
   "outputs": [],
   "source": [
    "# Load data from files\n",
    "from csv import DictReader\n",
    "\n",
    "with open('data/subset_train_expanded.csv', 'r') as csv_file:\n",
    "    reader = DictReader(csv_file)\n",
    "    rows_train = [r for r in reader]\n",
    "csv_file.close()\n",
    "\n",
    "with open('data/subset_valid_expanded.csv', 'r') as csv_file:\n",
    "    reader = DictReader(csv_file)\n",
    "    rows_valid = [r for r in reader]\n",
    "csv_file.close()\n",
    "\n",
    "with open('data/subset_test_expanded.csv', 'r') as csv_file:\n",
    "    reader = DictReader(csv_file)\n",
    "    rows_test = [r for r in reader]\n",
    "csv_file.close()"
   ]
  },
  {
   "cell_type": "code",
   "execution_count": 2,
   "metadata": {},
   "outputs": [],
   "source": [
    "# Format data into structs for training\n",
    "from structs import PMDataset\n",
    "from sklearn.preprocessing import MinMaxScaler\n",
    "import numpy as np\n",
    "\n",
    "TARGET_VAR = 'PWF'\n",
    "\n",
    "def pre_format(rows: 'List[dict]', scaler: 'MinMaxScaler' = None) -> 'Tuple[numpy.array, numpy.array]':\n",
    "\n",
    "    input_vars = [\n",
    "        'Air temperature [K]',\n",
    "        'Process temperature [K]',\n",
    "        'Rotational speed [rpm]',\n",
    "        'Torque [Nm]',\n",
    "        'Tool wear [min]'\n",
    "    ]\n",
    "\n",
    "    formatted_input = []\n",
    "    for row in rows:\n",
    "        _sample = []\n",
    "        for var in input_vars:\n",
    "            _sample.append(float(row[var]))\n",
    "        formatted_input.append(_sample)\n",
    "    formatted_input = np.asarray(formatted_input)\n",
    "    if scaler is None:\n",
    "        scaler = MinMaxScaler()\n",
    "        scaler.fit(formatted_input)\n",
    "    formatted_input = scaler.transform(formatted_input)\n",
    "\n",
    "    formatted_target = []\n",
    "    for row in rows:\n",
    "        if row[TARGET_VAR] == '0':\n",
    "            formatted_target.append([1, 0])\n",
    "        else:\n",
    "            formatted_target.append([0, 1])\n",
    "    formatted_target = np.asarray(formatted_target)\n",
    "\n",
    "    return (formatted_input, formatted_target, scaler)\n",
    "\n",
    "X_train, y_train, scaler = pre_format(rows_train)\n",
    "X_valid, y_valid, _ = pre_format(rows_valid, scaler=scaler)\n",
    "X_test, y_test, _ = pre_format(rows_test, scaler=scaler)\n",
    "\n",
    "dataset_train = PMDataset(X_train, y_train)\n",
    "dataset_valid = PMDataset(X_valid, y_valid)\n",
    "dataset_test = PMDataset(X_test, y_test)"
   ]
  },
  {
   "cell_type": "code",
   "execution_count": 3,
   "metadata": {},
   "outputs": [
    {
     "name": "stdout",
     "output_type": "stream",
     "text": [
      "Epoch: 0 | Training loss: 0.02222445549699162 | Validation loss: 2.2483628899714008e-05\n",
      "Epoch: 10 | Training loss: 0.0019198401724073602 | Validation loss: 0.00012068966495209052\n"
     ]
    }
   ],
   "source": [
    "from structs import SoftmaxMLP, train_model_validate\n",
    "\n",
    "model = SoftmaxMLP(dataset_train.X.shape[1], 32, dataset_train.y.shape[1])\n",
    "trained_model, train_loss, valid_loss = train_model_validate(model, dataset_train, dataset_valid, epochs=150, batch_size=8, patience=16, verbose=10, lr=0.001)"
   ]
  },
  {
   "cell_type": "code",
   "execution_count": 4,
   "metadata": {},
   "outputs": [
    {
     "data": {
      "text/plain": [
       "Text(0, 0.5, 'Validation Loss (BCE)')"
      ]
     },
     "execution_count": 4,
     "metadata": {},
     "output_type": "execute_result"
    },
    {
     "data": {
      "text/plain": [
       "<Figure size 432x288 with 0 Axes>"
      ]
     },
     "metadata": {},
     "output_type": "display_data"
    },
    {
     "data": {
      "image/png": "[encoded data removed]",
      "text/plain": [
       "<Figure size 432x288 with 2 Axes>"
      ]
     },
     "metadata": {
      "needs_background": "light"
     },
     "output_type": "display_data"
    }
   ],
   "source": [
    "# Plot training loss\n",
    "from matplotlib import pyplot as plt\n",
    "\n",
    "epochs = [i for i in range(len(train_loss))]\n",
    "plt.clf()\n",
    "fix, ax = plt.subplots()\n",
    "ax.plot(epochs, train_loss, color='blue')\n",
    "ax.set_xlabel('Epoch')\n",
    "ax.set_ylabel('Training Loss (BCE)', color='blue')\n",
    "ax2 = ax.twinx()\n",
    "ax2.plot(epochs, valid_loss, color='red')\n",
    "ax2.set_ylabel('Validation Loss (BCE)', color='red')"
   ]
  },
  {
   "cell_type": "code",
   "execution_count": 5,
   "metadata": {},
   "outputs": [],
   "source": [
    "y_train_hat = model(dataset_train.X).detach().numpy()\n",
    "_temp = np.zeros_like(y_train_hat)\n",
    "_temp[np.arange(len(y_train_hat)), y_train_hat.argmax(1)] = 1\n",
    "y_train_hat = [np.where(r==1)[0][0] for r in _temp]\n",
    "\n",
    "y_train = dataset_train.y.detach().numpy()\n",
    "y_train = [np.where(r==1)[0][0] for r in y_train]"
   ]
  },
  {
   "cell_type": "code",
   "execution_count": 6,
   "metadata": {},
   "outputs": [
    {
     "data": {
      "text/plain": [
       "<sklearn.metrics._plot.confusion_matrix.ConfusionMatrixDisplay at 0x7fc364e617f0>"
      ]
     },
     "execution_count": 6,
     "metadata": {},
     "output_type": "execute_result"
    },
    {
     "data": {
      "text/plain": [
       "<Figure size 432x288 with 0 Axes>"
      ]
     },
     "metadata": {},
     "output_type": "display_data"
    },
    {
     "data": {
      "image/png": "[encoded data removed]",
      "text/plain": [
       "<Figure size 432x288 with 2 Axes>"
      ]
     },
     "metadata": {
      "needs_background": "light"
     },
     "output_type": "display_data"
    }
   ],
   "source": [
    "from sklearn.metrics import confusion_matrix, classification_report, ConfusionMatrixDisplay\n",
    "\n",
    "plt.clf()\n",
    "cm = confusion_matrix(y_train, y_train_hat)\n",
    "disp = ConfusionMatrixDisplay(confusion_matrix=cm)\n",
    "disp.plot()"
   ]
  },
  {
   "cell_type": "code",
   "execution_count": 7,
   "metadata": {},
   "outputs": [],
   "source": [
    "y_valid_hat = model(dataset_valid.X).detach().numpy()\n",
    "_temp = np.zeros_like(y_valid_hat)\n",
    "_temp[np.arange(len(y_valid_hat)), y_valid_hat.argmax(1)] = 1\n",
    "y_valid_hat = [np.where(r==1)[0][0] for r in _temp]\n",
    "\n",
    "y_valid = dataset_valid.y.detach().numpy()\n",
    "y_valid = [np.where(r==1)[0][0] for r in y_valid]"
   ]
  },
  {
   "cell_type": "code",
   "execution_count": 8,
   "metadata": {},
   "outputs": [
    {
     "data": {
      "text/plain": [
       "<sklearn.metrics._plot.confusion_matrix.ConfusionMatrixDisplay at 0x7fc364f067f0>"
      ]
     },
     "execution_count": 8,
     "metadata": {},
     "output_type": "execute_result"
    },
    {
     "data": {
      "text/plain": [
       "<Figure size 432x288 with 0 Axes>"
      ]
     },
     "metadata": {},
     "output_type": "display_data"
    },
    {
     "data": {
      "image/png": "[encoded data removed]",
      "text/plain": [
       "<Figure size 432x288 with 2 Axes>"
      ]
     },
     "metadata": {
      "needs_background": "light"
     },
     "output_type": "display_data"
    }
   ],
   "source": [
    "plt.clf()\n",
    "cm = confusion_matrix(y_valid, y_valid_hat)\n",
    "disp = ConfusionMatrixDisplay(confusion_matrix=cm)\n",
    "disp.plot()"
   ]
  },
  {
   "cell_type": "code",
   "execution_count": 9,
   "metadata": {},
   "outputs": [],
   "source": [
    "y_test_hat = model(dataset_test.X).detach().numpy()\n",
    "_temp = np.zeros_like(y_test_hat)\n",
    "_temp[np.arange(len(y_test_hat)), y_test_hat.argmax(1)] = 1\n",
    "y_test_hat = [np.where(r==1)[0][0] for r in _temp]\n",
    "\n",
    "y_test = dataset_test.y.detach().numpy()\n",
    "y_test = [np.where(r==1)[0][0] for r in y_test]"
   ]
  },
  {
   "cell_type": "code",
   "execution_count": 10,
   "metadata": {},
   "outputs": [
    {
     "data": {
      "text/plain": [
       "<sklearn.metrics._plot.confusion_matrix.ConfusionMatrixDisplay at 0x7fc3650ef490>"
      ]
     },
     "execution_count": 10,
     "metadata": {},
     "output_type": "execute_result"
    },
    {
     "data": {
      "text/plain": [
       "<Figure size 432x288 with 0 Axes>"
      ]
     },
     "metadata": {},
     "output_type": "display_data"
    },
    {
     "data": {
      "image/png": "[encoded data removed]",
      "text/plain": [
       "<Figure size 432x288 with 2 Axes>"
      ]
     },
     "metadata": {
      "needs_background": "light"
     },
     "output_type": "display_data"
    }
   ],
   "source": [
    "plt.clf()\n",
    "cm = confusion_matrix(y_test, y_test_hat)\n",
    "disp = ConfusionMatrixDisplay(confusion_matrix=cm)\n",
    "disp.plot()"
   ]
  },
  {
   "cell_type": "code",
   "execution_count": 11,
   "metadata": {},
   "outputs": [
    {
     "name": "stdout",
     "output_type": "stream",
     "text": [
      "              precision    recall  f1-score   support\n",
      "\n",
      "           0       1.00      1.00      1.00     11547\n",
      "           1       0.99      1.00      0.99      2088\n",
      "\n",
      "    accuracy                           1.00     13635\n",
      "   macro avg       0.99      1.00      1.00     13635\n",
      "weighted avg       1.00      1.00      1.00     13635\n",
      "\n",
      "              precision    recall  f1-score   support\n",
      "\n",
      "           0       0.99      1.00      0.99      3498\n",
      "           1       0.98      0.93      0.95       406\n",
      "\n",
      "    accuracy                           0.99      3904\n",
      "   macro avg       0.98      0.96      0.97      3904\n",
      "weighted avg       0.99      0.99      0.99      3904\n",
      "\n",
      "              precision    recall  f1-score   support\n",
      "\n",
      "           0       0.98      1.00      0.99      1692\n",
      "           1       1.00      0.89      0.94       261\n",
      "\n",
      "    accuracy                           0.98      1953\n",
      "   macro avg       0.99      0.94      0.97      1953\n",
      "weighted avg       0.98      0.98      0.98      1953\n",
      "\n"
     ]
    }
   ],
   "source": [
    "print(classification_report(y_train, y_train_hat))\n",
    "print(classification_report(y_valid, y_valid_hat))\n",
    "print(classification_report(y_test, y_test_hat))"
   ]
  }
 ],
 "metadata": {
  "interpreter": {
   "hash": "0264298507758979c7bbd775c17493ab28237b3d3884403c9e80ef491775e572"
  },
  "kernelspec": {
   "display_name": "Python 3.8.8 64-bit ('torch_geometric': conda)",
   "name": "python3"
  },
  "language_info": {
   "codemirror_mode": {
    "name": "ipython",
    "version": 3
   },
   "file_extension": ".py",
   "mimetype": "text/x-python",
   "name": "python",
   "nbconvert_exporter": "python",
   "pygments_lexer": "ipython3",
   "version": "3.8.8"
  },
  "orig_nbformat": 4
 },
 "nbformat": 4,
 "nbformat_minor": 2
}
