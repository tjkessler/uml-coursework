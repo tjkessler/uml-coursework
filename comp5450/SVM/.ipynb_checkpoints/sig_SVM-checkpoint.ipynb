{
 "cells": [
  {
   "cell_type": "code",
   "execution_count": 26,
   "id": "c37eea13",
   "metadata": {},
   "outputs": [],
   "source": [
    "import numpy as np\n",
    "import pandas as pd\n",
    "\n",
    "from sklearn import svm\n",
    "from sklearn.model_selection import train_test_split\n",
    "from sklearn.metrics import classification_report\n",
    "from sklearn.metrics import confusion_matrix, ConfusionMatrixDisplay, multilabel_confusion_matrix\n",
    "from sklearn.preprocessing import OrdinalEncoder\n",
    "import matplotlib.pyplot as plt\n",
    "\n",
    "from sklearn.multioutput import MultiOutputClassifier"
   ]
  },
  {
   "cell_type": "code",
   "execution_count": 27,
   "id": "5f3ced6a",
   "metadata": {},
   "outputs": [],
   "source": [
    "trg_file = 'subset_train_expanded.csv'\n",
    "tst_file = 'subset_test_expanded.csv'\n",
    "val_file = 'subset_valid_expanded.csv'"
   ]
  },
  {
   "cell_type": "code",
   "execution_count": 28,
   "id": "74accbef",
   "metadata": {},
   "outputs": [],
   "source": [
    "#Loading training subset of dataset\n",
    "trg_ds = pd.read_csv(trg_file)\n",
    "tst_ds = pd.read_csv(tst_file)\n",
    "val_ds = pd.read_csv(val_file)"
   ]
  },
  {
   "cell_type": "code",
   "execution_count": 29,
   "id": "c7c5179f",
   "metadata": {},
   "outputs": [],
   "source": [
    "#Lists identifying the numerical features and labels\n",
    "#num_features = ['Air temperature [K]', 'Process temperature [K]', 'Rotational speed [rpm]','Torque [Nm]','Tool wear [min]']\n",
    "features = ['Type','Air temperature [K]', 'Process temperature [K]', 'Rotational speed [rpm]','Torque [Nm]','Tool wear [min]']\n",
    "tgts = ['Machine failure','TWF','HDF','PWF','OSF','RNF']"
   ]
  },
  {
   "cell_type": "code",
   "execution_count": 30,
   "id": "7e083837",
   "metadata": {},
   "outputs": [
    {
     "name": "stderr",
     "output_type": "stream",
     "text": [
      "C:\\Users\\Behlol\\miniconda3\\envs\\ML_PyTorch\\lib\\site-packages\\pandas\\core\\frame.py:3678: SettingWithCopyWarning: \n",
      "A value is trying to be set on a copy of a slice from a DataFrame.\n",
      "Try using .loc[row_indexer,col_indexer] = value instead\n",
      "\n",
      "See the caveats in the documentation: https://pandas.pydata.org/pandas-docs/stable/user_guide/indexing.html#returning-a-view-versus-a-copy\n",
      "  self[col] = igetitem(value, i)\n",
      "C:\\Users\\Behlol\\miniconda3\\envs\\ML_PyTorch\\lib\\site-packages\\pandas\\core\\frame.py:3678: SettingWithCopyWarning: \n",
      "A value is trying to be set on a copy of a slice from a DataFrame.\n",
      "Try using .loc[row_indexer,col_indexer] = value instead\n",
      "\n",
      "See the caveats in the documentation: https://pandas.pydata.org/pandas-docs/stable/user_guide/indexing.html#returning-a-view-versus-a-copy\n",
      "  self[col] = igetitem(value, i)\n",
      "C:\\Users\\Behlol\\miniconda3\\envs\\ML_PyTorch\\lib\\site-packages\\pandas\\core\\frame.py:3678: SettingWithCopyWarning: \n",
      "A value is trying to be set on a copy of a slice from a DataFrame.\n",
      "Try using .loc[row_indexer,col_indexer] = value instead\n",
      "\n",
      "See the caveats in the documentation: https://pandas.pydata.org/pandas-docs/stable/user_guide/indexing.html#returning-a-view-versus-a-copy\n",
      "  self[col] = igetitem(value, i)\n"
     ]
    }
   ],
   "source": [
    "#Feature vector and labels for training data. !!!Only checking for total machine failures for now\n",
    "#X_trg = trg_ds[num_features]\n",
    "X_trg = trg_ds[features]\n",
    "#y_trg = trg_ds['Machine failure']\n",
    "y_trg = trg_ds[tgts]\n",
    "\n",
    "#Feature vector and labels for test data\n",
    "#X_tst = tst_ds[num_features]\n",
    "X_tst = tst_ds[features]\n",
    "#y_tst = tst_ds['Machine failure']\n",
    "y_tst = tst_ds[tgts]\n",
    "\n",
    "\n",
    "#X_val = val_ds[num_features]\n",
    "X_val = val_ds[features]\n",
    "y_val = val_ds['Machine failure']\n",
    "y_val = val_ds[tgts]\n",
    "\n",
    "###############################\n",
    "#Finding categorical variables (Here it's only \"Type\")\n",
    "s = (X_trg.dtypes == 'object')\n",
    "object_cols = list(s[s].index)\n",
    "\n",
    "#print(\"Categorical variables:\")\n",
    "#print(object_cols)\n",
    "\n",
    "# Apply ordinal encoder to object columns\n",
    "ordinal_encoder = OrdinalEncoder()\n",
    "\n",
    "X_trg[object_cols] = ordinal_encoder.fit_transform(X_trg[object_cols])\n",
    "X_tst[object_cols] = ordinal_encoder.transform(X_tst[object_cols])\n",
    "X_val[object_cols] = ordinal_encoder.transform(X_val[object_cols])\n",
    "\n",
    "#y_trg.head()\n",
    "#X_trg.head()"
   ]
  },
  {
   "cell_type": "code",
   "execution_count": 31,
   "id": "6b20dae3",
   "metadata": {},
   "outputs": [],
   "source": [
    "clf_linSVM = svm.SVC(kernel='linear')\n",
    "\n",
    "# Make it an Multilabel classifier\n",
    "multilabel_linSVM_clf = MultiOutputClassifier(clf_linSVM, n_jobs=-1)"
   ]
  },
  {
   "cell_type": "code",
   "execution_count": 32,
   "id": "995ced0c",
   "metadata": {},
   "outputs": [],
   "source": [
    "#clf_linSVM.fit(X_trg, y_trg)\n",
    "\n",
    "# Fit the data to the Multilabel classifier\n",
    "multilabel_linSVM_clf = multilabel_linSVM_clf.fit(X_trg, y_trg)"
   ]
  },
  {
   "cell_type": "code",
   "execution_count": 76,
   "id": "8e7ab11b",
   "metadata": {},
   "outputs": [],
   "source": [
    "# Get predictions for test data\n",
    "y_tst_pred = multilabel_linSVM_clf.predict(X_tst)\n",
    "y_tst_pred = pd.DataFrame(y_tst_pred, columns = ['Machine failure','TWF','HDF','PWF','OSF','RNF'])\n",
    "\n",
    "# Generate multiclass confusion matrices\n",
    "matrices = multilabel_confusion_matrix(y_tst, y_tst_pred)\n",
    "\n",
    "#linSVM_acc_train = clf_linSVM.score(X_trg, y_trg)\n",
    "#print(\"Linear SVM Training Set Accuracy:\", linSVM_acc_train)\n",
    "#y_tst\n",
    "#y_tst_pred\n",
    "#matrices"
   ]
  },
  {
   "cell_type": "code",
   "execution_count": 37,
   "id": "ad238fa7",
   "metadata": {},
   "outputs": [
    {
     "name": "stdout",
     "output_type": "stream",
     "text": [
      "Linear SVM Test Set Accuracy: 0.7869943676395289\n"
     ]
    }
   ],
   "source": [
    "#linSVM_acc_test = clf_linSVM.score(X_tst, y_tst)\n",
    "#print(\"Linear SVM Test Set Accuracy:\", linSVM_acc_test)"
   ]
  },
  {
   "cell_type": "code",
   "execution_count": 38,
   "id": "588b1e8d",
   "metadata": {},
   "outputs": [
    {
     "name": "stdout",
     "output_type": "stream",
     "text": [
      "Linear SVM Validation Set Accuracy: 0.8155737704918032\n"
     ]
    }
   ],
   "source": [
    "#linSVM_acc_val = clf_linSVM.score(X_val, y_val)\n",
    "#print(\"Linear SVM Validation Set Accuracy:\", linSVM_acc_val)"
   ]
  },
  {
   "cell_type": "code",
   "execution_count": 77,
   "id": "710ff25a",
   "metadata": {},
   "outputs": [
    {
     "name": "stdout",
     "output_type": "stream",
     "text": [
      "                 precision    recall  f1-score   support\n",
      "\n",
      "Machine failure       0.79      0.79      0.79       986\n",
      "            TWF       0.66      0.20      0.31       145\n",
      "            HDF       0.93      1.00      0.96       290\n",
      "            PWF       0.98      1.00      0.99       261\n",
      "            OSF       0.90      0.92      0.91       377\n",
      "            RNF       0.00      0.00      0.00         0\n",
      "\n",
      "      micro avg       0.85      0.83      0.84      2059\n",
      "      macro avg       0.71      0.65      0.66      2059\n",
      "   weighted avg       0.84      0.83      0.83      2059\n",
      "    samples avg       0.45      0.40      0.42      2059\n",
      "\n"
     ]
    },
    {
     "name": "stderr",
     "output_type": "stream",
     "text": [
      "C:\\Users\\Behlol\\miniconda3\\envs\\ML_PyTorch\\lib\\site-packages\\sklearn\\metrics\\_classification.py:1308: UndefinedMetricWarning: Precision and F-score are ill-defined and being set to 0.0 in labels with no predicted samples. Use `zero_division` parameter to control this behavior.\n",
      "  _warn_prf(average, modifier, msg_start, len(result))\n",
      "C:\\Users\\Behlol\\miniconda3\\envs\\ML_PyTorch\\lib\\site-packages\\sklearn\\metrics\\_classification.py:1308: UndefinedMetricWarning: Recall and F-score are ill-defined and being set to 0.0 in labels with no true samples. Use `zero_division` parameter to control this behavior.\n",
      "  _warn_prf(average, modifier, msg_start, len(result))\n",
      "C:\\Users\\Behlol\\miniconda3\\envs\\ML_PyTorch\\lib\\site-packages\\sklearn\\metrics\\_classification.py:1308: UndefinedMetricWarning: Precision and F-score are ill-defined and being set to 0.0 in samples with no predicted labels. Use `zero_division` parameter to control this behavior.\n",
      "  _warn_prf(average, modifier, msg_start, len(result))\n",
      "C:\\Users\\Behlol\\miniconda3\\envs\\ML_PyTorch\\lib\\site-packages\\sklearn\\metrics\\_classification.py:1308: UndefinedMetricWarning: Recall and F-score are ill-defined and being set to 0.0 in samples with no true labels. Use `zero_division` parameter to control this behavior.\n",
      "  _warn_prf(average, modifier, msg_start, len(result))\n"
     ]
    }
   ],
   "source": [
    "#pred_y_tst = clf_linSVM.predict(X_tst)\n",
    "#pred_y_val = clf_linSVM.predict(X_val)\n",
    "\n",
    "#Classification report over test set\n",
    "print(classification_report(y_tst, y_tst_pred, target_names=['Machine failure','TWF','HDF','PWF','OSF','RNF']))"
   ]
  },
  {
   "cell_type": "code",
   "execution_count": 40,
   "id": "44a3d82a",
   "metadata": {},
   "outputs": [
    {
     "name": "stdout",
     "output_type": "stream",
     "text": [
      "              precision    recall  f1-score   support\n",
      "\n",
      "  Not failed       0.83      0.79      0.81      1932\n",
      "      Failed       0.80      0.84      0.82      1972\n",
      "\n",
      "    accuracy                           0.82      3904\n",
      "   macro avg       0.82      0.82      0.82      3904\n",
      "weighted avg       0.82      0.82      0.82      3904\n",
      "\n"
     ]
    }
   ],
   "source": [
    "#Classification report over validation set\n",
    "#print(classification_report(y_val, pred_y_val, target_names=['Not failed','Failed']))"
   ]
  },
  {
   "cell_type": "code",
   "execution_count": 34,
   "id": "d633896f",
   "metadata": {},
   "outputs": [],
   "source": [
    "#Classification report over test set\n",
    "#cm_tst = confusion_matrix(y_tst, pred_y_tst)\n",
    "#disp = ConfusionMatrixDisplay(confusion_matrix=cm_tst)\n",
    "#disp.plot()"
   ]
  },
  {
   "cell_type": "code",
   "execution_count": 35,
   "id": "a49cf14c",
   "metadata": {},
   "outputs": [],
   "source": [
    "#Classification report over validation set\n",
    "#cm_val = confusion_matrix(y_val, pred_y_val)\n",
    "#disp = ConfusionMatrixDisplay(confusion_matrix=cm_val)\n",
    "#disp.plot()"
   ]
  },
  {
   "cell_type": "code",
   "execution_count": 45,
   "id": "00bdcd48",
   "metadata": {},
   "outputs": [
    {
     "data": {
      "image/png": "[encoded data removed]",
      "text/plain": [
       "<Figure size 432x288 with 2 Axes>"
      ]
     },
     "metadata": {
      "needs_background": "light"
     },
     "output_type": "display_data"
    },
    {
     "data": {
      "image/png": "[encoded data removed]",
      "text/plain": [
       "<Figure size 432x288 with 2 Axes>"
      ]
     },
     "metadata": {
      "needs_background": "light"
     },
     "output_type": "display_data"
    },
    {
     "data": {
      "image/png": "[encoded data removed]",
      "text/plain": [
       "<Figure size 432x288 with 2 Axes>"
      ]
     },
     "metadata": {
      "needs_background": "light"
     },
     "output_type": "display_data"
    },
    {
     "data": {
      "image/png": "[encoded data removed]",
      "text/plain": [
       "<Figure size 432x288 with 2 Axes>"
      ]
     },
     "metadata": {
      "needs_background": "light"
     },
     "output_type": "display_data"
    },
    {
     "data": {
      "image/png": "[encoded data removed]",
      "text/plain": [
       "<Figure size 432x288 with 2 Axes>"
      ]
     },
     "metadata": {
      "needs_background": "light"
     },
     "output_type": "display_data"
    },
    {
     "data": {
      "image/png": "[encoded data removed]",
      "text/plain": [
       "<Figure size 432x288 with 2 Axes>"
      ]
     },
     "metadata": {
      "needs_background": "light"
     },
     "output_type": "display_data"
    }
   ],
   "source": [
    "# Plotting matrices: code\n",
    "cmd = ConfusionMatrixDisplay(matrices[0], display_labels=np.unique(y_tst)).plot()\n",
    "plt.title('Confusion Matrix for label 1 (Machine Failure)')\n",
    "plt.show()\n",
    "cmd = ConfusionMatrixDisplay(matrices[1], display_labels=np.unique(y_tst)).plot()\n",
    "plt.title('Confusion Matrix for label 2 (TWF)')\n",
    "plt.show()\n",
    "cmd = ConfusionMatrixDisplay(matrices[2], display_labels=np.unique(y_tst)).plot()\n",
    "plt.title('Confusion Matrix for label 3 (HDF)')\n",
    "plt.show()\n",
    "cmd = ConfusionMatrixDisplay(matrices[3], display_labels=np.unique(y_tst)).plot()\n",
    "plt.title('Confusion Matrix for label 4 (PWF)')\n",
    "plt.show()\n",
    "cmd = ConfusionMatrixDisplay(matrices[4], display_labels=np.unique(y_tst)).plot()\n",
    "plt.title('Confusion Matrix for label 5 (OSF)')\n",
    "plt.show()\n",
    "cmd = ConfusionMatrixDisplay(matrices[5], display_labels=np.unique(y_tst)).plot()\n",
    "plt.title('Confusion Matrix for label 6 (RNF)')\n",
    "plt.show()"
   ]
  },
  {
   "cell_type": "code",
   "execution_count": 37,
   "id": "bb2075c5",
   "metadata": {},
   "outputs": [
    {
     "name": "stdout",
     "output_type": "stream",
     "text": [
      "Linear SVM Training Set Accuracy: 0.7683168316831683\n"
     ]
    }
   ],
   "source": [
    "linSVM_acc_train = multilabel_linSVM_clf.score(X_trg, y_trg)\n",
    "print(\"Linear SVM Training Set Accuracy:\", linSVM_acc_train)"
   ]
  },
  {
   "cell_type": "code",
   "execution_count": 38,
   "id": "881d87a4",
   "metadata": {},
   "outputs": [
    {
     "name": "stdout",
     "output_type": "stream",
     "text": [
      "Linear SVM Test Set Accuracy: 0.7322068612391193\n"
     ]
    }
   ],
   "source": [
    "linSVM_acc_test = multilabel_linSVM_clf.score(X_tst, y_tst)\n",
    "print(\"Linear SVM Test Set Accuracy:\", linSVM_acc_test)"
   ]
  },
  {
   "cell_type": "code",
   "execution_count": 69,
   "id": "c11d9d38",
   "metadata": {},
   "outputs": [
    {
     "name": "stdout",
     "output_type": "stream",
     "text": [
      "Linear SVM Validation Set Accuracy: 0.7013319672131147\n"
     ]
    }
   ],
   "source": [
    "linSVM_acc_val = multilabel_linSVM_clf.score(X_val, y_val)\n",
    "print(\"Linear SVM Validation Set Accuracy:\", linSVM_acc_val)"
   ]
  },
  {
   "cell_type": "code",
   "execution_count": null,
   "id": "dfe03c2a",
   "metadata": {},
   "outputs": [],
   "source": []
  }
 ],
 "metadata": {
  "kernelspec": {
   "display_name": "Python 3 (ipykernel)",
   "language": "python",
   "name": "python3"
  },
  "language_info": {
   "codemirror_mode": {
    "name": "ipython",
    "version": 3
   },
   "file_extension": ".py",
   "mimetype": "text/x-python",
   "name": "python",
   "nbconvert_exporter": "python",
   "pygments_lexer": "ipython3",
   "version": "3.9.7"
  }
 },
 "nbformat": 4,
 "nbformat_minor": 5
}
