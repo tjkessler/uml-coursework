{
 "cells": [
  {
   "cell_type": "code",
   "execution_count": 1,
   "metadata": {},
   "outputs": [],
   "source": [
    "import pandas as pd\n",
    "\n",
    "train_df = pd.read_csv('subset_train_expanded.csv')\n",
    "valid_df = pd.read_csv('subset_valid_expanded.csv')\n",
    "test_df = pd.read_csv('subset_test_expanded.csv')"
   ]
  },
  {
   "cell_type": "code",
   "execution_count": 2,
   "metadata": {},
   "outputs": [],
   "source": [
    "from structs import PMDataset\n",
    "from sklearn.preprocessing import MinMaxScaler\n",
    "import numpy as np\n",
    "\n",
    "TARGET_VAR = 'RNF'\n",
    "\n",
    "INPUT_VARS = [\n",
    "    'Air temperature [K]',\n",
    "    'Process temperature [K]',\n",
    "    'Rotational speed [rpm]',\n",
    "    'Torque [Nm]',\n",
    "    'Tool wear [min]'\n",
    "]\n",
    "\n",
    "def pre_format(df: 'pd.DataFrame', scaler: 'MinMaxScaler' = None) -> 'Tuple[np.array, np.array, MinMaxScaler]':\n",
    "\n",
    "    input_samples = np.empty((len(INPUT_VARS), len(df)))\n",
    "    for idx, var in enumerate(INPUT_VARS):\n",
    "        input_samples[idx] = df[var].to_numpy()\n",
    "    input_samples = np.transpose(input_samples)\n",
    "    if scaler is None:\n",
    "        scaler = MinMaxScaler()\n",
    "        scaler.fit(input_samples)\n",
    "    input_samples = scaler.transform(input_samples)\n",
    "    input_samples = np.nan_to_num(input_samples)\n",
    "\n",
    "    target_samples = np.zeros((len(df), 2))\n",
    "    for idx, _tar in enumerate(df[TARGET_VAR].to_numpy()):\n",
    "        if _tar == 0:\n",
    "            target_samples[idx][0] = 1.0\n",
    "        else:\n",
    "            target_samples[idx][1] = 1.0\n",
    "\n",
    "    return (input_samples, target_samples, scaler)\n",
    "\n",
    "X_train, y_train, scaler = pre_format(train_df)\n",
    "X_valid, y_valid, _ = pre_format(valid_df, scaler)\n",
    "X_test, y_test, _ = pre_format(test_df, scaler)\n",
    "\n",
    "dataset_train = PMDataset(X_train, y_train)\n",
    "dataset_valid = PMDataset(X_valid, y_valid)\n",
    "dataset_test = PMDataset(X_test, y_test)"
   ]
  },
  {
   "cell_type": "code",
   "execution_count": 3,
   "metadata": {},
   "outputs": [],
   "source": [
    "from structs import SoftmaxMLP, train_model_validate\n",
    "import torch.nn as nn\n",
    "import torch\n",
    "\n",
    "def fitness_function(hparams: 'List[float]') -> float:\n",
    "\n",
    "    hidden_size = hparams[0]\n",
    "    batch_size = hparams[1]\n",
    "    lr = hparams[2]\n",
    "\n",
    "    test_loss = []\n",
    "\n",
    "    for _ in range(5):\n",
    "\n",
    "        _model = SoftmaxMLP(dataset_train.X.shape[1], hidden_size, dataset_train.y.shape[1])\n",
    "        _tr_model, _, _ = train_model_validate(\n",
    "            _model, dataset_train, dataset_valid,\n",
    "            epochs=50, batch_size=batch_size, patience=16,\n",
    "            lr=lr\n",
    "        )\n",
    "\n",
    "        _y_test_hat = _tr_model(dataset_test.X).detach().numpy()\n",
    "        _temp = np.zeros_like(_y_test_hat)\n",
    "        _temp[np.arange(len(_y_test_hat)), _y_test_hat.argmax(1)] = 1\n",
    "        _y_test_hat = [np.where(r==1)[0][0] for r in _temp]\n",
    "        _y_test = dataset_test.y.detach().numpy()\n",
    "        _y_test = [np.where(r==1)[0][0] for r in _y_test]\n",
    "\n",
    "        _y_test_hat = torch.as_tensor(_y_test_hat).type(torch.float64)\n",
    "        _y_test = torch.as_tensor(_y_test).type(torch.float64)\n",
    "\n",
    "        _loss = nn.BCELoss()\n",
    "        test_loss.append(_loss(_y_test_hat, _y_test).detach().numpy())\n",
    "\n",
    "    return np.mean(test_loss)"
   ]
  },
  {
   "cell_type": "code",
   "execution_count": 4,
   "metadata": {},
   "outputs": [
    {
     "name": "stdout",
     "output_type": "stream",
     "text": [
      "Iteration: 1 | 201.89596486091614\n",
      "Iteration: 2 | 408.0896680355072\n",
      "Iteration: 3 | 644.1375279426575\n",
      "Iteration: 4 | 833.8084428310394\n",
      "Iteration: 5 | 1024.3120958805084\n"
     ]
    }
   ],
   "source": [
    "from ecabc import ABC\n",
    "from time import time\n",
    "\n",
    "abc = ABC(5, fitness_function)\n",
    "\n",
    "abc.add_param(5, 64, restrict=True)             # size of hidden layers\n",
    "abc.add_param(8, 128, restrict=True)            # batch size\n",
    "abc.add_param(1e-6, 0.005, restrict=True)       # learning rate\n",
    "\n",
    "t_start = time()\n",
    "\n",
    "abc.initialize()\n",
    "\n",
    "ave_fitness = []\n",
    "ave_ret_val = []\n",
    "best_fitness = []\n",
    "best_ret_val = []\n",
    "best_params = []\n",
    "for i in range(5):\n",
    "    print(f'Iteration: {i + 1} | {time() - t_start}')\n",
    "    abc.search()\n",
    "    ave_fitness.append(abc.average_fitness)\n",
    "    ave_ret_val.append(abc.average_ret_val)\n",
    "    best_fitness.append(abc.best_fitness)\n",
    "    best_ret_val.append(abc.best_ret_val)\n",
    "    best_params.append(abc.best_params)\n",
    "\n",
    "best_param_vals = abc.best_params"
   ]
  },
  {
   "cell_type": "code",
   "execution_count": 5,
   "metadata": {},
   "outputs": [
    {
     "data": {
      "text/plain": [
       "<Figure size 432x288 with 0 Axes>"
      ]
     },
     "metadata": {},
     "output_type": "display_data"
    },
    {
     "data": {
      "image/png": "[encoded data removed]",
      "text/plain": [
       "<Figure size 432x288 with 4 Axes>"
      ]
     },
     "metadata": {
      "needs_background": "light"
     },
     "output_type": "display_data"
    }
   ],
   "source": [
    "from matplotlib import pyplot as plt\n",
    "\n",
    "generation = [i for i in range(len(ave_fitness))]\n",
    "\n",
    "plt.clf()\n",
    "fig, axs = plt.subplots(2, 2, sharex='col')\n",
    "axs[1, 0].set_xlabel('Generation')\n",
    "axs[1, 1].set_xlabel('Generation')\n",
    "axs[0, 0].set_ylabel('Test Set Loss (BCE)')\n",
    "axs[1, 0].set_ylabel('Fitness')\n",
    "axs[0, 0].set_title('Average')\n",
    "axs[0, 1].set_title('Best')\n",
    "\n",
    "axs[0, 0].plot(generation, ave_ret_val, color='blue')\n",
    "axs[0, 1].plot(generation, best_ret_val, color='green')\n",
    "axs[1, 0].plot(generation, ave_fitness, color='red')\n",
    "axs[1, 1].plot(generation, best_fitness, color='orange')\n",
    "\n",
    "plt.show()"
   ]
  },
  {
   "cell_type": "code",
   "execution_count": 6,
   "metadata": {},
   "outputs": [
    {
     "name": "stdout",
     "output_type": "stream",
     "text": [
      "{'P0': 59, 'P1': 49, 'P2': 0.00441129932604127}\n"
     ]
    }
   ],
   "source": [
    "hidden_size = best_param_vals['P0']\n",
    "batch_size = best_param_vals['P1']\n",
    "learning_rate = best_param_vals['P2']\n",
    "\n",
    "print(best_param_vals)\n"
   ]
  },
  {
   "cell_type": "code",
   "execution_count": 7,
   "metadata": {},
   "outputs": [
    {
     "name": "stdout",
     "output_type": "stream",
     "text": [
      "Epoch: 0 | Training loss: 0.0006944395778229413 | Validation loss: 2.6137682563457333e-06\n",
      "Epoch: 10 | Training loss: 0.0003683348020805414 | Validation loss: 2.1826713460451756e-06\n",
      "Epoch: 20 | Training loss: 0.0003520360463523406 | Validation loss: 2.0907323456323538e-06\n"
     ]
    }
   ],
   "source": [
    "model = SoftmaxMLP(dataset_train.X.shape[1], hidden_size, dataset_train.y.shape[1])\n",
    "trained_model, train_loss, valid_loss = train_model_validate(\n",
    "    model, dataset_train, dataset_valid, verbose=10,\n",
    "    epochs=100, batch_size=batch_size, patience=16,\n",
    "    lr=learning_rate\n",
    ")"
   ]
  },
  {
   "cell_type": "code",
   "execution_count": 8,
   "metadata": {},
   "outputs": [
    {
     "data": {
      "text/plain": [
       "<Figure size 432x288 with 0 Axes>"
      ]
     },
     "metadata": {},
     "output_type": "display_data"
    },
    {
     "data": {
      "image/png": "[encoded data removed]",
      "text/plain": [
       "<Figure size 432x288 with 2 Axes>"
      ]
     },
     "metadata": {
      "needs_background": "light"
     },
     "output_type": "display_data"
    }
   ],
   "source": [
    "epochs = [i for i in range(len(train_loss))]\n",
    "plt.clf()\n",
    "fig, ax = plt.subplots()\n",
    "ax.plot(epochs, train_loss, color='blue', label='Training loss')\n",
    "ax.set_xlabel('Epoch')\n",
    "ax.set_ylabel('Training Loss (BCE)')\n",
    "ax2 = ax.twinx()\n",
    "ax2.plot(epochs, valid_loss, color='red', label='Validation loss')\n",
    "ax2.set_ylabel('Validation Loss (BCE)')\n",
    "plt.show()"
   ]
  },
  {
   "cell_type": "code",
   "execution_count": 9,
   "metadata": {},
   "outputs": [],
   "source": [
    "y_train_hat = trained_model(dataset_train.X).detach().numpy()\n",
    "_temp = np.zeros_like(y_train_hat)\n",
    "_temp[np.arange(len(y_train_hat)), y_train_hat.argmax(1)] = 1\n",
    "y_train_hat = [np.where(r==1)[0][0] for r in _temp]\n",
    "\n",
    "y_train = dataset_train.y.detach().numpy()\n",
    "y_train = [np.where(r==1)[0][0] for r in y_train]"
   ]
  },
  {
   "cell_type": "code",
   "execution_count": 10,
   "metadata": {},
   "outputs": [
    {
     "data": {
      "text/plain": [
       "<sklearn.metrics._plot.confusion_matrix.ConfusionMatrixDisplay at 0x7f86bc9c0e80>"
      ]
     },
     "execution_count": 10,
     "metadata": {},
     "output_type": "execute_result"
    },
    {
     "data": {
      "text/plain": [
       "<Figure size 432x288 with 0 Axes>"
      ]
     },
     "metadata": {},
     "output_type": "display_data"
    },
    {
     "data": {
      "image/png": "[encoded data removed]",
      "text/plain": [
       "<Figure size 432x288 with 2 Axes>"
      ]
     },
     "metadata": {
      "needs_background": "light"
     },
     "output_type": "display_data"
    }
   ],
   "source": [
    "from sklearn.metrics import confusion_matrix, ConfusionMatrixDisplay\n",
    "\n",
    "plt.clf()\n",
    "cm = confusion_matrix(y_train, y_train_hat)\n",
    "disp = ConfusionMatrixDisplay(confusion_matrix=cm)\n",
    "disp.plot()"
   ]
  },
  {
   "cell_type": "code",
   "execution_count": 11,
   "metadata": {},
   "outputs": [],
   "source": [
    "y_valid_hat = model(dataset_valid.X).detach().numpy()\n",
    "_temp = np.zeros_like(y_valid_hat)\n",
    "_temp[np.arange(len(y_valid_hat)), y_valid_hat.argmax(1)] = 1\n",
    "y_valid_hat = [np.where(r==1)[0][0] for r in _temp]\n",
    "\n",
    "y_valid = dataset_valid.y.detach().numpy()\n",
    "y_valid = [np.where(r==1)[0][0] for r in y_valid]"
   ]
  },
  {
   "cell_type": "code",
   "execution_count": 12,
   "metadata": {},
   "outputs": [
    {
     "data": {
      "text/plain": [
       "<sklearn.metrics._plot.confusion_matrix.ConfusionMatrixDisplay at 0x7f86be4d2be0>"
      ]
     },
     "execution_count": 12,
     "metadata": {},
     "output_type": "execute_result"
    },
    {
     "data": {
      "text/plain": [
       "<Figure size 432x288 with 0 Axes>"
      ]
     },
     "metadata": {},
     "output_type": "display_data"
    },
    {
     "data": {
      "image/png": "[encoded data removed]",
      "text/plain": [
       "<Figure size 432x288 with 2 Axes>"
      ]
     },
     "metadata": {
      "needs_background": "light"
     },
     "output_type": "display_data"
    }
   ],
   "source": [
    "plt.clf()\n",
    "cm = confusion_matrix(y_valid, y_valid_hat)\n",
    "disp = ConfusionMatrixDisplay(confusion_matrix=cm)\n",
    "disp.plot()"
   ]
  },
  {
   "cell_type": "code",
   "execution_count": 13,
   "metadata": {},
   "outputs": [],
   "source": [
    "y_test_hat = model(dataset_test.X).detach().numpy()\n",
    "_temp = np.zeros_like(y_test_hat)\n",
    "_temp[np.arange(len(y_test_hat)), y_test_hat.argmax(1)] = 1\n",
    "y_test_hat = [np.where(r==1)[0][0] for r in _temp]\n",
    "\n",
    "y_test = dataset_test.y.detach().numpy()\n",
    "y_test = [np.where(r==1)[0][0] for r in y_test]"
   ]
  },
  {
   "cell_type": "code",
   "execution_count": 14,
   "metadata": {},
   "outputs": [
    {
     "data": {
      "text/plain": [
       "<sklearn.metrics._plot.confusion_matrix.ConfusionMatrixDisplay at 0x7f86be4ee190>"
      ]
     },
     "execution_count": 14,
     "metadata": {},
     "output_type": "execute_result"
    },
    {
     "data": {
      "text/plain": [
       "<Figure size 432x288 with 0 Axes>"
      ]
     },
     "metadata": {},
     "output_type": "display_data"
    },
    {
     "data": {
      "image/png": "[encoded data removed]",
      "text/plain": [
       "<Figure size 432x288 with 2 Axes>"
      ]
     },
     "metadata": {
      "needs_background": "light"
     },
     "output_type": "display_data"
    }
   ],
   "source": [
    "plt.clf()\n",
    "cm = confusion_matrix(y_test, y_test_hat)\n",
    "disp = ConfusionMatrixDisplay(confusion_matrix=cm)\n",
    "disp.plot()"
   ]
  },
  {
   "cell_type": "code",
   "execution_count": 15,
   "metadata": {},
   "outputs": [
    {
     "name": "stdout",
     "output_type": "stream",
     "text": [
      "              precision    recall  f1-score   support\n",
      "\n",
      "           0       1.00      1.00      1.00     13591\n",
      "           1       0.00      0.00      0.00        44\n",
      "\n",
      "    accuracy                           1.00     13635\n",
      "   macro avg       0.50      0.50      0.50     13635\n",
      "weighted avg       0.99      1.00      1.00     13635\n",
      "\n",
      "              precision    recall  f1-score   support\n",
      "\n",
      "           0       1.00      1.00      1.00      3901\n",
      "           1       0.00      0.00      0.00         3\n",
      "\n",
      "    accuracy                           1.00      3904\n",
      "   macro avg       0.50      0.50      0.50      3904\n",
      "weighted avg       1.00      1.00      1.00      3904\n",
      "\n",
      "              precision    recall  f1-score   support\n",
      "\n",
      "           0       1.00      1.00      1.00      1953\n",
      "\n",
      "    accuracy                           1.00      1953\n",
      "   macro avg       1.00      1.00      1.00      1953\n",
      "weighted avg       1.00      1.00      1.00      1953\n",
      "\n"
     ]
    },
    {
     "name": "stderr",
     "output_type": "stream",
     "text": [
      "/Users/tjkessler/anaconda3/envs/ecnet_pytorch/lib/python3.8/site-packages/sklearn/metrics/_classification.py:1245: UndefinedMetricWarning: Precision and F-score are ill-defined and being set to 0.0 in labels with no predicted samples. Use `zero_division` parameter to control this behavior.\n",
      "  _warn_prf(average, modifier, msg_start, len(result))\n",
      "/Users/tjkessler/anaconda3/envs/ecnet_pytorch/lib/python3.8/site-packages/sklearn/metrics/_classification.py:1245: UndefinedMetricWarning: Precision and F-score are ill-defined and being set to 0.0 in labels with no predicted samples. Use `zero_division` parameter to control this behavior.\n",
      "  _warn_prf(average, modifier, msg_start, len(result))\n",
      "/Users/tjkessler/anaconda3/envs/ecnet_pytorch/lib/python3.8/site-packages/sklearn/metrics/_classification.py:1245: UndefinedMetricWarning: Precision and F-score are ill-defined and being set to 0.0 in labels with no predicted samples. Use `zero_division` parameter to control this behavior.\n",
      "  _warn_prf(average, modifier, msg_start, len(result))\n",
      "/Users/tjkessler/anaconda3/envs/ecnet_pytorch/lib/python3.8/site-packages/sklearn/metrics/_classification.py:1245: UndefinedMetricWarning: Precision and F-score are ill-defined and being set to 0.0 in labels with no predicted samples. Use `zero_division` parameter to control this behavior.\n",
      "  _warn_prf(average, modifier, msg_start, len(result))\n",
      "/Users/tjkessler/anaconda3/envs/ecnet_pytorch/lib/python3.8/site-packages/sklearn/metrics/_classification.py:1245: UndefinedMetricWarning: Precision and F-score are ill-defined and being set to 0.0 in labels with no predicted samples. Use `zero_division` parameter to control this behavior.\n",
      "  _warn_prf(average, modifier, msg_start, len(result))\n",
      "/Users/tjkessler/anaconda3/envs/ecnet_pytorch/lib/python3.8/site-packages/sklearn/metrics/_classification.py:1245: UndefinedMetricWarning: Precision and F-score are ill-defined and being set to 0.0 in labels with no predicted samples. Use `zero_division` parameter to control this behavior.\n",
      "  _warn_prf(average, modifier, msg_start, len(result))\n"
     ]
    }
   ],
   "source": [
    "from sklearn.metrics import classification_report\n",
    "\n",
    "print(classification_report(y_train, y_train_hat))\n",
    "print(classification_report(y_valid, y_valid_hat))\n",
    "print(classification_report(y_test, y_test_hat))"
   ]
  },
  {
   "cell_type": "code",
   "execution_count": null,
   "metadata": {},
   "outputs": [],
   "source": []
  }
 ],
 "metadata": {
  "interpreter": {
   "hash": "0264298507758979c7bbd775c17493ab28237b3d3884403c9e80ef491775e572"
  },
  "kernelspec": {
   "display_name": "Python 3.8.8 64-bit ('torch_geometric': conda)",
   "language": "python",
   "name": "python3"
  },
  "language_info": {
   "codemirror_mode": {
    "name": "ipython",
    "version": 3
   },
   "file_extension": ".py",
   "mimetype": "text/x-python",
   "name": "python",
   "nbconvert_exporter": "python",
   "pygments_lexer": "ipython3",
   "version": "3.8.8"
  },
  "orig_nbformat": 4
 },
 "nbformat": 4,
 "nbformat_minor": 2
}
