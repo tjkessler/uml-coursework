{
 "cells": [
  {
   "cell_type": "code",
   "execution_count": 1,
   "metadata": {},
   "outputs": [],
   "source": [
    "import pandas as pd\n",
    "\n",
    "df_train = pd.read_csv('subset_train_expanded.csv')\n",
    "df_valid = pd.read_csv('subset_valid_expanded.csv')\n",
    "df_test = pd.read_csv('subset_test_expanded.csv')"
   ]
  },
  {
   "cell_type": "code",
   "execution_count": 2,
   "metadata": {},
   "outputs": [],
   "source": [
    "INPUT_VARS = [\n",
    "    'Air temperature [K]',\n",
    "    'Process temperature [K]',\n",
    "    'Rotational speed [rpm]',\n",
    "    'Torque [Nm]',\n",
    "    'Tool wear [min]'\n",
    "]\n",
    "\n",
    "X_train = df_train[INPUT_VARS]\n",
    "X_valid = df_valid[INPUT_VARS]\n",
    "X_test = df_test[INPUT_VARS]\n",
    "\n",
    "y_train = df_train['Machine failure']\n",
    "y_valid = df_valid['Machine failure']\n",
    "y_test = df_test['Machine failure']"
   ]
  },
  {
   "cell_type": "code",
   "execution_count": 3,
   "metadata": {},
   "outputs": [
    {
     "data": {
      "text/plain": [
       "LinearDiscriminantAnalysis()"
      ]
     },
     "execution_count": 3,
     "metadata": {},
     "output_type": "execute_result"
    }
   ],
   "source": [
    "from sklearn.discriminant_analysis import LinearDiscriminantAnalysis\n",
    "\n",
    "lda = LinearDiscriminantAnalysis()\n",
    "lda.fit(X_train, y_train)"
   ]
  },
  {
   "cell_type": "code",
   "execution_count": 4,
   "metadata": {},
   "outputs": [
    {
     "name": "stdout",
     "output_type": "stream",
     "text": [
      "              precision    recall  f1-score   support\n",
      "\n",
      "           0       0.82      0.83      0.83      6762\n",
      "           1       0.83      0.82      0.83      6873\n",
      "\n",
      "    accuracy                           0.83     13635\n",
      "   macro avg       0.83      0.83      0.83     13635\n",
      "weighted avg       0.83      0.83      0.83     13635\n",
      "\n",
      "              precision    recall  f1-score   support\n",
      "\n",
      "           0       0.82      0.84      0.83      1932\n",
      "           1       0.84      0.82      0.83      1972\n",
      "\n",
      "    accuracy                           0.83      3904\n",
      "   macro avg       0.83      0.83      0.83      3904\n",
      "weighted avg       0.83      0.83      0.83      3904\n",
      "\n",
      "              precision    recall  f1-score   support\n",
      "\n",
      "           0       0.80      0.82      0.81       967\n",
      "           1       0.81      0.79      0.80       986\n",
      "\n",
      "    accuracy                           0.80      1953\n",
      "   macro avg       0.81      0.81      0.80      1953\n",
      "weighted avg       0.81      0.80      0.80      1953\n",
      "\n"
     ]
    }
   ],
   "source": [
    "from sklearn.metrics import classification_report\n",
    "\n",
    "y_train_hat = lda.predict(X_train)\n",
    "y_valid_hat = lda.predict(X_valid)\n",
    "y_test_hat = lda.predict(X_test)\n",
    "\n",
    "print(classification_report(y_train, y_train_hat))\n",
    "print(classification_report(y_valid, y_valid_hat))\n",
    "print(classification_report(y_test, y_test_hat))"
   ]
  },
  {
   "cell_type": "code",
   "execution_count": 5,
   "metadata": {},
   "outputs": [],
   "source": [
    "from sklearn.metrics import accuracy_score\n",
    "\n",
    "def fitness_function(params):\n",
    "\n",
    "    tol = params[0]\n",
    "    _lda = LinearDiscriminantAnalysis(tol=tol)\n",
    "    _lda.fit(X_train, y_train)\n",
    "    _y_test_hat = _lda.predict(X_test)\n",
    "    return (1 - accuracy_score(y_test, _y_test_hat))"
   ]
  },
  {
   "cell_type": "code",
   "execution_count": 6,
   "metadata": {},
   "outputs": [
    {
     "name": "stdout",
     "output_type": "stream",
     "text": [
      "Iteration: 1 | 1637686415.09821\n",
      "Iteration: 2 | 1637686416.476316\n",
      "Iteration: 3 | 1637686417.8615181\n",
      "Iteration: 4 | 1637686419.240372\n",
      "Iteration: 5 | 1637686420.618916\n",
      "Iteration: 6 | 1637686421.9969301\n",
      "Iteration: 7 | 1637686423.394017\n",
      "Iteration: 8 | 1637686424.839606\n",
      "Iteration: 9 | 1637686426.209177\n",
      "Iteration: 10 | 1637686427.579982\n",
      "Iteration: 11 | 1637686428.945927\n",
      "Iteration: 12 | 1637686430.314429\n",
      "Iteration: 13 | 1637686431.679282\n",
      "Iteration: 14 | 1637686433.049977\n",
      "Iteration: 15 | 1637686434.4202182\n",
      "Iteration: 16 | 1637686435.785543\n",
      "Iteration: 17 | 1637686437.1628\n",
      "Iteration: 18 | 1637686438.530665\n",
      "Iteration: 19 | 1637686439.9044402\n",
      "Iteration: 20 | 1637686441.273746\n",
      "Iteration: 21 | 1637686442.641703\n",
      "Iteration: 22 | 1637686444.007923\n",
      "Iteration: 23 | 1637686445.376292\n",
      "Iteration: 24 | 1637686446.745631\n",
      "Iteration: 25 | 1637686448.116383\n",
      "Iteration: 26 | 1637686449.4871738\n",
      "Iteration: 27 | 1637686450.858751\n",
      "Iteration: 28 | 1637686452.224886\n",
      "Iteration: 29 | 1637686453.59505\n",
      "Iteration: 30 | 1637686454.96592\n",
      "Iteration: 31 | 1637686456.343901\n",
      "Iteration: 32 | 1637686457.709288\n",
      "Iteration: 33 | 1637686459.077329\n",
      "Iteration: 34 | 1637686460.448365\n",
      "Iteration: 35 | 1637686461.820982\n",
      "Iteration: 36 | 1637686463.190546\n",
      "Iteration: 37 | 1637686464.561942\n",
      "Iteration: 38 | 1637686465.9283452\n",
      "Iteration: 39 | 1637686467.29456\n",
      "Iteration: 40 | 1637686468.665974\n",
      "Iteration: 41 | 1637686470.0547662\n",
      "Iteration: 42 | 1637686471.4972842\n",
      "Iteration: 43 | 1637686472.859953\n",
      "Iteration: 44 | 1637686474.2218182\n",
      "Iteration: 45 | 1637686475.587928\n",
      "Iteration: 46 | 1637686476.9518652\n",
      "Iteration: 47 | 1637686478.3145568\n",
      "Iteration: 48 | 1637686479.740513\n",
      "Iteration: 49 | 1637686481.165353\n",
      "Iteration: 50 | 1637686482.5309079\n"
     ]
    }
   ],
   "source": [
    "from ecabc import ABC\n",
    "from time import time\n",
    "\n",
    "abc = ABC(50, fitness_function)\n",
    "abc.add_param(1e-10, 1e-1, restrict=True, name='tol')\n",
    "abc.initialize()\n",
    "\n",
    "ave_fitness = []\n",
    "ave_ret_val = []\n",
    "best_fitness = []\n",
    "best_ret_val = []\n",
    "best_params = []\n",
    "for i in range(50):\n",
    "    abc.search()\n",
    "    print(f'Iteration: {i + 1} | {time()}')\n",
    "    ave_fitness.append(abc.average_fitness)\n",
    "    ave_ret_val.append(abc.average_ret_val)\n",
    "    best_fitness.append(abc.best_fitness)\n",
    "    best_ret_val.append(abc.best_ret_val)\n",
    "    best_params.append(abc.best_params)\n",
    "\n",
    "best_param_vals = abc.best_params"
   ]
  },
  {
   "cell_type": "code",
   "execution_count": 7,
   "metadata": {},
   "outputs": [
    {
     "data": {
      "text/plain": [
       "<Figure size 432x288 with 0 Axes>"
      ]
     },
     "metadata": {},
     "output_type": "display_data"
    },
    {
     "data": {
      "image/png": "[encoded data removed]",
      "text/plain": [
       "<Figure size 432x288 with 4 Axes>"
      ]
     },
     "metadata": {
      "needs_background": "light"
     },
     "output_type": "display_data"
    }
   ],
   "source": [
    "from matplotlib import pyplot as plt\n",
    "\n",
    "generation = [i for i in range(len(ave_fitness))]\n",
    "\n",
    "plt.clf()\n",
    "fig, axs = plt.subplots(2, 2, sharex='col')\n",
    "axs[1, 0].set_xlabel('Generation')\n",
    "axs[1, 1].set_xlabel('Generation')\n",
    "axs[0, 0].set_ylabel('Test Set Accuracy')\n",
    "axs[1, 0].set_ylabel('Fitness')\n",
    "axs[0, 0].set_title('Average')\n",
    "axs[0, 1].set_title('Best')\n",
    "\n",
    "ave_test_accuracy = [1 - i for i in ave_ret_val]\n",
    "best_test_accuracy = [1 - i for i in best_ret_val]\n",
    "\n",
    "axs[0, 0].plot(generation, ave_test_accuracy, color='blue')\n",
    "axs[0, 1].plot(generation, best_test_accuracy, color='green')\n",
    "axs[1, 0].plot(generation, ave_fitness, color='red')\n",
    "axs[1, 1].plot(generation, best_fitness, color='orange')\n",
    "\n",
    "plt.show()"
   ]
  },
  {
   "cell_type": "markdown",
   "metadata": {},
   "source": [
    "Can't be tuned???"
   ]
  }
 ],
 "metadata": {
  "interpreter": {
   "hash": "ead3c86577feeba8b116590dddffe48caf8bde476dc8c2f01d399f7c56fe3aec"
  },
  "kernelspec": {
   "display_name": "Python 3.8.8 64-bit ('ecnet_pytorch': conda)",
   "language": "python",
   "name": "python3"
  },
  "language_info": {
   "codemirror_mode": {
    "name": "ipython",
    "version": 3
   },
   "file_extension": ".py",
   "mimetype": "text/x-python",
   "name": "python",
   "nbconvert_exporter": "python",
   "pygments_lexer": "ipython3",
   "version": "3.8.8"
  },
  "orig_nbformat": 4
 },
 "nbformat": 4,
 "nbformat_minor": 2
}
