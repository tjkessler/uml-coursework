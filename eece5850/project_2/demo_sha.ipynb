{
 "cells": [
  {
   "cell_type": "code",
   "execution_count": 1,
   "metadata": {},
   "outputs": [
    {
     "name": "stdout",
     "output_type": "stream",
     "text": [
      "True\n"
     ]
    }
   ],
   "source": [
    "# Shows that two hashed files with same original file are the same\n",
    "\n",
    "from sha.core import hash_file\n",
    "\n",
    "hash_file('dummy_file', 'hashed_file_1')\n",
    "hash_file('dummy_file', 'hashed_file_2')\n",
    "\n",
    "with open('hashed_file_1', 'rb') as f:\n",
    "    data_1 = f.read()\n",
    "f.close()\n",
    "with open('hashed_file_2', 'rb') as f:\n",
    "    data_2 = f.read()\n",
    "f.close()\n",
    "\n",
    "print(data_1 == data_2)"
   ]
  },
  {
   "cell_type": "code",
   "execution_count": 2,
   "metadata": {},
   "outputs": [
    {
     "name": "stdout",
     "output_type": "stream",
     "text": [
      "True\n",
      "55bc556b0d2fe0fce582ba5fe07baafff035653638c7ac0d5494c2a64c0bea1cc57331c7c12a45cdbca7f4c34a089eeb 55bc556b0d2fe0fce582ba5fe07baafff035653638c7ac0d5494c2a64c0bea1cc57331c7c12a45cdbca7f4c34a089eeb\n"
     ]
    }
   ],
   "source": [
    "# Checking whether the hashes of two identical strings are identical\n",
    "\n",
    "from sha.core import hash_bytes\n",
    "\n",
    "string_1 = b'Hello, world!'\n",
    "string_2 = b'Hello, world!'\n",
    "\n",
    "hash_1 = hash_bytes(string_1)\n",
    "hash_2 = hash_bytes(string_2)\n",
    "\n",
    "print(hash_1 == hash_2)\n",
    "print(hash_1, hash_2)"
   ]
  },
  {
   "cell_type": "code",
   "execution_count": null,
   "metadata": {},
   "outputs": [],
   "source": []
  }
 ],
 "metadata": {
  "interpreter": {
   "hash": "252b69efb517be662a91ca74889611414461adefdc1b62e7a9ebf1bc6024e96f"
  },
  "kernelspec": {
   "display_name": "Python 3.8.12 ('ecnet')",
   "language": "python",
   "name": "python3"
  },
  "language_info": {
   "codemirror_mode": {
    "name": "ipython",
    "version": 3
   },
   "file_extension": ".py",
   "mimetype": "text/x-python",
   "name": "python",
   "nbconvert_exporter": "python",
   "pygments_lexer": "ipython3",
   "version": "3.8.12"
  },
  "orig_nbformat": 4
 },
 "nbformat": 4,
 "nbformat_minor": 2
}
