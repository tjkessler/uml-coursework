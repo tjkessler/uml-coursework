{
 "cells": [
  {
   "cell_type": "code",
   "execution_count": 1,
   "metadata": {},
   "outputs": [],
   "source": [
    "# Generate 512-bit public and private keys\n",
    "\n",
    "from rsa.miller_rabin import generate_key\n",
    "\n",
    "public_key, private_key = generate_key(512)"
   ]
  },
  {
   "cell_type": "code",
   "execution_count": 2,
   "metadata": {},
   "outputs": [
    {
     "name": "stdout",
     "output_type": "stream",
     "text": [
      "True\n"
     ]
    }
   ],
   "source": [
    "# Sign a message w/ private key, verify w/ public key\n",
    "\n",
    "from rsa.core import sign_hex, decrypt_hex\n",
    "from sha.core import hash_bytes\n",
    "\n",
    "msg = b'Hello, world!'\n",
    "msg_hashed = hash_bytes(msg)\n",
    "msg_signed = sign_hex(msg_hashed, private_key)\n",
    "msg_unencrypted = decrypt_hex(msg_signed, public_key)\n",
    "\n",
    "print(msg_hashed == msg_unencrypted)"
   ]
  },
  {
   "cell_type": "code",
   "execution_count": 3,
   "metadata": {},
   "outputs": [
    {
     "name": "stdout",
     "output_type": "stream",
     "text": [
      "True\n"
     ]
    }
   ],
   "source": [
    "# Hash and sign a file w/ private key, verify w/ public key\n",
    "\n",
    "from sha.core import hash_file\n",
    "\n",
    "hash_file('dummy_file', 'hashed_file_1')\n",
    "\n",
    "with open('hashed_file_1', 'rb') as f:\n",
    "    data = f.read()\n",
    "f.close()\n",
    "\n",
    "data_hex = data.hex()\n",
    "data_signed = sign_hex(data_hex, private_key)\n",
    "data_verified = decrypt_hex(data_signed, public_key)\n",
    "\n",
    "print(data_hex == data_verified)"
   ]
  },
  {
   "cell_type": "code",
   "execution_count": null,
   "metadata": {},
   "outputs": [],
   "source": []
  }
 ],
 "metadata": {
  "interpreter": {
   "hash": "252b69efb517be662a91ca74889611414461adefdc1b62e7a9ebf1bc6024e96f"
  },
  "kernelspec": {
   "display_name": "Python 3.8.12 ('ecnet')",
   "language": "python",
   "name": "python3"
  },
  "language_info": {
   "codemirror_mode": {
    "name": "ipython",
    "version": 3
   },
   "file_extension": ".py",
   "mimetype": "text/x-python",
   "name": "python",
   "nbconvert_exporter": "python",
   "pygments_lexer": "ipython3",
   "version": "3.8.12"
  },
  "orig_nbformat": 4
 },
 "nbformat": 4,
 "nbformat_minor": 2
}
