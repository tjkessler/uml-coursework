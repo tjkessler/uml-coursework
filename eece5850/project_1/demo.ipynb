{
 "cells": [
  {
   "cell_type": "code",
   "execution_count": 1,
   "metadata": {},
   "outputs": [
    {
     "name": "stdout",
     "output_type": "stream",
     "text": [
      "My key:\n",
      "278181546922650108310146970846935538509\n",
      "\n",
      "Expanded encryption key:\n",
      "[53575, 53550, 48426, 34559, 52086, 26624, 23686, 23373, 23930, 21773, 65430, 60624, 185, 3254, 39842, 36770, 7167, 11737, 40961, 29209, 27959, 17695, 17594, 62634, 45888, 740, 13018, 28298, 16009, 30185, 21559, 65115, 51301, 46301, 5245, 4843, 53928, 28668, 46950, 32773, 47656, 64037, 55205, 20703, 63854, 52480, 2960, 52073, 19375, 19105, 49138, 56730]\n",
      "\n",
      "Expanded decryption key:\n",
      "[45333, -49138, -19105, 5276, 2960, 52073, 2163, -63854, -20703, 15344, 47656, 64037, 44604, -46950, -28668, 14564, 5245, 4843, 28882, -51301, -65115, 28922, 16009, 30185, 29248, -13018, -740, 17284, 17594, 62634, 43694, -27959, -29209, 100, 7167, 11737, 43219, -39842, -3254, 3292, 65430, 60624, 19432, -23930, -23373, 33971, 52086, 26624, 39606, -48426, -53550, 61346]\n"
     ]
    }
   ],
   "source": [
    "# Generate random 128-bit key, obtain expanded keys for encryption and decryption\n",
    "from random import getrandbits\n",
    "from src import expand_key\n",
    "\n",
    "my_key = getrandbits(128)\n",
    "encrypt_key, decrypt_key = expand_key(my_key)\n",
    "\n",
    "print(f'My key:\\n{my_key}\\n\\nExpanded encryption key:\\n{encrypt_key}\\n\\nExpanded decryption key:\\n{decrypt_key}')"
   ]
  },
  {
   "cell_type": "code",
   "execution_count": 2,
   "metadata": {},
   "outputs": [
    {
     "name": "stdout",
     "output_type": "stream",
     "text": [
      "Message:\n",
      "The quick brown fox jumped over the lazy dog\n",
      "\n",
      "Message -> 16 bit integers:\n",
      "[21608, 25888, 29045, 26979, 27424, 25202, 28535, 28192, 26223, 30752, 27253, 28016, 25956, 8303, 30309, 29216, 29800, 25888, 27745, 31353, 8292, 28519, 0, 0]\n"
     ]
    }
   ],
   "source": [
    "# Format a string into multiple 16-bit integers per IDEA requirements (i.e., first into 64-bit blocks, then sub-splitting into 16-bit blocks)\n",
    "from src import format_message\n",
    "\n",
    "my_message = 'The quick brown fox jumped over the lazy dog'\n",
    "message_fmt = format_message(my_message)\n",
    "\n",
    "print(f'Message:\\n{my_message}\\n\\nMessage -> 16 bit integers:\\n{message_fmt}')"
   ]
  },
  {
   "cell_type": "code",
   "execution_count": 3,
   "metadata": {},
   "outputs": [
    {
     "name": "stdout",
     "output_type": "stream",
     "text": [
      "ECB IDEA ENCRYPTION/DECRYPTION SUMMARY:\n",
      "16-bit int: 0   \tOriginal: 21608  \tEncrypted: 18951  \tDecrypted: 21608  \tSuccess: True\n",
      "16-bit int: 1   \tOriginal: 25888  \tEncrypted: 46608  \tDecrypted: 25888  \tSuccess: True\n",
      "16-bit int: 2   \tOriginal: 29045  \tEncrypted: 38639  \tDecrypted: 29045  \tSuccess: True\n",
      "16-bit int: 3   \tOriginal: 26979  \tEncrypted: 23677  \tDecrypted: 26979  \tSuccess: True\n",
      "16-bit int: 4   \tOriginal: 27424  \tEncrypted: 30636  \tDecrypted: 27424  \tSuccess: True\n",
      "16-bit int: 5   \tOriginal: 25202  \tEncrypted: 14221  \tDecrypted: 25202  \tSuccess: True\n",
      "16-bit int: 6   \tOriginal: 28535  \tEncrypted: 46363  \tDecrypted: 28535  \tSuccess: True\n",
      "16-bit int: 7   \tOriginal: 28192  \tEncrypted: 57821  \tDecrypted: 28192  \tSuccess: True\n",
      "16-bit int: 8   \tOriginal: 26223  \tEncrypted: 60218  \tDecrypted: 26223  \tSuccess: True\n",
      "16-bit int: 9   \tOriginal: 30752  \tEncrypted: 23471  \tDecrypted: 30752  \tSuccess: True\n",
      "16-bit int: 10   \tOriginal: 27253  \tEncrypted: 8617  \tDecrypted: 27253  \tSuccess: True\n",
      "16-bit int: 11   \tOriginal: 28016  \tEncrypted: 59648  \tDecrypted: 28016  \tSuccess: True\n",
      "16-bit int: 12   \tOriginal: 25956  \tEncrypted: 47807  \tDecrypted: 25956  \tSuccess: True\n",
      "16-bit int: 13   \tOriginal: 8303  \tEncrypted: 21298  \tDecrypted: 8303  \tSuccess: True\n",
      "16-bit int: 14   \tOriginal: 30309  \tEncrypted: 25325  \tDecrypted: 30309  \tSuccess: True\n",
      "16-bit int: 15   \tOriginal: 29216  \tEncrypted: 30226  \tDecrypted: 29216  \tSuccess: True\n",
      "16-bit int: 16   \tOriginal: 29800  \tEncrypted: 63018  \tDecrypted: 29800  \tSuccess: True\n",
      "16-bit int: 17   \tOriginal: 25888  \tEncrypted: 14273  \tDecrypted: 25888  \tSuccess: True\n",
      "16-bit int: 18   \tOriginal: 27745  \tEncrypted: 13591  \tDecrypted: 27745  \tSuccess: True\n",
      "16-bit int: 19   \tOriginal: 31353  \tEncrypted: 53748  \tDecrypted: 31353  \tSuccess: True\n",
      "16-bit int: 20   \tOriginal: 8292  \tEncrypted: 20330  \tDecrypted: 8292  \tSuccess: True\n",
      "16-bit int: 21   \tOriginal: 28519  \tEncrypted: 10915  \tDecrypted: 28519  \tSuccess: True\n",
      "16-bit int: 22   \tOriginal: 0  \tEncrypted: 29836  \tDecrypted: 0  \tSuccess: True\n",
      "16-bit int: 23   \tOriginal: 0  \tEncrypted: 3118  \tDecrypted: 0  \tSuccess: True\n"
     ]
    }
   ],
   "source": [
    "######################\n",
    "# ECB OPERATION MODE #\n",
    "######################\n",
    "\n",
    "from src import idea_crypt_block\n",
    "\n",
    "# Encrypt formatted message using encryption key, four 16-bit ints at a time\n",
    "message_enc = []\n",
    "for i in range(0, len(message_fmt), 4):\n",
    "    message_enc.extend(idea_crypt_block(\n",
    "        message_fmt[i],\n",
    "        message_fmt[i + 1],\n",
    "        message_fmt[i + 2],\n",
    "        message_fmt[i + 3],\n",
    "        encrypt_key\n",
    "    ))\n",
    "\n",
    "# Decrypt encrypted message using decryption key, four 16-bit ints at a time\n",
    "message_dec = []\n",
    "for i in range(0, len(message_enc), 4):\n",
    "    message_dec.extend(idea_crypt_block(\n",
    "        message_enc[i],\n",
    "        message_enc[i + 1],\n",
    "        message_enc[i + 2],\n",
    "        message_enc[i + 3],\n",
    "        decrypt_key\n",
    "    ))\n",
    "\n",
    "# If all true, then decrypted message is identical to original message\n",
    "print('ECB IDEA ENCRYPTION/DECRYPTION SUMMARY:')\n",
    "for i in range(len(message_fmt)):\n",
    "    print(f'16-bit int: {i}   \\tOriginal: {message_fmt[i]}  \\tEncrypted: {message_enc[i]}  \\t' +\n",
    "          f'Decrypted: {message_dec[i]}  \\tSuccess: {message_fmt[i] == message_dec[i]}')"
   ]
  },
  {
   "cell_type": "code",
   "execution_count": 4,
   "metadata": {},
   "outputs": [
    {
     "name": "stdout",
     "output_type": "stream",
     "text": [
      "CBC IDEA ENCRYPTION/DECRYPTION SUMMARY:\n",
      "16-bit int: 0   \tOriginal: 21608  \tEncrypted: 37542  \tDecrypted: 21608  \tSuccess: True\n",
      "16-bit int: 1   \tOriginal: 25888  \tEncrypted: 9814  \tDecrypted: 25888  \tSuccess: True\n",
      "16-bit int: 2   \tOriginal: 29045  \tEncrypted: 28982  \tDecrypted: 29045  \tSuccess: True\n",
      "16-bit int: 3   \tOriginal: 26979  \tEncrypted: 7211  \tDecrypted: 26979  \tSuccess: True\n",
      "16-bit int: 4   \tOriginal: 27424  \tEncrypted: 63004  \tDecrypted: 27424  \tSuccess: True\n",
      "16-bit int: 5   \tOriginal: 25202  \tEncrypted: 50721  \tDecrypted: 25202  \tSuccess: True\n",
      "16-bit int: 6   \tOriginal: 28535  \tEncrypted: 56630  \tDecrypted: 28535  \tSuccess: True\n",
      "16-bit int: 7   \tOriginal: 28192  \tEncrypted: 22685  \tDecrypted: 28192  \tSuccess: True\n",
      "16-bit int: 8   \tOriginal: 26223  \tEncrypted: 42731  \tDecrypted: 26223  \tSuccess: True\n",
      "16-bit int: 9   \tOriginal: 30752  \tEncrypted: 55044  \tDecrypted: 30752  \tSuccess: True\n",
      "16-bit int: 10   \tOriginal: 27253  \tEncrypted: 4433  \tDecrypted: 27253  \tSuccess: True\n",
      "16-bit int: 11   \tOriginal: 28016  \tEncrypted: 3701  \tDecrypted: 28016  \tSuccess: True\n",
      "16-bit int: 12   \tOriginal: 25956  \tEncrypted: 3305  \tDecrypted: 25956  \tSuccess: True\n",
      "16-bit int: 13   \tOriginal: 8303  \tEncrypted: 25193  \tDecrypted: 8303  \tSuccess: True\n",
      "16-bit int: 14   \tOriginal: 30309  \tEncrypted: 34753  \tDecrypted: 30309  \tSuccess: True\n",
      "16-bit int: 15   \tOriginal: 29216  \tEncrypted: 11233  \tDecrypted: 29216  \tSuccess: True\n",
      "16-bit int: 16   \tOriginal: 29800  \tEncrypted: 61042  \tDecrypted: 29800  \tSuccess: True\n",
      "16-bit int: 17   \tOriginal: 25888  \tEncrypted: 13264  \tDecrypted: 25888  \tSuccess: True\n",
      "16-bit int: 18   \tOriginal: 27745  \tEncrypted: 63435  \tDecrypted: 27745  \tSuccess: True\n",
      "16-bit int: 19   \tOriginal: 31353  \tEncrypted: 5416  \tDecrypted: 31353  \tSuccess: True\n",
      "16-bit int: 20   \tOriginal: 8292  \tEncrypted: 7196  \tDecrypted: 8292  \tSuccess: True\n",
      "16-bit int: 21   \tOriginal: 28519  \tEncrypted: 17429  \tDecrypted: 28519  \tSuccess: True\n",
      "16-bit int: 22   \tOriginal: 0  \tEncrypted: 39354  \tDecrypted: 0  \tSuccess: True\n",
      "16-bit int: 23   \tOriginal: 0  \tEncrypted: 58642  \tDecrypted: 0  \tSuccess: True\n"
     ]
    }
   ],
   "source": [
    "######################\n",
    "# CBC OPERATION MODE #\n",
    "######################\n",
    "\n",
    "# Generate initialization vector, four 16-bit integers\n",
    "init_vector = [getrandbits(16) for _ in range(4)]\n",
    "\n",
    "# Encrypt the message, four 16-bit ints at a time\n",
    "message_enc = []\n",
    "_forward = init_vector\n",
    "for i in range(0, len(message_fmt), 4):\n",
    "    message_enc.extend(idea_crypt_block(\n",
    "        _forward[0] ^ message_fmt[i],\n",
    "        _forward[1] ^ message_fmt[i + 1],\n",
    "        _forward[2] ^ message_fmt[i + 2],\n",
    "        _forward[3] ^ message_fmt[i + 3],\n",
    "        encrypt_key\n",
    "    ))\n",
    "    _forward = message_enc[-4:]\n",
    "\n",
    "# Decrypt the message, four 16-bit ints at a time\n",
    "message_dec = []\n",
    "_forward = init_vector\n",
    "for i in range(0, len(message_enc), 4):\n",
    "    _res = idea_crypt_block(\n",
    "        message_enc[i],\n",
    "        message_enc[i + 1],\n",
    "        message_enc[i + 2],\n",
    "        message_enc[i + 3],\n",
    "        decrypt_key\n",
    "    )\n",
    "    message_dec.extend([_forward[j] ^ _res[j] for j in range(4)])\n",
    "    _forward = message_enc[i: i + 4]\n",
    "\n",
    "# If all true, then decrypted message is identical to original message\n",
    "print('CBC IDEA ENCRYPTION/DECRYPTION SUMMARY:')\n",
    "for i in range(len(message_fmt)):\n",
    "    print(f'16-bit int: {i}   \\tOriginal: {message_fmt[i]}  \\tEncrypted: {message_enc[i]}  \\t' +\n",
    "          f'Decrypted: {message_dec[i]}  \\tSuccess: {message_fmt[i] == message_dec[i]}')"
   ]
  },
  {
   "cell_type": "code",
   "execution_count": 5,
   "metadata": {},
   "outputs": [],
   "source": [
    "# Obtain encryption and decryption time vs. length of message data, ECB operation\n",
    "import random\n",
    "from string import ascii_letters\n",
    "import time\n",
    "\n",
    "string = ''\n",
    "delta_enc = []\n",
    "delta_dec = []\n",
    "for _ in range(5000):\n",
    "\n",
    "    string += random.choices(ascii_letters, k=1)[0]\n",
    "    message_fmt = format_message(string)\n",
    "\n",
    "    message_enc = []\n",
    "    t_enc_start = time.time()\n",
    "    for i in range(0, len(message_fmt), 4):\n",
    "        message_enc.extend(idea_crypt_block(\n",
    "            message_fmt[i],\n",
    "            message_fmt[i + 1],\n",
    "            message_fmt[i + 2],\n",
    "            message_fmt[i + 3],\n",
    "            encrypt_key\n",
    "        ))\n",
    "    t_enc_end = time.time()\n",
    "    delta_enc.append(t_enc_end - t_enc_start)\n",
    "\n",
    "    message_dec = []\n",
    "    t_dec_start = time.time()\n",
    "    for i in range(0, len(message_enc), 4):\n",
    "        message_dec.extend(idea_crypt_block(\n",
    "            message_enc[i],\n",
    "            message_enc[i + 1],\n",
    "            message_enc[i + 2],\n",
    "            message_enc[i + 3],\n",
    "            decrypt_key\n",
    "        ))\n",
    "    t_dec_end = time.time()\n",
    "    delta_dec.append(t_dec_end - t_dec_start)"
   ]
  },
  {
   "cell_type": "code",
   "execution_count": 6,
   "metadata": {},
   "outputs": [
    {
     "data": {
      "image/png": "[encoded data removed]",
      "text/plain": [
       "<Figure size 432x288 with 1 Axes>"
      ]
     },
     "metadata": {
      "needs_background": "light"
     },
     "output_type": "display_data"
    }
   ],
   "source": [
    "# Plot above data\n",
    "from matplotlib import pyplot as plt\n",
    "\n",
    "delta_enc_m = [d * 100 for d in delta_enc]\n",
    "delta_dec_m = [d * 100 for d in delta_dec]\n",
    "\n",
    "last_enc = delta_enc_m[-1]\n",
    "last_dec = delta_dec_m[-1]\n",
    "\n",
    "plt.clf()\n",
    "plt.rcParams['font.family'] = 'Times New Roman'\n",
    "plt.xlabel('Number of ASCII characters in message')\n",
    "plt.ylabel('Time to complete task (milliseconds)')\n",
    "plt.plot([i for i in range(1, len(delta_enc_m) + 1)], delta_enc_m, label='Message Encoding', color='red', alpha=0.4)\n",
    "plt.plot([i for i in range(1, len(delta_enc_m) + 1)], delta_dec_m, label='Message Decoding', color='blue', alpha=0.4)\n",
    "plt.legend(loc='upper left')\n",
    "plt.show()"
   ]
  },
  {
   "cell_type": "code",
   "execution_count": 7,
   "metadata": {},
   "outputs": [],
   "source": [
    "# Obtain encryption and decryption time vs. length of message data, CBC operation\n",
    "\n",
    "string = ''\n",
    "delta_enc = []\n",
    "delta_dec = []\n",
    "for _ in range(5000):\n",
    "\n",
    "    string += random.choices(ascii_letters, k=1)[0]\n",
    "    message_fmt = format_message(string)\n",
    "\n",
    "    init_vector = [getrandbits(16) for _ in range(4)]\n",
    "\n",
    "    message_enc = []\n",
    "    _forward = init_vector\n",
    "    t_enc_start = time.time()\n",
    "    for i in range(0, len(message_fmt), 4):\n",
    "        message_enc.extend(idea_crypt_block(\n",
    "            _forward[0] ^ message_fmt[i],\n",
    "            _forward[1] ^ message_fmt[i + 1],\n",
    "            _forward[2] ^ message_fmt[i + 2],\n",
    "            _forward[3] ^ message_fmt[i + 3],\n",
    "            encrypt_key\n",
    "        ))\n",
    "        _forward = message_enc[-4:]\n",
    "    t_enc_end = time.time()\n",
    "    delta_enc.append(t_enc_end - t_enc_start)\n",
    "\n",
    "    message_dec = []\n",
    "    _forward = init_vector\n",
    "    t_dec_start = time.time()\n",
    "    for i in range(0, len(message_enc), 4):\n",
    "        _res = idea_crypt_block(\n",
    "            message_enc[i],\n",
    "            message_enc[i + 1],\n",
    "            message_enc[i + 2],\n",
    "            message_enc[i + 3],\n",
    "            decrypt_key\n",
    "        )\n",
    "        message_dec.extend([_forward[j] ^ _res[j] for j in range(4)])\n",
    "        _forward = message_enc[i: i + 4]\n",
    "    t_dec_end = time.time()\n",
    "    delta_dec.append(t_dec_end - t_dec_start)"
   ]
  },
  {
   "cell_type": "code",
   "execution_count": 8,
   "metadata": {},
   "outputs": [
    {
     "data": {
      "image/png": "[encoded data removed]",
      "text/plain": [
       "<Figure size 432x288 with 1 Axes>"
      ]
     },
     "metadata": {
      "needs_background": "light"
     },
     "output_type": "display_data"
    }
   ],
   "source": [
    "# Plot above data\n",
    "from matplotlib import pyplot as plt\n",
    "\n",
    "delta_enc_m = [d * 100 for d in delta_enc]\n",
    "delta_dec_m = [d * 100 for d in delta_dec]\n",
    "\n",
    "plt.clf()\n",
    "plt.rcParams['font.family'] = 'Times New Roman'\n",
    "plt.xlabel('Number of ASCII characters in message')\n",
    "plt.ylabel('Time to complete task (milliseconds)')\n",
    "plt.plot([i for i in range(1, len(delta_enc_m) + 1)], delta_enc_m, label='Message Encoding', color='red', alpha=0.4)\n",
    "plt.plot([i for i in range(1, len(delta_enc_m) + 1)], delta_dec_m, label='Message Decoding', color='blue', alpha=0.4)\n",
    "plt.legend(loc='upper left')\n",
    "plt.show()"
   ]
  },
  {
   "cell_type": "code",
   "execution_count": 9,
   "metadata": {},
   "outputs": [
    {
     "name": "stdout",
     "output_type": "stream",
     "text": [
      "0.06292604685799393\n",
      "0.0020770280695507687\n"
     ]
    }
   ],
   "source": [
    "# % difference between encoding and decoding, CBC\n",
    "print(abs(delta_enc_m[-1] - delta_dec_m[-1]) / delta_enc_m[-1])\n",
    "# % difference between encoding and decoding, ECB\n",
    "print(abs(last_enc - last_dec) / last_enc)"
   ]
  },
  {
   "cell_type": "code",
   "execution_count": 10,
   "metadata": {},
   "outputs": [
    {
     "name": "stdout",
     "output_type": "stream",
     "text": [
      "0.035962257432793306\n",
      "0.09886888546725098\n"
     ]
    }
   ],
   "source": [
    "# % difference between CBC and ECB, encoding\n",
    "print(abs(last_enc - delta_enc_m[-1]) / last_enc)\n",
    "\n",
    "# % difference between CBC and ECB, decoding\n",
    "print(abs(last_dec - delta_dec_m[-1]) / last_dec)"
   ]
  },
  {
   "cell_type": "code",
   "execution_count": 11,
   "metadata": {},
   "outputs": [
    {
     "name": "stdout",
     "output_type": "stream",
     "text": [
      "0.06741557145002214\n"
     ]
    }
   ],
   "source": [
    "# Average % difference between ECB and CBC\n",
    "print((abs((last_enc - delta_enc_m[-1]) / last_enc) + (abs(last_dec - delta_dec_m[-1])) / last_dec) / 2)"
   ]
  },
  {
   "cell_type": "code",
   "execution_count": null,
   "metadata": {},
   "outputs": [],
   "source": []
  }
 ],
 "metadata": {
  "interpreter": {
   "hash": "252b69efb517be662a91ca74889611414461adefdc1b62e7a9ebf1bc6024e96f"
  },
  "kernelspec": {
   "display_name": "Python 3.8.12 ('ecnet')",
   "language": "python",
   "name": "python3"
  },
  "language_info": {
   "codemirror_mode": {
    "name": "ipython",
    "version": 3
   },
   "file_extension": ".py",
   "mimetype": "text/x-python",
   "name": "python",
   "nbconvert_exporter": "python",
   "pygments_lexer": "ipython3",
   "version": "3.8.12"
  },
  "orig_nbformat": 4
 },
 "nbformat": 4,
 "nbformat_minor": 2
}
